{
 "cells": [
  {
   "cell_type": "markdown",
   "metadata": {
    "slideshow": {
     "slide_type": "slide"
    }
   },
   "source": [
    "# Signal region MC contributions\n",
    "\n",
    "Kak W., 2018-09-18"
   ]
  },
  {
   "cell_type": "markdown",
   "metadata": {
    "slideshow": {
     "slide_type": "slide"
    }
   },
   "source": [
    "\n",
    " - Compare to Yongbin's result\n",
    " - assume integrated luminosity of 35.9 $fb^{-1}$\n",
    " "
   ]
  },
  {
   "cell_type": "markdown",
   "metadata": {
    "slideshow": {
     "slide_type": "fragment"
    }
   },
   "source": [
    "### Sample Pre-selection\n",
    "- METFilter applied\n",
    "- Trigger: HLT_Ele27_eta2p1_WPTight_Gsf\n",
    "- Overlap removal with dR<0.4, in the preference of muon over electron over photon over jets\n",
    "- at least 1 photon object and only 1 electron object required\n",
    "- no muons in sample\n",
    "- cut-based working points\n",
    "- photon: medium, pT>20  \n",
    "- electron: medium, pT>10 (will move to tight)\n",
    "- muon: tight, pT> 25"
   ]
  },
  {
   "cell_type": "markdown",
   "metadata": {
    "slideshow": {
     "slide_type": "slide"
    }
   },
   "source": [
    "### Signal region cuts (e channel)\n",
    "\n",
    "Copied from Yongbin's slide\n",
    "\n",
    " - only one barrel photon $p_{T}$ > 50\n",
    " - inverse Z mass cut (center = 91GeV, width = 15)\n",
    " - photon passing electron veto (Pixel Seed/ CSEV)\n",
    " - $p^{miss}_{T}$ > 25GeV\n",
    " "
   ]
  },
  {
   "cell_type": "markdown",
   "metadata": {
    "slideshow": {
     "slide_type": "fragment"
    }
   },
   "source": [
    "⭕️ __PU and NLO weights applied __"
   ]
  },
  {
   "cell_type": "markdown",
   "metadata": {
    "slideshow": {
     "slide_type": "subslide"
    }
   },
   "source": [
    "### MC samples:\n",
    "- ZGTo2LG_TuneCUETP8M1_13TeV-amcatnloFXFX-pythia8/\n",
    "- DYJetsToLL_M-50_TuneCUETP8M1_13TeV-madgraphMLM-pythia8/ \n",
    "- WGamma\n",
    "  - WGToLNuG_TuneCUETP8M1_13TeV-amcatnloFXFX-pythia8PhCutMax/\n",
    "  - WGToLNuG_PtG-130_TuneCUETP8M1_13TeV-amcatnloFXFX-pythia8PhCutMaxPhCutMin/\n",
    "  - WGToLNuG_PtG-500_TuneCUETP8M1_13TeV-amcatnloFXFX-pythia8PhCutMin/\n",
    "- WJets\n",
    "   - WJetsToLNu_TuneCUETP8M1_13TeV-madgraphMLM-pythia8TrueHTOlapPhOlap/\n",
    "   - WJetsToLNu_HT-100To200_TuneCUETP8M1_13TeV-madgraphMLM-pythia8PhOlap/\n",
    "   - WJetsToLNu_HT-200To400_TuneCUETP8M1_13TeV-madgraphMLM-pythia8PhOlap/\n",
    "   - WJetsToLNu_HT-400To600_TuneCUETP8M1_13TeV-madgraphMLM-pythia8PhOlap/\n",
    "   - WJetsToLNu_HT-600To800_TuneCUETP8M1_13TeV-madgraphMLM-pythia8PhOlap/\n",
    "   - WJetsToLNu_HT-800To1200_TuneCUETP8M1_13TeV-madgraphMLM-pythia8PhOlap/\n",
    "   - WJetsToLNu_HT-1200To2500_TuneCUETP8M1_13TeV-madgraphMLM-pythia8PhOlap/\n",
    "   - WJetsToLNu_HT-2500ToInf_TuneCUETP8M1_13TeV-madgraphMLM-pythia8PhOlap/\n",
    "- GJets\n",
    "   - GJets_HT-40To100_TuneCUETP8M1_13TeV-madgraphMLM-pythia8/\n",
    "   - GJets_HT-100To200_TuneCUETP8M1_13TeV-madgraphMLM-pythia8/\n",
    "   - GJets_HT-200To400_TuneCUETP8M1_13TeV-madgraphMLM-pythia8/\n",
    "   - GJets_HT-400To600_TuneCUETP8M1_13TeV-madgraphMLM-pythia8/\n",
    "   - GJets_HT-600ToInf_TuneCUETP8M1_13TeV-madgraphMLM-pythia8/\n",
    "- DiPhotonJets_MGG-80toInf_13TeV_amcatnloFXFX_pythia8/\n",
    "- TTJets\n",
    "  - TTJets_DiLept_TuneCUETP8M1_13TeV-madgraphMLM-pythia8PhOlap/\n",
    "  - TTJets_SingleLeptFromTbar_TuneCUETP8M1_13TeV-madgraphMLM-pythia8PhOlap/\n",
    "  - TTJets_SingleLeptFromT_TuneCUETP8M1_13TeV-madgraphMLM-pythia8PhOlap/\n"
   ]
  },
  {
   "cell_type": "markdown",
   "metadata": {
    "slideshow": {
     "slide_type": "skip"
    }
   },
   "source": [
    "## Import Samples"
   ]
  },
  {
   "cell_type": "code",
   "execution_count": 1,
   "metadata": {
    "collapsed": false,
    "slideshow": {
     "slide_type": "skip"
    }
   },
   "outputs": [
    {
     "name": "stdout",
     "output_type": "stream",
     "text": [
      "/home/kakw/efake/WG_Analysis/Plotting\n"
     ]
    }
   ],
   "source": [
    "cd /home/kakw/efake/WG_Analysis/Plotting"
   ]
  },
  {
   "cell_type": "code",
   "execution_count": 2,
   "metadata": {
    "collapsed": false,
    "scrolled": true,
    "slideshow": {
     "slide_type": "subslide"
    }
   },
   "outputs": [
    {
     "name": "stdout",
     "output_type": "stream",
     "text": [
      "Welcome to JupyROOT 6.10/05\n",
      "-------------------------------------\n",
      " LOAD CROSS SECTION INFO\n",
      "-------------------------------------\n",
      "DYJetsToLL_M-50                xsec : 5.77e+03 pb Nevent : 49144274 lumi : 8.52e+03 scale :     4.21\n",
      "ZGTo2LG                        xsec :      118 pb Nevent : 9321494  lumi : 7.91e+04 scale :    0.454\n",
      "TTJets_DiLept                  xsec :     85.7 pb Nevent : 6094476  lumi : 7.11e+04 scale :    0.505\n",
      "TTJets_SingleLeptFromT         xsec :      179 pb Nevent : 11957043 lumi : 6.69e+04 scale :    0.537\n",
      "TTJets_SingleLeptFromTbar      xsec :      179 pb Nevent : 46455353 lumi :  2.6e+05 scale :    0.138\n",
      "TTGJets                        xsec :      3.7 pb Nevent : 1577833  lumi : 4.27e+05 scale :   0.0841\n",
      "WWTo2L2Nu                      xsec :     12.2 pb Nevent : 1        lumi :   0.0821 scale : 4.37e+05\n",
      "WGToLNuG-amcatnloFXFX          xsec :      822 pb Nevent : 3235156  lumi : 3.94e+03 scale :     9.12\n",
      "WGToLNuG-madgraphMLM           xsec :      405 pb Nevent : 6103817  lumi : 1.51e+04 scale :     2.38\n",
      "WGToLNuG_PtG-130-amcatnloFXFX  xsec :     2.02 pb Nevent : 841701   lumi : 4.16e+05 scale :   0.0864\n",
      "WGToLNuG_PtG-130-madgraphMLM   xsec :    0.795 pb Nevent : 1645059  lumi : 2.07e+06 scale :   0.0174\n",
      "WGToLNuG_PtG-500-amcatnloFXFX  xsec :   0.0177 pb Nevent : 827560   lumi : 4.68e+07 scale : 0.000768\n",
      "WGToLNuG_PtG-500-madgraphMLM   xsec :  0.00849 pb Nevent : 1393505  lumi : 1.64e+08 scale : 0.000219\n",
      "WWG                            xsec :    0.215 pb Nevent : 827630   lumi : 3.85e+06 scale :  0.00931\n",
      "WJetsToLNu-madgraphMLM         xsec : 6.15e+04 pb Nevent : 29705748 lumi :      483 scale :     74.4\n",
      "WJetsToLNu-amcatnloFXFX        xsec : 6.15e+04 pb Nevent : 12965572 lumi :      211 scale :      170\n",
      "WJetsToLNu_HT-100To200         xsec : 1.33e+03 pb Nevent : 10235198 lumi : 7.72e+03 scale :     4.65\n",
      "WJetsToLNu_HT-200To400         xsec :      428 pb Nevent : 4950373  lumi : 1.16e+04 scale :      3.1\n",
      "WJetsToLNu_HT-400To600         xsec :     63.9 pb Nevent : 1963464  lumi : 3.07e+04 scale :     1.17\n",
      "WJetsToLNu_HT-600To800         xsec :     16.3 pb Nevent : 3779141  lumi : 2.32e+05 scale :    0.155\n",
      "WJetsToLNu_HT-800To1200        xsec :     7.48 pb Nevent : 1544513  lumi : 2.06e+05 scale :    0.174\n",
      "WJetsToLNu_HT-1200To2500       xsec :     1.79 pb Nevent : 244532   lumi : 1.36e+05 scale :    0.263\n",
      "WJetsToLNu_HT-2500ToInf        xsec :   0.0404 pb Nevent : 253561   lumi : 6.28e+06 scale :  0.00572\n",
      "WJetsToLNu_Pt-100To250         xsec :      676 pb Nevent : 3644567  lumi : 5.39e+03 scale :     6.66\n",
      "GJets_HT-40To100               xsec : 2.07e+04 pb Nevent : 4467985  lumi :      216 scale :      167\n",
      "GJets_HT-100To200              xsec : 9.23e+03 pb Nevent : 5131873  lumi :      556 scale :     64.5\n",
      "GJets_HT-200To400              xsec :  2.3e+03 pb Nevent : 10036487 lumi : 4.36e+03 scale :     8.23\n",
      "GJets_HT-400To600              xsec :      277 pb Nevent : 2529729  lumi : 9.12e+03 scale :     3.94\n",
      "GJets_HT-600ToInf              xsec :     93.4 pb Nevent : 2463946  lumi : 2.64e+04 scale :     1.36\n",
      "DiPhoton                       xsec :       84 pb Nevent : 19410854 lumi : 2.31e+05 scale :    0.155\n",
      "ResonanceMass200               xsec :   0.0219 pb Nevent : 50000    lumi : 2.28e+05 scale :    0.157\n",
      "ResonanceMass250               xsec :  0.00773 pb Nevent : 50000    lumi : 6.47e+05 scale :   0.0555\n",
      "ResonanceMass300               xsec :  0.00307 pb Nevent : 50000    lumi : 1.63e+06 scale :   0.0221\n",
      "ResonanceMass350               xsec :  0.00147 pb Nevent : 50000    lumi :  3.4e+06 scale :   0.0106\n",
      "ResonanceMass400               xsec : 0.000679 pb Nevent : 50000    lumi : 7.36e+06 scale :  0.00488\n",
      "ResonanceMass450               xsec :  0.00429 pb Nevent : 50000    lumi : 1.17e+06 scale :   0.0308\n",
      "ResonanceMass500               xsec :  0.00242 pb Nevent : 50000    lumi : 2.07e+06 scale :   0.0174\n",
      "ResonanceMass600               xsec :  0.00095 pb Nevent : 50000    lumi : 5.26e+06 scale :  0.00682\n",
      "ResonanceMass700               xsec : 0.000472 pb Nevent : 50000    lumi : 1.06e+07 scale :  0.00339\n",
      "ResonanceMass800               xsec :  0.00373 pb Nevent : 50000    lumi : 1.34e+06 scale :   0.0268\n",
      "ResonanceMass900               xsec :  0.00113 pb Nevent : 50000    lumi : 4.42e+06 scale :  0.00812\n",
      "ResonanceMass1000              xsec : 0.000748 pb Nevent : 50000    lumi : 6.69e+06 scale :  0.00537\n",
      "ResonanceMass1200              xsec : 0.000262 pb Nevent : 50000    lumi : 1.91e+07 scale :  0.00188\n",
      "ResonanceMass1400              xsec : 0.000117 pb Nevent : 50000    lumi : 4.27e+07 scale :  0.00084\n",
      "ResonanceMass1600              xsec : 5.42e-05 pb Nevent : 50000    lumi : 9.22e+07 scale : 0.000389\n",
      "ResonanceMass1800              xsec : 0.000252 pb Nevent : 50000    lumi : 1.98e+07 scale :  0.00181\n",
      "ResonanceMass2000              xsec : 0.000172 pb Nevent : 50000    lumi :  2.9e+07 scale :  0.00124\n",
      "ResonanceMass2200              xsec : 5.99e-05 pb Nevent : 50000    lumi : 8.34e+07 scale :  0.00043\n",
      "ResonanceMass2400              xsec : 4.68e-05 pb Nevent : 50000    lumi : 1.07e+08 scale : 0.000336\n",
      "ResonanceMass2600              xsec :  0.00023 pb Nevent : 50000    lumi : 2.17e+07 scale :  0.00165\n",
      "ResonanceMass2800              xsec : 0.000136 pb Nevent : 50000    lumi : 3.69e+07 scale : 0.000974\n",
      "ResonanceMass3000              xsec : 7.12e-05 pb Nevent : 50000    lumi : 7.02e+07 scale : 0.000511\n",
      "ResonanceMass3500              xsec :  2.3e-05 pb Nevent : 50000    lumi : 2.17e+08 scale : 0.000165\n",
      "ResonanceMass4000              xsec :  2.3e-05 pb Nevent : 50000    lumi : 2.17e+08 scale : 0.000165\n",
      "-------------------------------------\n",
      "BEGIN READING SAMPLES\n",
      "-------------------------------------\n",
      "AddSample: Reading SingleMuon                                [ \u001b[1;31mFailed\u001b[0m  ]\n",
      "AddSample: Reading SingleElectron                            [ \u001b[1;31mFailed\u001b[0m  ]\n",
      "AddSample: Reading DYJetsToLL_M-50_TuneCUETP8M1_13TeV-madgraphMLM-pythia8PhOlap  [ \u001b[1;32mSuccess\u001b[0m ]\n",
      "AddSample: Reading ZGTo2LG_TuneCUETP8M1_13TeV-amcatnloFXFX-pythia8  [ \u001b[1;32mSuccess\u001b[0m ]\n",
      "AddSample: Reading TTJets_DiLept_TuneCUETP8M1_13TeV-madgraphMLM-pythia8PhOlap  [ \u001b[1;32mSuccess\u001b[0m ]\n",
      "AddSample: Reading TTJets_SingleLeptFromTbar_TuneCUETP8M1_13TeV-madgraphMLM-pythia8PhOlap  [ \u001b[1;32mSuccess\u001b[0m ]\n",
      "AddSample: Reading TTJets_SingleLeptFromT_TuneCUETP8M1_13TeV-madgraphMLM-pythia8PhOlap  [ \u001b[1;32mSuccess\u001b[0m ]\n",
      "AddSample: Reading TTGJets_TuneCUETP8M1_13TeV-amcatnloFXFX-madspin-pythia8  [ \u001b[1;32mSuccess\u001b[0m ]\n",
      "AddSample: Reading WGToLNuG_TuneCUETP8M1_13TeV-amcatnloFXFX-pythia8  [ \u001b[1;32mSuccess\u001b[0m ]\n",
      "AddSample: Reading WGToLNuG_TuneCUETP8M1_13TeV-madgraphMLM-pythia8  [ \u001b[1;32mSuccess\u001b[0m ]\n",
      "AddSample: Reading WGToLNuG_PtG-130_TuneCUETP8M1_13TeV-amcatnloFXFX-pythia8  [ \u001b[1;32mSuccess\u001b[0m ]\n",
      "AddSample: Reading WGToLNuG_PtG-130_TuneCUETP8M1_13TeV-madgraphMLM-pythia8  [ \u001b[1;32mSuccess\u001b[0m ]\n",
      "AddSample: Reading WGToLNuG_PtG-500_TuneCUETP8M1_13TeV-amcatnloFXFX-pythia8  [ \u001b[1;32mSuccess\u001b[0m ]\n",
      "AddSample: Reading WGToLNuG_PtG-500_TuneCUETP8M1_13TeV-madgraphMLM-pythia8  [ \u001b[1;32mSuccess\u001b[0m ]\n",
      "AddSample: Reading WGToLNuG_TuneCUETP8M1_13TeV-amcatnloFXFX-pythia8PhCutMax  [ \u001b[1;32mSuccess\u001b[0m ]\n",
      "AddSample: Reading WGToLNuG_PtG-130_TuneCUETP8M1_13TeV-amcatnloFXFX-pythia8PhCutMaxPhCutMin  [ \u001b[1;31mFailed\u001b[0m  ]\n",
      "AddSample: Reading WGToLNuG_PtG-500_TuneCUETP8M1_13TeV-amcatnloFXFX-pythia8PhCutMin  [ \u001b[1;32mSuccess\u001b[0m ]\n",
      "AddSample: Reading WGToLNuG_TuneCUETP8M1_13TeV-madgraphMLM-pythia8PhCutMax  [ \u001b[1;32mSuccess\u001b[0m ]\n",
      "AddSample: Reading WGToLNuG_PtG-130_TuneCUETP8M1_13TeV-madgraphMLM-pythia8PhCutMaxPhCutMin  [ \u001b[1;31mFailed\u001b[0m  ]\n",
      "AddSample: Reading WGToLNuG_PtG-500_TuneCUETP8M1_13TeV-madgraphMLM-pythia8PhCutMin  [ \u001b[1;32mSuccess\u001b[0m ]\n",
      "AddSample: Reading WGToLNuG_TuneCUETP8M1_13TeV-madgraphMLM-pythia8  [ \u001b[1;32mSuccess\u001b[0m ]\n",
      "AddSample: Reading WGToLNuG_PtG-130_TuneCUETP8M1_13TeV-madgraphMLM-pythia8  [ \u001b[1;32mSuccess\u001b[0m ]\n",
      "AddSample: Reading WGToLNuG_PtG-500_TuneCUETP8M1_13TeV-madgraphMLM-pythia8  [ \u001b[1;32mSuccess\u001b[0m ]\n",
      "AddSample: Reading WJetsToLNu_TuneCUETP8M1_13TeV-madgraphMLM-pythia8  [ \u001b[1;32mSuccess\u001b[0m ]\n",
      "AddSample: Reading WWG_TuneCUETP8M1_13TeV-amcatnlo-pythia8   [ \u001b[1;32mSuccess\u001b[0m ]\n",
      "AddSample: Reading DiPhotonJets_MGG-80toInf_13TeV_amcatnloFXFX_pythia8  [ \u001b[1;32mSuccess\u001b[0m ]\n",
      "AddSample: Reading WJetsToLNu_TuneCUETP8M1_13TeV-madgraphMLM-pythia8TrueHTOlapPhOlap  [ \u001b[1;31mFailed\u001b[0m  ]\n",
      "AddSample: Reading WJetsToLNu_HT-100To200_TuneCUETP8M1_13TeV-madgraphMLM-pythia8PhOlap  [ \u001b[1;32mSuccess\u001b[0m ]\n",
      "AddSample: Reading WJetsToLNu_HT-200To400_TuneCUETP8M1_13TeV-madgraphMLM-pythia8PhOlap  [ \u001b[1;32mSuccess\u001b[0m ]\n",
      "AddSample: Reading WJetsToLNu_HT-400To600_TuneCUETP8M1_13TeV-madgraphMLM-pythia8PhOlap  [ \u001b[1;32mSuccess\u001b[0m ]\n",
      "AddSample: Reading WJetsToLNu_HT-600To800_TuneCUETP8M1_13TeV-madgraphMLM-pythia8PhOlap  [ \u001b[1;32mSuccess\u001b[0m ]\n",
      "AddSample: Reading WJetsToLNu_HT-800To1200_TuneCUETP8M1_13TeV-madgraphMLM-pythia8PhOlap  [ \u001b[1;32mSuccess\u001b[0m ]\n",
      "AddSample: Reading WJetsToLNu_HT-1200To2500_TuneCUETP8M1_13TeV-madgraphMLM-pythia8PhOlap  [ \u001b[1;32mSuccess\u001b[0m ]\n",
      "AddSample: Reading WJetsToLNu_HT-2500ToInf_TuneCUETP8M1_13TeV-madgraphMLM-pythia8PhOlap  [ \u001b[1;32mSuccess\u001b[0m ]\n",
      "AddSample: Reading GJets_HT-40To100_TuneCUETP8M1_13TeV-madgraphMLM-pythia8  [ \u001b[1;32mSuccess\u001b[0m ]\n",
      "AddSample: Reading GJets_HT-100To200_TuneCUETP8M1_13TeV-madgraphMLM-pythia8  [ \u001b[1;32mSuccess\u001b[0m ]\n",
      "AddSample: Reading GJets_HT-200To400_TuneCUETP8M1_13TeV-madgraphMLM-pythia8  [ \u001b[1;32mSuccess\u001b[0m ]\n",
      "AddSample: Reading GJets_HT-400To600_TuneCUETP8M1_13TeV-madgraphMLM-pythia8  [ \u001b[1;32mSuccess\u001b[0m ]\n",
      "AddSample: Reading GJets_HT-600ToInf_TuneCUETP8M1_13TeV-madgraphMLM-pythia8  [ \u001b[1;32mSuccess\u001b[0m ]\n",
      "AddSample: Reading MadGraphChargedResonance_WGToLNu_M200_width0p01  [ \u001b[1;32mSuccess\u001b[0m ]\n",
      "AddSample: Reading MadGraphChargedResonance_WGToLNu_M200_width5  [ \u001b[1;32mSuccess\u001b[0m ]\n",
      "AddSample: Reading MadGraphChargedResonance_WGToLNu_M250_width0p01  [ \u001b[1;32mSuccess\u001b[0m ]\n",
      "AddSample: Reading MadGraphChargedResonance_WGToLNu_M250_width5  [ \u001b[1;32mSuccess\u001b[0m ]\n",
      "AddSample: Reading MadGraphChargedResonance_WGToLNu_M300_width0p01  [ \u001b[1;32mSuccess\u001b[0m ]\n",
      "AddSample: Reading MadGraphChargedResonance_WGToLNu_M300_width5  [ \u001b[1;32mSuccess\u001b[0m ]\n",
      "AddSample: Reading MadGraphChargedResonance_WGToLNu_M350_width0p01  [ \u001b[1;32mSuccess\u001b[0m ]\n",
      "AddSample: Reading MadGraphChargedResonance_WGToLNu_M350_width5  [ \u001b[1;32mSuccess\u001b[0m ]\n",
      "AddSample: Reading MadGraphChargedResonance_WGToLNu_M400_width0p01  [ \u001b[1;32mSuccess\u001b[0m ]\n",
      "AddSample: Reading MadGraphChargedResonance_WGToLNu_M400_width5  [ \u001b[1;32mSuccess\u001b[0m ]\n",
      "AddSample: Reading MadGraphChargedResonance_WGToLNu_M450_width0p01  [ \u001b[1;32mSuccess\u001b[0m ]\n",
      "AddSample: Reading MadGraphChargedResonance_WGToLNu_M450_width5  [ \u001b[1;32mSuccess\u001b[0m ]\n",
      "AddSample: Reading MadGraphChargedResonance_WGToLNu_M500_width0p01  [ \u001b[1;32mSuccess\u001b[0m ]\n",
      "AddSample: Reading MadGraphChargedResonance_WGToLNu_M500_width5  [ \u001b[1;32mSuccess\u001b[0m ]\n",
      "AddSample: Reading MadGraphChargedResonance_WGToLNu_M600_width0p01  [ \u001b[1;32mSuccess\u001b[0m ]\n",
      "AddSample: Reading MadGraphChargedResonance_WGToLNu_M600_width5  [ \u001b[1;32mSuccess\u001b[0m ]\n",
      "AddSample: Reading MadGraphChargedResonance_WGToLNu_M700_width0p01  [ \u001b[1;32mSuccess\u001b[0m ]\n",
      "AddSample: Reading MadGraphChargedResonance_WGToLNu_M700_width5  [ \u001b[1;32mSuccess\u001b[0m ]\n",
      "AddSample: Reading MadGraphChargedResonance_WGToLNu_M800_width0p01  [ \u001b[1;32mSuccess\u001b[0m ]\n",
      "AddSample: Reading MadGraphChargedResonance_WGToLNu_M800_width5  [ \u001b[1;32mSuccess\u001b[0m ]\n",
      "AddSample: Reading MadGraphChargedResonance_WGToLNu_M900_width0p01  [ \u001b[1;32mSuccess\u001b[0m ]\n",
      "AddSample: Reading MadGraphChargedResonance_WGToLNu_M900_width5  [ \u001b[1;32mSuccess\u001b[0m ]\n",
      "AddSample: Reading MadGraphChargedResonance_WGToLNu_M1000_width0p01  [ \u001b[1;32mSuccess\u001b[0m ]\n",
      "AddSample: Reading MadGraphChargedResonance_WGToLNu_M1000_width5  [ \u001b[1;32mSuccess\u001b[0m ]\n",
      "AddSample: Reading MadGraphChargedResonance_WGToLNu_M1200_width0p01  [ \u001b[1;32mSuccess\u001b[0m ]\n",
      "AddSample: Reading MadGraphChargedResonance_WGToLNu_M1200_width5  [ \u001b[1;32mSuccess\u001b[0m ]\n",
      "AddSample: Reading MadGraphChargedResonance_WGToLNu_M1400_width0p01  [ \u001b[1;32mSuccess\u001b[0m ]\n",
      "AddSample: Reading MadGraphChargedResonance_WGToLNu_M1400_width5  [ \u001b[1;32mSuccess\u001b[0m ]\n",
      "AddSample: Reading MadGraphChargedResonance_WGToLNu_M1600_width0p01  [ \u001b[1;32mSuccess\u001b[0m ]\n",
      "AddSample: Reading MadGraphChargedResonance_WGToLNu_M1600_width5  [ \u001b[1;32mSuccess\u001b[0m ]\n",
      "AddSample: Reading MadGraphChargedResonance_WGToLNu_M1800_width0p01  [ \u001b[1;32mSuccess\u001b[0m ]\n",
      "AddSample: Reading MadGraphChargedResonance_WGToLNu_M1800_width5  [ \u001b[1;32mSuccess\u001b[0m ]\n",
      "AddSample: Reading MadGraphChargedResonance_WGToLNu_M2000_width0p01  [ \u001b[1;32mSuccess\u001b[0m ]\n",
      "AddSample: Reading MadGraphChargedResonance_WGToLNu_M2000_width5  [ \u001b[1;32mSuccess\u001b[0m ]\n",
      "AddSample: Reading MadGraphChargedResonance_WGToLNu_M2200_width0p01  [ \u001b[1;32mSuccess\u001b[0m ]\n",
      "AddSample: Reading MadGraphChargedResonance_WGToLNu_M2200_width5  [ \u001b[1;32mSuccess\u001b[0m ]\n",
      "AddSample: Reading MadGraphChargedResonance_WGToLNu_M2400_width0p01  [ \u001b[1;32mSuccess\u001b[0m ]\n",
      "AddSample: Reading MadGraphChargedResonance_WGToLNu_M2400_width5  [ \u001b[1;32mSuccess\u001b[0m ]\n",
      "AddSample: Reading MadGraphChargedResonance_WGToLNu_M2600_width0p01  [ \u001b[1;32mSuccess\u001b[0m ]\n",
      "AddSample: Reading MadGraphChargedResonance_WGToLNu_M2800_width0p01  [ \u001b[1;32mSuccess\u001b[0m ]\n",
      "AddSample: Reading MadGraphChargedResonance_WGToLNu_M2800_width5  [ \u001b[1;32mSuccess\u001b[0m ]\n",
      "AddSample: Reading MadGraphChargedResonance_WGToLNu_M3000_width0p01  [ \u001b[1;32mSuccess\u001b[0m ]\n",
      "AddSample: Reading MadGraphChargedResonance_WGToLNu_M3500_width0p01  [ \u001b[1;32mSuccess\u001b[0m ]\n",
      "AddSample: Reading MadGraphChargedResonance_WGToLNu_M3500_width5  [ \u001b[1;32mSuccess\u001b[0m ]\n",
      "AddSample: Reading MadGraphChargedResonance_WGToLNu_M4000_width0p01  [ \u001b[1;32mSuccess\u001b[0m ]\n",
      "AddSample: Reading MadGraphChargedResonance_WGToLNu_M4000_width5  [ \u001b[1;32mSuccess\u001b[0m ]\n",
      "AddSample: Reading PythiaChargedResonance_WGToLNu_M200_width0p01  [ \u001b[1;31mFailed\u001b[0m  ]\n",
      "AddSample: Reading PythiaChargedResonance_WGToLNu_M200_width5  [ \u001b[1;31mFailed\u001b[0m  ]\n",
      "AddSample: Reading PythiaChargedResonance_WGToLNu_M250_width0p01  [ \u001b[1;31mFailed\u001b[0m  ]\n",
      "AddSample: Reading PythiaChargedResonance_WGToLNu_M250_width5  [ \u001b[1;31mFailed\u001b[0m  ]\n",
      "AddSample: Reading PythiaChargedResonance_WGToLNu_M300_width0p01  [ \u001b[1;31mFailed\u001b[0m  ]\n",
      "AddSample: Reading PythiaChargedResonance_WGToLNu_M300_width5  [ \u001b[1;31mFailed\u001b[0m  ]\n",
      "AddSample: Reading PythiaChargedResonance_WGToLNu_M350_width0p01  [ \u001b[1;31mFailed\u001b[0m  ]\n",
      "AddSample: Reading PythiaChargedResonance_WGToLNu_M350_width5  [ \u001b[1;31mFailed\u001b[0m  ]\n",
      "AddSample: Reading PythiaChargedResonance_WGToLNu_M400_width0p01  [ \u001b[1;31mFailed\u001b[0m  ]\n",
      "AddSample: Reading PythiaChargedResonance_WGToLNu_M400_width5  [ \u001b[1;31mFailed\u001b[0m  ]\n",
      "AddSample: Reading PythiaChargedResonance_WGToLNu_M450_width0p01  [ \u001b[1;31mFailed\u001b[0m  ]\n",
      "AddSample: Reading PythiaChargedResonance_WGToLNu_M450_width5  [ \u001b[1;31mFailed\u001b[0m  ]\n",
      "AddSample: Reading PythiaChargedResonance_WGToLNu_M500_width0p01  [ \u001b[1;31mFailed\u001b[0m  ]\n",
      "AddSample: Reading PythiaChargedResonance_WGToLNu_M500_width5  [ \u001b[1;31mFailed\u001b[0m  ]\n",
      "AddSample: Reading PythiaChargedResonance_WGToLNu_M600_width0p01  [ \u001b[1;31mFailed\u001b[0m  ]\n",
      "AddSample: Reading PythiaChargedResonance_WGToLNu_M600_width5  [ \u001b[1;31mFailed\u001b[0m  ]\n",
      "AddSample: Reading PythiaChargedResonance_WGToLNu_M700_width0p01  [ \u001b[1;31mFailed\u001b[0m  ]\n",
      "AddSample: Reading PythiaChargedResonance_WGToLNu_M700_width5  [ \u001b[1;31mFailed\u001b[0m  ]\n",
      "AddSample: Reading PythiaChargedResonance_WGToLNu_M800_width0p01  [ \u001b[1;31mFailed\u001b[0m  ]\n",
      "AddSample: Reading PythiaChargedResonance_WGToLNu_M800_width5  [ \u001b[1;31mFailed\u001b[0m  ]\n",
      "AddSample: Reading PythiaChargedResonance_WGToLNu_M900_width0p01  [ \u001b[1;31mFailed\u001b[0m  ]\n",
      "AddSample: Reading PythiaChargedResonance_WGToLNu_M900_width5  [ \u001b[1;31mFailed\u001b[0m  ]\n",
      "AddSample: Reading PythiaChargedResonance_WGToLNu_M1000_width0p01  [ \u001b[1;31mFailed\u001b[0m  ]\n",
      "AddSample: Reading PythiaChargedResonance_WGToLNu_M1000_width5  [ \u001b[1;31mFailed\u001b[0m  ]\n",
      "AddSample: Reading PythiaChargedResonance_WGToLNu_M1200_width0p01  [ \u001b[1;31mFailed\u001b[0m  ]\n",
      "AddSample: Reading PythiaChargedResonance_WGToLNu_M1200_width5  [ \u001b[1;31mFailed\u001b[0m  ]\n",
      "AddSample: Reading PythiaChargedResonance_WGToLNu_M1400_width0p01  [ \u001b[1;31mFailed\u001b[0m  ]\n",
      "AddSample: Reading PythiaChargedResonance_WGToLNu_M1400_width5  [ \u001b[1;31mFailed\u001b[0m  ]\n",
      "AddSample: Reading PythiaChargedResonance_WGToLNu_M1600_width0p01  [ \u001b[1;31mFailed\u001b[0m  ]\n",
      "AddSample: Reading PythiaChargedResonance_WGToLNu_M1600_width5  [ \u001b[1;31mFailed\u001b[0m  ]\n",
      "AddSample: Reading PythiaChargedResonance_WGToLNu_M1800_width0p01  [ \u001b[1;31mFailed\u001b[0m  ]\n",
      "AddSample: Reading PythiaChargedResonance_WGToLNu_M1800_width5  [ \u001b[1;31mFailed\u001b[0m  ]\n",
      "AddSample: Reading PythiaChargedResonance_WGToLNu_M2000_width0p01  [ \u001b[1;31mFailed\u001b[0m  ]\n",
      "AddSample: Reading PythiaChargedResonance_WGToLNu_M2000_width5  [ \u001b[1;31mFailed\u001b[0m  ]\n",
      "AddSample: Reading PythiaChargedResonance_WGToLNu_M2200_width0p01  [ \u001b[1;31mFailed\u001b[0m  ]\n",
      "AddSample: Reading PythiaChargedResonance_WGToLNu_M2200_width5  [ \u001b[1;31mFailed\u001b[0m  ]\n",
      "AddSample: Reading PythiaChargedResonance_WGToLNu_M2400_width0p01  [ \u001b[1;31mFailed\u001b[0m  ]\n",
      "AddSample: Reading PythiaChargedResonance_WGToLNu_M2400_width5  [ \u001b[1;31mFailed\u001b[0m  ]\n",
      "AddSample: Reading PythiaChargedResonance_WGToLNu_M2600_width0p01  [ \u001b[1;31mFailed\u001b[0m  ]\n",
      "AddSample: Reading PythiaChargedResonance_WGToLNu_M2800_width0p01  [ \u001b[1;31mFailed\u001b[0m  ]\n",
      "AddSample: Reading PythiaChargedResonance_WGToLNu_M2800_width5  [ \u001b[1;31mFailed\u001b[0m  ]\n",
      "AddSample: Reading PythiaChargedResonance_WGToLNu_M3000_width0p01  [ \u001b[1;31mFailed\u001b[0m  ]\n",
      "AddSample: Reading PythiaChargedResonance_WGToLNu_M3500_width0p01  [ \u001b[1;31mFailed\u001b[0m  ]\n",
      "AddSample: Reading PythiaChargedResonance_WGToLNu_M3500_width5  [ \u001b[1;31mFailed\u001b[0m  ]\n",
      "AddSample: Reading PythiaChargedResonance_WGToLNu_M4000_width0p01  [ \u001b[1;31mFailed\u001b[0m  ]\n",
      "AddSample: Reading PythiaChargedResonance_WGToLNu_M4000_width5  [ \u001b[1;31mFailed\u001b[0m  ]\n",
      "WARNING - Child sample, SingleMuon, does not exist!\n",
      "WARNING - Child sample, SingleElectron, does not exist!\n",
      "WARNING - Child sample, WGToLNuG_PtG-130-amcatnloFXFXPhCut, does not exist!\n",
      "Grouping Wgamma\n",
      "Grouping Z+jets\n",
      "Grouping Zgamma\n",
      "Grouping WgammaLO\n",
      "WARNING - Child sample, WJetsToLNuTrueHTOlap, does not exist!\n",
      "Grouping Wjets\n",
      "Grouping TTG\n",
      "Grouping GJets\n",
      "Grouping GammaGamma\n",
      "Grouping TTbar_DiLep\n",
      "Grouping TTbar_SingleLep\n",
      "Grouping AllTop\n",
      "Grouping Others\n",
      "Grouping MCBackground\n",
      "Grouping MCBackgroundLO\n",
      "Grouping JetBackground\n",
      "Grouping EleFakeBackground\n"
     ]
    }
   ],
   "source": [
    "# old sample without MET filter /data/users/jkunkle/Resonances/LepGamma_elg_2018_03_28/ \n",
    "%run interactiveStackTree.py --baseDir  /data/users/fengyb/WGammaNtuple/LepGamma_elg_2018_08_19 \\\n",
    "--samplesConf Modules/Resonance.py --xsFile cross_sections/photon15.py \\\n",
    "--lumi 35900. --treeName UMDNTuple/EventTree --fileName tree.root --jupyt --quiet\n"
   ]
  },
  {
   "cell_type": "code",
   "execution_count": 3,
   "metadata": {
    "collapsed": true,
    "slideshow": {
     "slide_type": "skip"
    }
   },
   "outputs": [],
   "source": [
    "base = 'ph_n>=1 && el_n==1'\n",
    "baseeta = base + ' && abs(ph_eta[0])<1.4'\n",
    "base1 = 'ph_n==1 && el_n==1 && el_pt30_n==1 && mu_n==0'\n",
    "base1eta = base1 + ' && ph_IsEB[0]'\n",
    "passpix = '&& ph_hasPixSeed[0]==0'  #Pixel seed\n",
    "failpix = '&& ph_hasPixSeed[0]==1'\n",
    "passcsev = '&& ph_passEleVeto[0]==1' #CSEV\n",
    "failcsev = '&& ph_passEleVeto[0]==0' \n",
    "ltmet = '&&met_pt<25'\n",
    "gtmet = '&&met_pt>25'\n",
    "phpt50 = \"&&ph_pt[0]>50\"\n",
    "invZ = '&& abs(m_lep_ph-91)>15'"
   ]
  },
  {
   "cell_type": "code",
   "execution_count": 4,
   "metadata": {
    "collapsed": false,
    "slideshow": {
     "slide_type": "skip"
    }
   },
   "outputs": [],
   "source": [
    "ROOT.gStyle.SetOptStat(0)\n",
    "ROOT.gStyle.SetOptFit(1)\n",
    "#samples.change_stack_order(\"GammaGamma\",\"Wjets\")\n",
    "err = array('d',[0])"
   ]
  },
  {
   "cell_type": "markdown",
   "metadata": {
    "slideshow": {
     "slide_type": "skip"
    }
   },
   "source": [
    "## Fill histogram"
   ]
  },
  {
   "cell_type": "markdown",
   "metadata": {
    "slideshow": {
     "slide_type": "slide"
    }
   },
   "source": [
    "## Pixel Veto"
   ]
  },
  {
   "cell_type": "code",
   "execution_count": 5,
   "metadata": {
    "collapsed": false,
    "scrolled": false,
    "slideshow": {
     "slide_type": "-"
    }
   },
   "outputs": [
    {
     "name": "stdout",
     "output_type": "stream",
     "text": [
      "mt_lep_met_ph :\u001b[1;36m PUWeight*NLOWeight*(ph_n==1 && el_n==1 && el_pt30_n==1 && mu_n==0 && ph_IsEB[0]&&met_pt>25&& abs(m_lep_ph-91)>15&& ph_hasPixSeed[0]==0&&ph_pt[0]>50)\u001b[0m\n",
      "stack_sum 30762.6035345\n",
      "True\n",
      "Draw Signal hist  MadGraphResonanceMass300_width0p01\n",
      "True\n",
      "Draw Signal hist  MadGraphResonanceMass450_width5\n",
      "True\n",
      "Draw Signal hist  MadGraphResonanceMass800_width0p01\n"
     ]
    },
    {
     "data": {
      "image/png": "[encoded data removed]",
      "text/plain": [
       "<ROOT.TCanvas object (\"base\") at 0xbcbf880>"
      ]
     },
     "execution_count": 5,
     "metadata": {},
     "output_type": "execute_result"
    },
    {
     "name": "stderr",
     "output_type": "stream",
     "text": [
      "Info in <TCanvas::Print>: png file /tmp/tmpdFElIz.png has been created\n"
     ]
    }
   ],
   "source": [
    "selection = \"PUWeight*NLOWeight*(\"+ base1eta + gtmet + invZ + passpix + phpt50+\")\"\n",
    "samples.Draw(\"mt_lep_met_ph\", selection, (100,0,1000),\n",
    "             {\"xlabel\":\"m_{T}(e,#gamma,p^{miss}_{T})\",\"logy\":1,'ymax':1e4,\"blind\":True},\n",
    "             {'legendLoc':\"Double\",\"legendTranslateX\":0.3});\n",
    "samples.curr_canvases[\"top\"]"
   ]
  },
  {
   "cell_type": "markdown",
   "metadata": {
    "slideshow": {
     "slide_type": "slide"
    }
   },
   "source": [
    "### Event count by sample (pixel Veto)\n",
    " - Yongbin's number\n",
    "   - Wgamma: 2.13e+4\n",
    "   - Z+jets: 2.18e+3 \n",
    "   - GammaGamma: 6.37e+3 (incorr. xsec, should be ~ 2.15e+3)\n",
    "   - Zgamma: 1.64+03"
   ]
  },
  {
   "cell_type": "code",
   "execution_count": 6,
   "metadata": {
    "collapsed": false,
    "slideshow": {
     "slide_type": "-"
    }
   },
   "outputs": [
    {
     "name": "stdout",
     "output_type": "stream",
     "text": [
      "         Wgamma 2.12e+04 +/-   586\n",
      "         Z+jets 2.17e+03 +/-  97.1\n",
      "     GammaGamma 2.15e+03 +/-  25.6\n",
      "         Zgamma 1.64e+03 +/-  36.8\n",
      "          GJets 1.06e+03 +/-   245\n",
      "            TTG      990 +/-  17.1\n",
      "         AllTop      879 +/-  20.7\n",
      "          Wjets      662 +/-  52.5\n",
      "MadGraphResonanceMass800_width0p01      166 +/-  2.18\n",
      "MadGraphResonanceMass450_width5      146 +/-   2.2\n",
      "MadGraphResonanceMass300_width0p01     80.4 +/-  1.38\n",
      "===================================\n",
      "          TOTAL 3.08e+04 +/-   646\n"
     ]
    }
   ],
   "source": [
    "samples.print_stack_count()"
   ]
  },
  {
   "cell_type": "markdown",
   "metadata": {
    "slideshow": {
     "slide_type": "slide"
    }
   },
   "source": [
    "## Conversion Safe eVeto"
   ]
  },
  {
   "cell_type": "code",
   "execution_count": 7,
   "metadata": {
    "collapsed": false,
    "slideshow": {
     "slide_type": "-"
    }
   },
   "outputs": [
    {
     "name": "stdout",
     "output_type": "stream",
     "text": [
      "mt_lep_met_ph :\u001b[1;36m PUWeight*NLOWeight*(ph_n==1 && el_n==1 && el_pt30_n==1 && mu_n==0 && ph_IsEB[0]&&met_pt>25&& abs(m_lep_ph-91)>15&& ph_passEleVeto[0]==1&&ph_pt[0]>50)\u001b[0m\n",
      "stack_sum 37363.9479397\n",
      "True\n",
      "Draw Signal hist  MadGraphResonanceMass300_width0p01\n",
      "True\n",
      "Draw Signal hist  MadGraphResonanceMass450_width5\n",
      "True\n",
      "Draw Signal hist  MadGraphResonanceMass800_width0p01\n"
     ]
    },
    {
     "data": {
      "image/png": "[encoded data removed]",
      "text/plain": [
       "<ROOT.TCanvas object (\"base\") at 0xbc9daa0>"
      ]
     },
     "execution_count": 7,
     "metadata": {},
     "output_type": "execute_result"
    },
    {
     "name": "stderr",
     "output_type": "stream",
     "text": [
      "Info in <TCanvas::Print>: png file /tmp/tmpn33Uaz.png has been created\n"
     ]
    }
   ],
   "source": [
    "selection = \"PUWeight*NLOWeight*(\"+  base1eta + gtmet + invZ + passcsev + phpt50 +\")\"\n",
    "samples.Draw(\"mt_lep_met_ph\", selection,(70,0,3500),\n",
    "             {\"xlabel\":\"m_{T}(e,#gamma,p^{miss}_{T})\",\"ymin\":1e-2,\"logy\":1,\"blind\":True});\n",
    "samples.curr_canvases[\"top\"]"
   ]
  },
  {
   "cell_type": "markdown",
   "metadata": {
    "slideshow": {
     "slide_type": "slide"
    }
   },
   "source": [
    "### Event count by sample (conversion safe eVeto)"
   ]
  },
  {
   "cell_type": "code",
   "execution_count": 8,
   "metadata": {
    "collapsed": false,
    "slideshow": {
     "slide_type": "-"
    }
   },
   "outputs": [
    {
     "name": "stdout",
     "output_type": "stream",
     "text": [
      "         Wgamma 2.25e+04 +/-   602\n",
      "         Z+jets 5.68e+03 +/-   158\n",
      "     GammaGamma 2.32e+03 +/-  26.6\n",
      "         AllTop 2.06e+03 +/-  32.5\n",
      "         Zgamma 1.78e+03 +/-  38.3\n",
      "          GJets 1.17e+03 +/-   255\n",
      "            TTG 1.05e+03 +/-  17.6\n",
      "          Wjets      823 +/-  58.6\n",
      "MadGraphResonanceMass800_width0p01      174 +/-  2.24\n",
      "MadGraphResonanceMass450_width5      156 +/-  2.27\n",
      "MadGraphResonanceMass300_width0p01     85.1 +/-  1.42\n",
      "===================================\n",
      "          TOTAL 3.74e+04 +/-   678\n"
     ]
    }
   ],
   "source": [
    "samples.print_stack_count()"
   ]
  },
  {
   "cell_type": "markdown",
   "metadata": {
    "slideshow": {
     "slide_type": "slide"
    }
   },
   "source": [
    "## Conclusion\n",
    " - SM Wgamma MC passing signal selection:\n",
    "     - Without weights, $3.36$ (pixel) $, 3.55$(CSEV) $\\times10^{4}$ \n",
    "     - With NLO weight, $2.02$ (pixel) $, 2.14$(CSEV) $\\times10^{4}$ \n",
    "     - With NLO and PU, $2.02$ (pixel) $, 2.13$(CSEV) $\\times10^{4}$ \n",
    "     - other variables \\*, $2.12$ (pixel) $, 2.25$(CSEV) $\\times10^{4}$ \n",
    "     - Yongbin's number is , $2.13$ (pixel) $, 2.25$(CSEV) $\\times10^{4}$ \n",
    " - The remaining difference may be due to re-reco\n",
    "\n",
    "\n",
    "\n",
    "\\* ```mt_lep_met_ph -> mt_res, ph_eta cut -> ph_isEB```\n",
    " \n",
    "Full documentation: http://hepcms-hn.umd.edu/~kakw/2018_09_18_signal_region_check_echannel.html"
   ]
  },
  {
   "cell_type": "markdown",
   "metadata": {
    "slideshow": {
     "slide_type": "slide"
    }
   },
   "source": [
    "#   \n",
    "\n",
    "#   \n",
    "\n",
    "#   \n",
    "\n",
    "#   \n",
    "\n",
    "# BACKUP\n",
    "\n",
    "#   \n"
   ]
  },
  {
   "cell_type": "code",
   "execution_count": 9,
   "metadata": {
    "collapsed": false,
    "scrolled": false,
    "slideshow": {
     "slide_type": "-"
    }
   },
   "outputs": [
    {
     "name": "stdout",
     "output_type": "stream",
     "text": [
      "met_pt :\u001b[1;36m PUWeight*NLOWeight*(ph_n==1 && el_n==1 && el_pt30_n==1 && mu_n==0 && ph_IsEB[0]&& abs(m_lep_ph-91)>15&& ph_hasPixSeed[0]==0&&ph_pt[0]>50)\u001b[0m\n",
      "stack_sum 43871.6556113\n",
      "True\n",
      "Draw Signal hist  MadGraphResonanceMass300_width0p01\n",
      "True\n",
      "Draw Signal hist  MadGraphResonanceMass450_width5\n",
      "True\n",
      "Draw Signal hist  MadGraphResonanceMass800_width0p01\n"
     ]
    },
    {
     "data": {
      "image/png": "[encoded data removed]",
      "text/plain": [
       "<ROOT.TCanvas object (\"base\") at 0xbce2df0>"
      ]
     },
     "execution_count": 9,
     "metadata": {},
     "output_type": "execute_result"
    },
    {
     "name": "stderr",
     "output_type": "stream",
     "text": [
      "Info in <TCanvas::Print>: png file /tmp/tmpuqgq8s.png has been created\n"
     ]
    }
   ],
   "source": [
    "selection = \"PUWeight*NLOWeight*(\"+ base1eta  + invZ + passpix + phpt50+\")\"\n",
    "samples.Draw(\"met_pt\", selection, (60,0,300),\n",
    "             {\"xlabel\":\"E^{miss}_{T}\",\"logy\":1,\"ymax\":1e5,\"blind\":True},\n",
    "             {\"legendLoc\":\"Double\",'legendTranslateX':0.25});\n",
    "samples.curr_canvases[\"top\"]"
   ]
  },
  {
   "cell_type": "code",
   "execution_count": 10,
   "metadata": {
    "collapsed": false,
    "scrolled": false,
    "slideshow": {
     "slide_type": "-"
    }
   },
   "outputs": [
    {
     "name": "stdout",
     "output_type": "stream",
     "text": [
      "m_lep_ph :\u001b[1;36m PUWeight*NLOWeight*(ph_n==1 && el_n==1 && el_pt30_n==1 && mu_n==0 && ph_IsEB[0]&& ph_hasPixSeed[0]==0&&ph_pt[0]>50)\u001b[0m\n",
      "stack_sum 73648.3757711\n",
      "True\n",
      "Draw Signal hist  MadGraphResonanceMass300_width0p01\n",
      "True\n",
      "Draw Signal hist  MadGraphResonanceMass450_width5\n",
      "True\n",
      "Draw Signal hist  MadGraphResonanceMass800_width0p01\n"
     ]
    },
    {
     "data": {
      "image/png": "[encoded data removed]",
      "text/plain": [
       "<ROOT.TCanvas object (\"base\") at 0xbce4e50>"
      ]
     },
     "execution_count": 10,
     "metadata": {},
     "output_type": "execute_result"
    },
    {
     "name": "stderr",
     "output_type": "stream",
     "text": [
      "Info in <TCanvas::Print>: png file /tmp/tmpOZm_sf.png has been created\n"
     ]
    }
   ],
   "source": [
    "selection = \"PUWeight*NLOWeight*(\"+ base1eta  + passpix + phpt50+\")\"\n",
    "samples.Draw(\"m_lep_ph\", selection, (80,0,400),\n",
    "             {\"xlabel\":\"M(e,#gamma)\",\"logy\":1,\"ymax\":1e6,\"blind\":True},\n",
    "             {\"legendLoc\":\"Double\",'legendTranslateX':0.25});\n",
    "samples.curr_canvases[\"top\"]"
   ]
  },
  {
   "cell_type": "markdown",
   "metadata": {
    "slideshow": {
     "slide_type": "slide"
    }
   },
   "source": [
    "## Pixel Veto (WITHOUT weights)"
   ]
  },
  {
   "cell_type": "code",
   "execution_count": 11,
   "metadata": {
    "collapsed": false,
    "scrolled": false,
    "slideshow": {
     "slide_type": "-"
    }
   },
   "outputs": [
    {
     "name": "stdout",
     "output_type": "stream",
     "text": [
      "mt_lep_met_ph :\u001b[1;36m (ph_n==1 && el_n==1 && el_pt30_n==1 && mu_n==0 && ph_IsEB[0]&&met_pt>25&& abs(m_lep_ph-91)>15&& ph_hasPixSeed[0]==0&&ph_pt[0]>50)\u001b[0m\n",
      "stack_sum 50974.6809024\n",
      "True\n",
      "Draw Signal hist  MadGraphResonanceMass300_width0p01\n",
      "True\n",
      "Draw Signal hist  MadGraphResonanceMass450_width5\n",
      "True\n",
      "Draw Signal hist  MadGraphResonanceMass800_width0p01\n"
     ]
    }
   ],
   "source": [
    "samples.Draw(\"mt_lep_met_ph\",\"(\"+ base1eta + gtmet + invZ + passpix + phpt50+\")\",\n",
    "             (70,0,3500),{\"xlabel\":\"m_{T}(e,#gamma,p^{miss}_{T})\",\"ymin\":1e-2,\"logy\":1,\"blind\":True});"
   ]
  },
  {
   "cell_type": "markdown",
   "metadata": {
    "slideshow": {
     "slide_type": "skip"
    }
   },
   "source": [
    "### Tranverse Mass"
   ]
  },
  {
   "cell_type": "code",
   "execution_count": 12,
   "metadata": {
    "collapsed": false,
    "scrolled": true,
    "slideshow": {
     "slide_type": "-"
    }
   },
   "outputs": [
    {
     "data": {
      "image/png": "[encoded data removed]",
      "text/plain": [
       "<ROOT.TCanvas object (\"base\") at 0xbcccb60>"
      ]
     },
     "execution_count": 12,
     "metadata": {},
     "output_type": "execute_result"
    },
    {
     "name": "stderr",
     "output_type": "stream",
     "text": [
      "Info in <TCanvas::Print>: png file /tmp/tmpKnJLwX.png has been created\n"
     ]
    }
   ],
   "source": [
    "samples.curr_canvases[\"top\"]"
   ]
  },
  {
   "cell_type": "markdown",
   "metadata": {
    "slideshow": {
     "slide_type": "slide"
    }
   },
   "source": [
    "### Event count by sample (pixel Veto)"
   ]
  },
  {
   "cell_type": "code",
   "execution_count": 13,
   "metadata": {
    "collapsed": false
   },
   "outputs": [
    {
     "name": "stdout",
     "output_type": "stream",
     "text": [
      "         Wgamma 3.51e+04 +/-   565\n",
      "     GammaGamma 4.11e+03 +/-  25.3\n",
      "            TTG 3.24e+03 +/-  16.5\n",
      "         Zgamma  2.9e+03 +/-  36.3\n",
      "         Z+jets 2.53e+03 +/-   103\n",
      "          GJets 1.42e+03 +/-   334\n",
      "         AllTop      973 +/-  21.4\n",
      "          Wjets      695 +/-  52.3\n",
      "MadGraphResonanceMass800_width0p01      165 +/-   2.1\n",
      "MadGraphResonanceMass450_width5      146 +/-  2.12\n",
      "MadGraphResonanceMass300_width0p01     80.8 +/-  1.34\n",
      "===================================\n",
      "          TOTAL  5.1e+04 +/-   669\n"
     ]
    }
   ],
   "source": [
    "samples.print_stack_count()"
   ]
  },
  {
   "cell_type": "markdown",
   "metadata": {
    "slideshow": {
     "slide_type": "slide"
    }
   },
   "source": [
    "## Conversion Safe eVeto (WITHOUT weights)"
   ]
  },
  {
   "cell_type": "markdown",
   "metadata": {
    "slideshow": {
     "slide_type": "slide"
    }
   },
   "source": [
    "### Tranverse Mass"
   ]
  },
  {
   "cell_type": "code",
   "execution_count": 14,
   "metadata": {
    "collapsed": false,
    "scrolled": false,
    "slideshow": {
     "slide_type": "-"
    }
   },
   "outputs": [
    {
     "name": "stdout",
     "output_type": "stream",
     "text": [
      "mt_lep_met_ph :\u001b[1;36m (ph_n==1 && el_n==1 && el_pt30_n==1 && mu_n==0 && ph_IsEB[0]&&met_pt>25&& abs(m_lep_ph-91)>15&& ph_passEleVeto[0]==1&&ph_pt[0]>50)\u001b[0m\n",
      "stack_sum 59048.9188016\n",
      "True\n",
      "Draw Signal hist  MadGraphResonanceMass300_width0p01\n",
      "True\n",
      "Draw Signal hist  MadGraphResonanceMass450_width5\n",
      "True\n",
      "Draw Signal hist  MadGraphResonanceMass800_width0p01\n"
     ]
    },
    {
     "data": {
      "image/png": "[encoded data removed]",
      "text/plain": [
       "<ROOT.TCanvas object (\"base\") at 0xbb00300>"
      ]
     },
     "execution_count": 14,
     "metadata": {},
     "output_type": "execute_result"
    },
    {
     "name": "stderr",
     "output_type": "stream",
     "text": [
      "Info in <TCanvas::Print>: png file /tmp/tmp0a2_Uh.png has been created\n"
     ]
    }
   ],
   "source": [
    "histp = {\"xlabel\":\"m_{T}(e,#gamma,p^{miss}_{T})\",\"ymin\":1e-2,\"logy\":1,\"blind\":True}\n",
    "select = \"(\"+ base1eta + gtmet + invZ + passcsev + phpt50 +\")\"\n",
    "samples.Draw(\"mt_lep_met_ph\",select,(70,0,3500),histp);\n",
    "samples.curr_canvases[\"top\"]"
   ]
  },
  {
   "cell_type": "markdown",
   "metadata": {
    "slideshow": {
     "slide_type": "slide"
    }
   },
   "source": [
    "### Event count by sample (conversion safe eVeto)"
   ]
  },
  {
   "cell_type": "code",
   "execution_count": 15,
   "metadata": {
    "collapsed": false,
    "slideshow": {
     "slide_type": "-"
    }
   },
   "outputs": [
    {
     "name": "stdout",
     "output_type": "stream",
     "text": [
      "         Wgamma 3.72e+04 +/-   582\n",
      "         Z+jets 6.33e+03 +/-   163\n",
      "     GammaGamma 4.45e+03 +/-  26.3\n",
      "            TTG 3.45e+03 +/-    17\n",
      "         Zgamma 3.17e+03 +/-  37.9\n",
      "         AllTop 2.21e+03 +/-  32.8\n",
      "          GJets 1.38e+03 +/-   298\n",
      "          Wjets      861 +/-  58.2\n",
      "MadGraphResonanceMass800_width0p01      174 +/-  2.16\n",
      "MadGraphResonanceMass450_width5      156 +/-  2.19\n",
      "MadGraphResonanceMass300_width0p01     85.6 +/-  1.37\n",
      "===================================\n",
      "          TOTAL  5.9e+04 +/-   679\n"
     ]
    }
   ],
   "source": [
    "samples.print_stack_count()"
   ]
  },
  {
   "cell_type": "code",
   "execution_count": 16,
   "metadata": {
    "collapsed": false,
    "slideshow": {
     "slide_type": "slide"
    }
   },
   "outputs": [
    {
     "name": "stdout",
     "output_type": "stream",
     "text": [
      "**** Following environment variables are going to be unset.\n",
      "       DBS_CLIENT_CONFIG\n",
      "       DBSCMD_HOME\n",
      "       PYTHON_VALGRIND_SUPP\n",
      "[NbConvertApp] Converting notebook 2018_09_18_signal_region_check_echannel.ipynb to slides\n",
      "[NbConvertApp] Writing 488237 bytes to 2018_09_18_signal_region_check_echannel.slides.html\n",
      "[NbConvertApp] Converting notebook 2018_09_18_signal_region_check_echannel.ipynb to html\n",
      "[NbConvertApp] Writing 487256 bytes to 2018_09_18_signal_region_check_echannel.html\n",
      "Wed Oct 17 08:59:33 EDT 2018\n"
     ]
    }
   ],
   "source": [
    "!bash /home/kakw/forjupyter/jupyterconvert.sh /home/kakw/public_html/ 2018_09_18_signal_region_check_echannel.ipynb"
   ]
  },
  {
   "cell_type": "code",
   "execution_count": null,
   "metadata": {
    "collapsed": true
   },
   "outputs": [],
   "source": []
  }
 ],
 "metadata": {
  "kernelspec": {
   "display_name": "Python 2",
   "language": "python",
   "name": "python2"
  },
  "language_info": {
   "codemirror_mode": {
    "name": "ipython",
    "version": 2
   },
   "file_extension": ".py",
   "mimetype": "text/x-python",
   "name": "python",
   "nbconvert_exporter": "python",
   "pygments_lexer": "ipython2",
   "version": "2.7.13+"
  }
 },
 "nbformat": 4,
 "nbformat_minor": 2
}
