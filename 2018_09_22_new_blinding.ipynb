{
 "cells": [
  {
   "cell_type": "markdown",
   "metadata": {
    "slideshow": {
     "slide_type": "slide"
    }
   },
   "source": [
    "# Code Update\n",
    "\n",
    "Kak W., 2018-09-22"
   ]
  },
  {
   "cell_type": "markdown",
   "metadata": {
    "slideshow": {
     "slide_type": "slide"
    }
   },
   "source": [
    "## In short:\n",
    "\n",
    " - We saw need to clarify structure of code\n",
    " - better document cuts\n",
    " "
   ]
  },
  {
   "cell_type": "markdown",
   "metadata": {
    "slideshow": {
     "slide_type": "fragment"
    }
   },
   "source": [
    "## Import Samples\n",
    "\n",
    "- path: `/data/users/kakw/Resonances/LepGamma_elg_unblind_2018_09_20`\n",
    "- unblinded sample: Single Electron\n",
    "- with links point to `/data/users/jkunkle/Resonances/LepGamma_elg_2018_03_28/` for MC samples"
   ]
  },
  {
   "cell_type": "markdown",
   "metadata": {
    "slideshow": {
     "slide_type": "subslide"
    }
   },
   "source": [
    "### Sample Pre-selection\n",
    "- Trigger: HLT_Ele27_eta2p1_WPTight_Gsf\n",
    "- Overlap removal with dR<0.4, in the preference of muon over electron over photon over jets\n",
    "- at least 1 photon object and only 1 electron object required\n",
    "- no muons in sample\n",
    "- cut-based working points\n",
    "- photon: medium, pT>20  \n",
    "- electron: medium, pT>10 (will move to tight)\n",
    "- muon: tight, pT> 25"
   ]
  },
  {
   "cell_type": "markdown",
   "metadata": {
    "slideshow": {
     "slide_type": "-"
    }
   },
   "source": [
    "### Signal region cuts (e channel)\n",
    "\n",
    " - photon pT > 50\n",
    " - inverse Z mass cut (Width?)\n",
    " - photon passing electron veto (Pixel Seed?)\n",
    " "
   ]
  },
  {
   "cell_type": "code",
   "execution_count": 1,
   "metadata": {
    "collapsed": false,
    "slideshow": {
     "slide_type": "skip"
    }
   },
   "outputs": [
    {
     "name": "stdout",
     "output_type": "stream",
     "text": [
      "/home/kakw/efake/WG_Analysis/Plotting\n"
     ]
    }
   ],
   "source": [
    "cd /home/kakw/efake/WG_Analysis/Plotting"
   ]
  },
  {
   "cell_type": "markdown",
   "metadata": {},
   "source": [
    "## Blinding with MET and leading photon passing CSEV"
   ]
  },
  {
   "cell_type": "code",
   "execution_count": 2,
   "metadata": {
    "collapsed": false,
    "scrolled": true,
    "slideshow": {
     "slide_type": "subslide"
    }
   },
   "outputs": [
    {
     "name": "stdout",
     "output_type": "stream",
     "text": [
      "Welcome to JupyROOT 6.10/05\n",
      "-------------------------------------\n",
      " LOAD CROSS SECTION INFO\n",
      "-------------------------------------\n",
      "DYJetsToLL_M-50                xsec : 5.77e+03 pb Nevent : 49144274 lumi : 8.52e+03 scale :     4.21\n",
      "ZGTo2LG                        xsec :      118 pb Nevent : 9321494  lumi : 7.91e+04 scale :    0.454\n",
      "TTJets_DiLept                  xsec :     85.7 pb Nevent : 6094476  lumi : 7.11e+04 scale :    0.505\n",
      "TTJets_SingleLeptFromT         xsec :      179 pb Nevent : 11957043 lumi : 6.69e+04 scale :    0.537\n",
      "TTJets_SingleLeptFromTbar      xsec :      179 pb Nevent : 46455353 lumi :  2.6e+05 scale :    0.138\n",
      "TTGJets                        xsec :      3.7 pb Nevent : 1577833  lumi : 4.27e+05 scale :   0.0841\n",
      "WWTo2L2Nu                      xsec :     12.2 pb Nevent : 1        lumi :   0.0821 scale : 4.37e+05\n",
      "WGToLNuG-amcatnloFXFX          xsec :      822 pb Nevent : 3235156  lumi : 3.94e+03 scale :     9.12\n",
      "WGToLNuG-madgraphMLM           xsec :      405 pb Nevent : 6103817  lumi : 1.51e+04 scale :     2.38\n",
      "WGToLNuG_PtG-130-amcatnloFXFX  xsec :     2.02 pb Nevent : 841701   lumi : 4.16e+05 scale :   0.0864\n",
      "WGToLNuG_PtG-130-madgraphMLM   xsec :    0.795 pb Nevent : 1645059  lumi : 2.07e+06 scale :   0.0174\n",
      "WGToLNuG_PtG-500-amcatnloFXFX  xsec :   0.0177 pb Nevent : 827560   lumi : 4.68e+07 scale : 0.000768\n",
      "WGToLNuG_PtG-500-madgraphMLM   xsec :  0.00849 pb Nevent : 1393505  lumi : 1.64e+08 scale : 0.000219\n",
      "WWG                            xsec :    0.215 pb Nevent : 827630   lumi : 3.85e+06 scale :  0.00931\n",
      "WJetsToLNu-madgraphMLM         xsec : 6.15e+04 pb Nevent : 29705748 lumi :      483 scale :     74.4\n",
      "WJetsToLNu-amcatnloFXFX        xsec : 6.15e+04 pb Nevent : 12965572 lumi :      211 scale :      170\n",
      "WJetsToLNu_HT-100To200         xsec : 1.33e+03 pb Nevent : 10235198 lumi : 7.72e+03 scale :     4.65\n",
      "WJetsToLNu_HT-200To400         xsec :      428 pb Nevent : 4950373  lumi : 1.16e+04 scale :      3.1\n",
      "WJetsToLNu_HT-400To600         xsec :     63.9 pb Nevent : 1963464  lumi : 3.07e+04 scale :     1.17\n",
      "WJetsToLNu_HT-600To800         xsec :     16.3 pb Nevent : 3779141  lumi : 2.32e+05 scale :    0.155\n",
      "WJetsToLNu_HT-800To1200        xsec :     7.48 pb Nevent : 1544513  lumi : 2.06e+05 scale :    0.174\n",
      "WJetsToLNu_HT-1200To2500       xsec :     1.79 pb Nevent : 244532   lumi : 1.36e+05 scale :    0.263\n",
      "WJetsToLNu_HT-2500ToInf        xsec :   0.0404 pb Nevent : 253561   lumi : 6.28e+06 scale :  0.00572\n",
      "WJetsToLNu_Pt-100To250         xsec :      676 pb Nevent : 3644567  lumi : 5.39e+03 scale :     6.66\n",
      "GJets_HT-40To100               xsec : 2.07e+04 pb Nevent : 4467985  lumi :      216 scale :      167\n",
      "GJets_HT-100To200              xsec : 9.23e+03 pb Nevent : 5131873  lumi :      556 scale :     64.5\n",
      "GJets_HT-200To400              xsec :  2.3e+03 pb Nevent : 10036487 lumi : 4.36e+03 scale :     8.23\n",
      "GJets_HT-400To600              xsec :      277 pb Nevent : 2529729  lumi : 9.12e+03 scale :     3.94\n",
      "GJets_HT-600ToInf              xsec :     93.4 pb Nevent : 2463946  lumi : 2.64e+04 scale :     1.36\n",
      "DiPhoton                       xsec :       84 pb Nevent : 19410854 lumi : 2.31e+05 scale :    0.155\n",
      "-------------------------------------\n",
      "BEGIN READING SAMPLES\n",
      "-------------------------------------\n",
      "AddSample: Reading SingleMuon                                [ \u001b[1;31mFailed\u001b[0m  ]\n",
      "AddSample: Reading SingleElectron                            [ \u001b[1;32mSuccess\u001b[0m ]\n",
      "AddSample: Reading DYJetsToLL_M-50_TuneCUETP8M1_13TeV-madgraphMLM-pythia8PhOlap  [ \u001b[1;32mSuccess\u001b[0m ]\n",
      "AddSample: Reading ZGTo2LG_TuneCUETP8M1_13TeV-amcatnloFXFX-pythia8  [ \u001b[1;32mSuccess\u001b[0m ]\n",
      "AddSample: Reading TTJets_DiLept_TuneCUETP8M1_13TeV-madgraphMLM-pythia8PhOlap  [ \u001b[1;32mSuccess\u001b[0m ]\n",
      "AddSample: Reading TTJets_SingleLeptFromTbar_TuneCUETP8M1_13TeV-madgraphMLM-pythia8PhOlap  [ \u001b[1;32mSuccess\u001b[0m ]\n",
      "AddSample: Reading TTJets_SingleLeptFromT_TuneCUETP8M1_13TeV-madgraphMLM-pythia8PhOlap  [ \u001b[1;32mSuccess\u001b[0m ]\n",
      "AddSample: Reading TTGJets_TuneCUETP8M1_13TeV-amcatnloFXFX-madspin-pythia8  [ \u001b[1;32mSuccess\u001b[0m ]\n",
      "AddSample: Reading WGToLNuG_TuneCUETP8M1_13TeV-amcatnloFXFX-pythia8  [ \u001b[1;32mSuccess\u001b[0m ]\n",
      "AddSample: Reading WGToLNuG_TuneCUETP8M1_13TeV-madgraphMLM-pythia8  [ \u001b[1;32mSuccess\u001b[0m ]\n",
      "AddSample: Reading WGToLNuG_PtG-130_TuneCUETP8M1_13TeV-amcatnloFXFX-pythia8  [ \u001b[1;32mSuccess\u001b[0m ]\n",
      "AddSample: Reading WGToLNuG_PtG-130_TuneCUETP8M1_13TeV-madgraphMLM-pythia8  [ \u001b[1;32mSuccess\u001b[0m ]\n",
      "AddSample: Reading WGToLNuG_PtG-500_TuneCUETP8M1_13TeV-amcatnloFXFX-pythia8  [ \u001b[1;32mSuccess\u001b[0m ]\n",
      "AddSample: Reading WGToLNuG_PtG-500_TuneCUETP8M1_13TeV-madgraphMLM-pythia8  [ \u001b[1;32mSuccess\u001b[0m ]\n",
      "AddSample: Reading WGToLNuG_TuneCUETP8M1_13TeV-amcatnloFXFX-pythia8PhCutMax  [ \u001b[1;32mSuccess\u001b[0m ]\n",
      "AddSample: Reading WGToLNuG_PtG-130_TuneCUETP8M1_13TeV-amcatnloFXFX-pythia8PhCutMaxPhCutMin  [ \u001b[1;32mSuccess\u001b[0m ]\n",
      "AddSample: Reading WGToLNuG_PtG-500_TuneCUETP8M1_13TeV-amcatnloFXFX-pythia8PhCutMin  [ \u001b[1;32mSuccess\u001b[0m ]\n",
      "AddSample: Reading WGToLNuG_TuneCUETP8M1_13TeV-madgraphMLM-pythia8PhCutMax  [ \u001b[1;32mSuccess\u001b[0m ]\n",
      "AddSample: Reading WGToLNuG_PtG-130_TuneCUETP8M1_13TeV-madgraphMLM-pythia8PhCutMaxPhCutMin  [ \u001b[1;32mSuccess\u001b[0m ]\n",
      "AddSample: Reading WGToLNuG_PtG-500_TuneCUETP8M1_13TeV-madgraphMLM-pythia8PhCutMin  [ \u001b[1;32mSuccess\u001b[0m ]\n",
      "AddSample: Reading WGToLNuG_TuneCUETP8M1_13TeV-madgraphMLM-pythia8  [ \u001b[1;32mSuccess\u001b[0m ]\n",
      "AddSample: Reading WGToLNuG_PtG-130_TuneCUETP8M1_13TeV-madgraphMLM-pythia8  [ \u001b[1;32mSuccess\u001b[0m ]\n",
      "AddSample: Reading WGToLNuG_PtG-500_TuneCUETP8M1_13TeV-madgraphMLM-pythia8  [ \u001b[1;32mSuccess\u001b[0m ]\n",
      "AddSample: Reading WJetsToLNu_TuneCUETP8M1_13TeV-madgraphMLM-pythia8  [ \u001b[1;32mSuccess\u001b[0m ]\n",
      "AddSample: Reading WWG_TuneCUETP8M1_13TeV-amcatnlo-pythia8   [ \u001b[1;31mFailed\u001b[0m  ]\n",
      "AddSample: Reading DiPhotonJets_MGG-80toInf_13TeV_amcatnloFXFX_pythia8  [ \u001b[1;32mSuccess\u001b[0m ]\n",
      "AddSample: Reading WJetsToLNu_TuneCUETP8M1_13TeV-madgraphMLM-pythia8TrueHTOlapPhOlap  [ \u001b[1;32mSuccess\u001b[0m ]\n",
      "AddSample: Reading WJetsToLNu_HT-100To200_TuneCUETP8M1_13TeV-madgraphMLM-pythia8PhOlap  [ \u001b[1;32mSuccess\u001b[0m ]\n",
      "AddSample: Reading WJetsToLNu_HT-200To400_TuneCUETP8M1_13TeV-madgraphMLM-pythia8PhOlap  [ \u001b[1;32mSuccess\u001b[0m ]\n",
      "AddSample: Reading WJetsToLNu_HT-400To600_TuneCUETP8M1_13TeV-madgraphMLM-pythia8PhOlap  [ \u001b[1;32mSuccess\u001b[0m ]\n",
      "AddSample: Reading WJetsToLNu_HT-600To800_TuneCUETP8M1_13TeV-madgraphMLM-pythia8PhOlap  [ \u001b[1;32mSuccess\u001b[0m ]\n",
      "AddSample: Reading WJetsToLNu_HT-800To1200_TuneCUETP8M1_13TeV-madgraphMLM-pythia8PhOlap  [ \u001b[1;32mSuccess\u001b[0m ]\n",
      "AddSample: Reading WJetsToLNu_HT-1200To2500_TuneCUETP8M1_13TeV-madgraphMLM-pythia8PhOlap  [ \u001b[1;32mSuccess\u001b[0m ]\n",
      "AddSample: Reading WJetsToLNu_HT-2500ToInf_TuneCUETP8M1_13TeV-madgraphMLM-pythia8PhOlap  [ \u001b[1;32mSuccess\u001b[0m ]\n",
      "AddSample: Reading GJets_HT-40To100_TuneCUETP8M1_13TeV-madgraphMLM-pythia8  [ \u001b[1;32mSuccess\u001b[0m ]\n",
      "AddSample: Reading GJets_HT-100To200_TuneCUETP8M1_13TeV-madgraphMLM-pythia8  [ \u001b[1;32mSuccess\u001b[0m ]\n",
      "AddSample: Reading GJets_HT-200To400_TuneCUETP8M1_13TeV-madgraphMLM-pythia8  [ \u001b[1;32mSuccess\u001b[0m ]\n",
      "AddSample: Reading GJets_HT-400To600_TuneCUETP8M1_13TeV-madgraphMLM-pythia8  [ \u001b[1;32mSuccess\u001b[0m ]\n",
      "AddSample: Reading GJets_HT-600ToInf_TuneCUETP8M1_13TeV-madgraphMLM-pythia8  [ \u001b[1;32mSuccess\u001b[0m ]\n",
      "WARNING - Child sample, SingleMuon, does not exist!\n",
      "Grouping Data\n",
      "Grouping Z+jets\n",
      "Grouping Zgamma\n",
      "Grouping Wgamma\n",
      "Grouping WgammaLO\n",
      "Grouping Wjets\n",
      "Grouping TTG\n",
      "Grouping GJets\n",
      "Grouping GammaGamma\n",
      "Grouping TTbar_DiLep\n",
      "Grouping TTbar_SingleLep\n",
      "Grouping AllTop\n",
      "Grouping MCBackground\n",
      "Grouping MCBackgroundLO\n",
      "Grouping JetBackground\n",
      "Grouping EleFakeBackground\n"
     ]
    }
   ],
   "source": [
    " %run interactiveStackTree.py --baseDir  /data/users/kakw/Resonances/LepGamma_elg_newblind_2018_09_21b \\\n",
    "--samplesConf Modules/Resonance.py --xsFile cross_sections/photon15.py \\\n",
    "--lumi 35900. --treeName UMDNTuple/EventTree --fileName tree.root --jupyt --quiet"
   ]
  },
  {
   "cell_type": "code",
   "execution_count": 3,
   "metadata": {
    "collapsed": true,
    "slideshow": {
     "slide_type": "skip"
    }
   },
   "outputs": [],
   "source": [
    "base = 'ph_n>=1 && el_n==1'\n",
    "baseeta = base + ' && abs(ph_eta[0])<1.4'\n",
    "base1 = 'ph_n==1 && el_n==1'\n",
    "base1eta = base1 + ' && abs(ph_eta[0])<1.4'\n",
    "a4 = '&& ph_hasPixSeed[0]==0'  #Pixel seed\n",
    "b4 = '&& ph_hasPixSeed[0]==1'\n",
    "ltmet = '&&met_pt<25'\n",
    "gtmet = '&&met_pt>25'\n",
    "phpt50 = \"&&ph_pt[0]>50\"\n",
    "unblind = \"ph_hasPixSeed[0]==1 || met_pt<25\"\n",
    "weight = \"PUWeight*NLOWeight\""
   ]
  },
  {
   "cell_type": "code",
   "execution_count": 4,
   "metadata": {
    "collapsed": false,
    "slideshow": {
     "slide_type": "skip"
    }
   },
   "outputs": [],
   "source": [
    "ROOT.gStyle.SetOptStat(0)\n",
    "ROOT.gStyle.SetOptFit(1)"
   ]
  },
  {
   "cell_type": "markdown",
   "metadata": {
    "slideshow": {
     "slide_type": "skip"
    }
   },
   "source": [
    "## Fill histogram"
   ]
  },
  {
   "cell_type": "markdown",
   "metadata": {
    "slideshow": {
     "slide_type": "slide"
    }
   },
   "source": [
    "## Blinding in TreeFilter code\n"
   ]
  },
  {
   "cell_type": "code",
   "execution_count": 5,
   "metadata": {
    "collapsed": false,
    "scrolled": true,
    "slideshow": {
     "slide_type": "-"
    }
   },
   "outputs": [
    {
     "name": "stdout",
     "output_type": "stream",
     "text": [
      "met_pt :\u001b[1;36m met_pt<28\u001b[0m\n",
      "Make SingleElectron hist met_pt : \u001b[1;31m (met_pt<28)*PUWeight*NLOWeight\u001b[0m\n"
     ]
    },
    {
     "data": {
      "image/png": "[encoded data removed]",
      "text/plain": [
       "<ROOT.TCanvas object (\"base\") at 0x990e790>"
      ]
     },
     "execution_count": 5,
     "metadata": {},
     "output_type": "execute_result"
    },
    {
     "name": "stderr",
     "output_type": "stream",
     "text": [
      "Info in <TCanvas::Print>: png file /tmp/tmpe1xpgz.png has been created\n"
     ]
    }
   ],
   "source": [
    "samples.Draw(\"met_pt\",\"met_pt<28\", (50,0,50), {\"xlabel\":\"MET\",\"unblind\": True, \"weight\": weight})"
   ]
  },
  {
   "cell_type": "code",
   "execution_count": 6,
   "metadata": {
    "collapsed": false,
    "scrolled": true,
    "slideshow": {
     "slide_type": "slide"
    }
   },
   "outputs": [
    {
     "name": "stdout",
     "output_type": "stream",
     "text": [
      "met_pt :\u001b[1;36m met_pt<28 && ph_passEleVeto[0]\u001b[0m\n",
      "Make SingleElectron hist met_pt : \u001b[1;31m (met_pt<28 && ph_passEleVeto[0])*PUWeight*NLOWeight\u001b[0m\n"
     ]
    },
    {
     "data": {
      "image/png": "[encoded data removed]",
      "text/plain": [
       "<ROOT.TCanvas object (\"base\") at 0x993cb00>"
      ]
     },
     "execution_count": 6,
     "metadata": {},
     "output_type": "execute_result"
    },
    {
     "name": "stderr",
     "output_type": "stream",
     "text": [
      "Info in <TCanvas::Print>: png file /tmp/tmpM0FuY_.png has been created\n"
     ]
    }
   ],
   "source": [
    "samples.Draw(\"met_pt\",\"met_pt<28 && ph_passEleVeto[0]\", (50,0,50), {\"xlabel\":\"MET\",\"unblind\": True, \"weight\": weight})"
   ]
  },
  {
   "cell_type": "code",
   "execution_count": 8,
   "metadata": {
    "collapsed": false,
    "scrolled": true,
    "slideshow": {
     "slide_type": "slide"
    }
   },
   "outputs": [
    {
     "name": "stdout",
     "output_type": "stream",
     "text": [
      "met_pt :\u001b[1;36m met_pt<28 && !ph_passEleVeto[0]\u001b[0m\n",
      "Make SingleElectron hist met_pt : \u001b[1;31m (met_pt<28 && !ph_passEleVeto[0])*PUWeight*NLOWeight\u001b[0m\n"
     ]
    },
    {
     "data": {
      "image/png": "[encoded data removed]",
      "text/plain": [
       "<ROOT.TCanvas object (\"base\") at 0x993e400>"
      ]
     },
     "execution_count": 8,
     "metadata": {},
     "output_type": "execute_result"
    },
    {
     "name": "stderr",
     "output_type": "stream",
     "text": [
      "Info in <TCanvas::Print>: png file /tmp/tmpYGtY12.png has been created\n"
     ]
    }
   ],
   "source": [
    "samples.Draw(\"met_pt\",\"met_pt<28 && !ph_passEleVeto[0]\", (50,0,50), {\"xlabel\":\"MET\",\"unblind\": True, \"weight\": weight})"
   ]
  },
  {
   "cell_type": "markdown",
   "metadata": {
    "slideshow": {
     "slide_type": "slide"
    }
   },
   "source": [
    "### In endcap"
   ]
  },
  {
   "cell_type": "markdown",
   "metadata": {
    "slideshow": {
     "slide_type": "slide"
    }
   },
   "source": [
    "### In barrel"
   ]
  },
  {
   "cell_type": "markdown",
   "metadata": {
    "slideshow": {
     "slide_type": "slide"
    }
   },
   "source": [
    "## Conclusion\n",
    "\n",
    "- Everything looks much better\n",
    "\n",
    "documentation: http://hepcms-hn.umd.edu/~kakw/2018_09_22_new_blinding.html"
   ]
  },
  {
   "cell_type": "markdown",
   "metadata": {
    "slideshow": {
     "slide_type": "slide"
    }
   },
   "source": [
    "#   \n",
    "\n",
    "#   \n",
    "\n",
    "#   \n",
    "\n",
    "#   \n",
    "\n",
    "# BACKUP\n",
    "\n",
    "#   \n"
   ]
  },
  {
   "cell_type": "code",
   "execution_count": 9,
   "metadata": {
    "collapsed": false,
    "slideshow": {
     "slide_type": "slide"
    }
   },
   "outputs": [
    {
     "name": "stdout",
     "output_type": "stream",
     "text": [
      "**** Following environment variables are going to be unset.\n",
      "       DBS_CLIENT_CONFIG\n",
      "       DBSCMD_HOME\n",
      "       PYTHON_VALGRIND_SUPP\n",
      "[NbConvertApp] Converting notebook 2018_09_22_new_blinding.ipynb to slides\n",
      "[NbConvertApp] Writing 344597 bytes to 2018_09_22_new_blinding.slides.html\n",
      "[NbConvertApp] Converting notebook 2018_09_22_new_blinding.ipynb to html\n",
      "[NbConvertApp] Writing 342877 bytes to 2018_09_22_new_blinding.html\n",
      "Sun Sep 23 00:17:52 EDT 2018\n"
     ]
    }
   ],
   "source": [
    "!bash /home/kakw/forjupyter/jupyterconvert.sh /home/kakw/public_html/ 2018_09_22_new_blinding.ipynb"
   ]
  },
  {
   "cell_type": "code",
   "execution_count": null,
   "metadata": {
    "collapsed": true
   },
   "outputs": [],
   "source": []
  }
 ],
 "metadata": {
  "celltoolbar": "Slideshow",
  "kernelspec": {
   "display_name": "Python 2",
   "language": "python",
   "name": "python2"
  },
  "language_info": {
   "codemirror_mode": {
    "name": "ipython",
    "version": 2
   },
   "file_extension": ".py",
   "mimetype": "text/x-python",
   "name": "python",
   "nbconvert_exporter": "python",
   "pygments_lexer": "ipython2",
   "version": "2.7.13+"
  }
 },
 "nbformat": 4,
 "nbformat_minor": 2
}
