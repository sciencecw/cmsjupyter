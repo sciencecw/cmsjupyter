{
 "cells": [
  {
   "cell_type": "code",
   "execution_count": 1,
   "metadata": {
    "collapsed": false
   },
   "outputs": [
    {
     "name": "stdout",
     "output_type": "stream",
     "text": [
      "/home/kakw/efake/WG_Analysis/Plotting\n"
     ]
    }
   ],
   "source": [
    "cd /home/kakw/efake/WG_Analysis/Plotting"
   ]
  },
  {
   "cell_type": "code",
   "execution_count": 2,
   "metadata": {
    "collapsed": false
   },
   "outputs": [
    {
     "name": "stdout",
     "output_type": "stream",
     "text": [
      "Welcome to JupyROOT 6.10/05\n",
      "-------------------------------------\n",
      " LOAD CROSS SECTION INFO\n",
      "-------------------------------------\n",
      "DYJetsToLL_M-50                xsec : 5.77e+03 pb Nevent : 49144274 lumi : 8.52e+03 scale :     4.21\n",
      "ZGTo2LG                        xsec :      118 pb Nevent : 9321494  lumi : 7.91e+04 scale :    0.454\n",
      "TTJets_DiLept                  xsec :     85.7 pb Nevent : 6094476  lumi : 7.11e+04 scale :    0.505\n",
      "TTJets_SingleLeptFromT         xsec :      179 pb Nevent : 11957043 lumi : 6.69e+04 scale :    0.537\n",
      "TTJets_SingleLeptFromTbar      xsec :      179 pb Nevent : 46455353 lumi :  2.6e+05 scale :    0.138\n",
      "TTGJets                        xsec :      3.7 pb Nevent : 1577833  lumi : 4.27e+05 scale :   0.0841\n",
      "WWTo2L2Nu                      xsec :     12.2 pb Nevent : 1        lumi :   0.0821 scale : 4.37e+05\n",
      "WGToLNuG-amcatnloFXFX          xsec :      822 pb Nevent : 3235156  lumi : 3.94e+03 scale :     9.12\n",
      "WGToLNuG-madgraphMLM           xsec :      405 pb Nevent : 6103817  lumi : 1.51e+04 scale :     2.38\n",
      "WGToLNuG_PtG-130-amcatnloFXFX  xsec :     2.02 pb Nevent : 841701   lumi : 4.16e+05 scale :   0.0864\n",
      "WGToLNuG_PtG-130-madgraphMLM   xsec :    0.795 pb Nevent : 1645059  lumi : 2.07e+06 scale :   0.0174\n",
      "WGToLNuG_PtG-500-amcatnloFXFX  xsec :   0.0177 pb Nevent : 827560   lumi : 4.68e+07 scale : 0.000768\n",
      "WGToLNuG_PtG-500-madgraphMLM   xsec :  0.00849 pb Nevent : 1393505  lumi : 1.64e+08 scale : 0.000219\n",
      "WWG                            xsec :    0.215 pb Nevent : 827630   lumi : 3.85e+06 scale :  0.00931\n",
      "WJetsToLNu-madgraphMLM         xsec : 6.15e+04 pb Nevent : 29705748 lumi :      483 scale :     74.4\n",
      "WJetsToLNu-amcatnloFXFX        xsec : 6.15e+04 pb Nevent : 12965572 lumi :      211 scale :      170\n",
      "WJetsToLNu_HT-100To200         xsec : 1.33e+03 pb Nevent : 10235198 lumi : 7.72e+03 scale :     4.65\n",
      "WJetsToLNu_HT-200To400         xsec :      428 pb Nevent : 4950373  lumi : 1.16e+04 scale :      3.1\n",
      "WJetsToLNu_HT-400To600         xsec :     63.9 pb Nevent : 1963464  lumi : 3.07e+04 scale :     1.17\n",
      "WJetsToLNu_HT-600To800         xsec :     16.3 pb Nevent : 3779141  lumi : 2.32e+05 scale :    0.155\n",
      "WJetsToLNu_HT-800To1200        xsec :     7.48 pb Nevent : 1544513  lumi : 2.06e+05 scale :    0.174\n",
      "WJetsToLNu_HT-1200To2500       xsec :     1.79 pb Nevent : 244532   lumi : 1.36e+05 scale :    0.263\n",
      "WJetsToLNu_HT-2500ToInf        xsec :   0.0404 pb Nevent : 253561   lumi : 6.28e+06 scale :  0.00572\n",
      "WJetsToLNu_Pt-100To250         xsec :      676 pb Nevent : 3644567  lumi : 5.39e+03 scale :     6.66\n",
      "GJets_HT-40To100               xsec : 2.07e+04 pb Nevent : 4467985  lumi :      216 scale :      167\n",
      "GJets_HT-100To200              xsec : 9.23e+03 pb Nevent : 5131873  lumi :      556 scale :     64.5\n",
      "GJets_HT-200To400              xsec :  2.3e+03 pb Nevent : 10036487 lumi : 4.36e+03 scale :     8.23\n",
      "GJets_HT-400To600              xsec :      277 pb Nevent : 2529729  lumi : 9.12e+03 scale :     3.94\n",
      "GJets_HT-600ToInf              xsec :     93.4 pb Nevent : 2463946  lumi : 2.64e+04 scale :     1.36\n",
      "DiPhoton                       xsec :       84 pb Nevent : 19410854 lumi : 2.31e+05 scale :    0.155\n",
      "ResonanceMass200               xsec :   0.0219 pb Nevent : 50000    lumi : 2.28e+05 scale :    0.157\n",
      "ResonanceMass250               xsec :  0.00773 pb Nevent : 50000    lumi : 6.47e+05 scale :   0.0555\n",
      "ResonanceMass300               xsec :  0.00307 pb Nevent : 50000    lumi : 1.63e+06 scale :   0.0221\n",
      "ResonanceMass350               xsec :  0.00147 pb Nevent : 50000    lumi :  3.4e+06 scale :   0.0106\n",
      "ResonanceMass400               xsec : 0.000679 pb Nevent : 50000    lumi : 7.36e+06 scale :  0.00488\n",
      "ResonanceMass450               xsec :  0.00429 pb Nevent : 50000    lumi : 1.17e+06 scale :   0.0308\n",
      "ResonanceMass500               xsec :  0.00242 pb Nevent : 50000    lumi : 2.07e+06 scale :   0.0174\n",
      "ResonanceMass600               xsec :  0.00095 pb Nevent : 50000    lumi : 5.26e+06 scale :  0.00682\n",
      "ResonanceMass700               xsec : 0.000472 pb Nevent : 50000    lumi : 1.06e+07 scale :  0.00339\n",
      "ResonanceMass800               xsec :  0.00373 pb Nevent : 50000    lumi : 1.34e+06 scale :   0.0268\n",
      "ResonanceMass900               xsec :  0.00113 pb Nevent : 50000    lumi : 4.42e+06 scale :  0.00812\n",
      "ResonanceMass1000              xsec : 0.000748 pb Nevent : 50000    lumi : 6.69e+06 scale :  0.00537\n",
      "ResonanceMass1200              xsec : 0.000262 pb Nevent : 50000    lumi : 1.91e+07 scale :  0.00188\n",
      "ResonanceMass1400              xsec : 0.000117 pb Nevent : 50000    lumi : 4.27e+07 scale :  0.00084\n",
      "ResonanceMass1600              xsec : 5.42e-05 pb Nevent : 50000    lumi : 9.22e+07 scale : 0.000389\n",
      "ResonanceMass1800              xsec : 0.000252 pb Nevent : 50000    lumi : 1.98e+07 scale :  0.00181\n",
      "ResonanceMass2000              xsec : 0.000172 pb Nevent : 50000    lumi :  2.9e+07 scale :  0.00124\n",
      "ResonanceMass2200              xsec : 5.99e-05 pb Nevent : 50000    lumi : 8.34e+07 scale :  0.00043\n",
      "ResonanceMass2400              xsec : 4.68e-05 pb Nevent : 50000    lumi : 1.07e+08 scale : 0.000336\n",
      "ResonanceMass2600              xsec :  0.00023 pb Nevent : 50000    lumi : 2.17e+07 scale :  0.00165\n",
      "ResonanceMass2800              xsec : 0.000136 pb Nevent : 50000    lumi : 3.69e+07 scale : 0.000974\n",
      "ResonanceMass3000              xsec : 7.12e-05 pb Nevent : 50000    lumi : 7.02e+07 scale : 0.000511\n",
      "ResonanceMass3500              xsec :  2.3e-05 pb Nevent : 50000    lumi : 2.17e+08 scale : 0.000165\n",
      "ResonanceMass4000              xsec :  2.3e-05 pb Nevent : 50000    lumi : 2.17e+08 scale : 0.000165\n",
      "-------------------------------------\n",
      "BEGIN READING SAMPLES\n",
      "-------------------------------------\n",
      "AddSample: Reading SingleMuon                                [ \u001b[1;31mFailed\u001b[0m  ]\n",
      "AddSample: Reading SingleElectron                            [ \u001b[1;32mSuccess\u001b[0m ]\n",
      "AddSample: Reading DYJetsToLL_M-50_TuneCUETP8M1_13TeV-madgraphMLM-pythia8PhOlap  [ \u001b[1;32mSuccess\u001b[0m ]\n",
      "AddSample: Reading ZGTo2LG_TuneCUETP8M1_13TeV-amcatnloFXFX-pythia8  [ \u001b[1;32mSuccess\u001b[0m ]\n",
      "AddSample: Reading TTJets_DiLept_TuneCUETP8M1_13TeV-madgraphMLM-pythia8PhOlap  [ \u001b[1;32mSuccess\u001b[0m ]\n",
      "AddSample: Reading TTJets_SingleLeptFromTbar_TuneCUETP8M1_13TeV-madgraphMLM-pythia8PhOlap  [ \u001b[1;32mSuccess\u001b[0m ]\n",
      "AddSample: Reading TTJets_SingleLeptFromT_TuneCUETP8M1_13TeV-madgraphMLM-pythia8PhOlap  [ \u001b[1;32mSuccess\u001b[0m ]\n",
      "AddSample: Reading TTGJets_TuneCUETP8M1_13TeV-amcatnloFXFX-madspin-pythia8  [ \u001b[1;32mSuccess\u001b[0m ]\n",
      "AddSample: Reading WGToLNuG_TuneCUETP8M1_13TeV-amcatnloFXFX-pythia8  [ \u001b[1;32mSuccess\u001b[0m ]\n",
      "AddSample: Reading WGToLNuG_TuneCUETP8M1_13TeV-madgraphMLM-pythia8  [ \u001b[1;32mSuccess\u001b[0m ]\n",
      "AddSample: Reading WGToLNuG_PtG-130_TuneCUETP8M1_13TeV-amcatnloFXFX-pythia8  [ \u001b[1;32mSuccess\u001b[0m ]\n",
      "AddSample: Reading WGToLNuG_PtG-130_TuneCUETP8M1_13TeV-madgraphMLM-pythia8  [ \u001b[1;32mSuccess\u001b[0m ]\n",
      "AddSample: Reading WGToLNuG_PtG-500_TuneCUETP8M1_13TeV-amcatnloFXFX-pythia8  [ \u001b[1;32mSuccess\u001b[0m ]\n",
      "AddSample: Reading WGToLNuG_PtG-500_TuneCUETP8M1_13TeV-madgraphMLM-pythia8  [ \u001b[1;32mSuccess\u001b[0m ]\n",
      "AddSample: Reading WGToLNuG_TuneCUETP8M1_13TeV-amcatnloFXFX-pythia8PhCutMax  [ \u001b[1;32mSuccess\u001b[0m ]\n",
      "AddSample: Reading WGToLNuG_PtG-130_TuneCUETP8M1_13TeV-amcatnloFXFX-pythia8PhCutMaxPhCutMin  [ \u001b[1;31mFailed\u001b[0m  ]\n",
      "AddSample: Reading WGToLNuG_PtG-500_TuneCUETP8M1_13TeV-amcatnloFXFX-pythia8PhCutMin  [ \u001b[1;32mSuccess\u001b[0m ]\n",
      "AddSample: Reading WGToLNuG_TuneCUETP8M1_13TeV-madgraphMLM-pythia8PhCutMax  [ \u001b[1;32mSuccess\u001b[0m ]\n",
      "AddSample: Reading WGToLNuG_PtG-130_TuneCUETP8M1_13TeV-madgraphMLM-pythia8PhCutMaxPhCutMin  [ \u001b[1;31mFailed\u001b[0m  ]\n",
      "AddSample: Reading WGToLNuG_PtG-500_TuneCUETP8M1_13TeV-madgraphMLM-pythia8PhCutMin  [ \u001b[1;32mSuccess\u001b[0m ]\n",
      "AddSample: Reading WGToLNuG_TuneCUETP8M1_13TeV-madgraphMLM-pythia8  [ \u001b[1;32mSuccess\u001b[0m ]\n",
      "AddSample: Reading WGToLNuG_PtG-130_TuneCUETP8M1_13TeV-madgraphMLM-pythia8  [ \u001b[1;32mSuccess\u001b[0m ]\n",
      "AddSample: Reading WGToLNuG_PtG-500_TuneCUETP8M1_13TeV-madgraphMLM-pythia8  [ \u001b[1;32mSuccess\u001b[0m ]\n",
      "AddSample: Reading WJetsToLNu_TuneCUETP8M1_13TeV-madgraphMLM-pythia8  [ \u001b[1;32mSuccess\u001b[0m ]\n",
      "AddSample: Reading WWG_TuneCUETP8M1_13TeV-amcatnlo-pythia8   [ \u001b[1;31mFailed\u001b[0m  ]\n",
      "AddSample: Reading DiPhotonJets_MGG-80toInf_13TeV_amcatnloFXFX_pythia8  [ \u001b[1;32mSuccess\u001b[0m ]\n",
      "AddSample: Reading WJetsToLNu_TuneCUETP8M1_13TeV-madgraphMLM-pythia8TrueHTOlapPhOlap  [ \u001b[1;32mSuccess\u001b[0m ]\n",
      "AddSample: Reading WJetsToLNu_HT-100To200_TuneCUETP8M1_13TeV-madgraphMLM-pythia8PhOlap  [ \u001b[1;32mSuccess\u001b[0m ]\n",
      "AddSample: Reading WJetsToLNu_HT-200To400_TuneCUETP8M1_13TeV-madgraphMLM-pythia8PhOlap  [ \u001b[1;32mSuccess\u001b[0m ]\n",
      "AddSample: Reading WJetsToLNu_HT-400To600_TuneCUETP8M1_13TeV-madgraphMLM-pythia8PhOlap  [ \u001b[1;32mSuccess\u001b[0m ]\n",
      "AddSample: Reading WJetsToLNu_HT-600To800_TuneCUETP8M1_13TeV-madgraphMLM-pythia8PhOlap  [ \u001b[1;32mSuccess\u001b[0m ]\n",
      "AddSample: Reading WJetsToLNu_HT-800To1200_TuneCUETP8M1_13TeV-madgraphMLM-pythia8PhOlap  [ \u001b[1;32mSuccess\u001b[0m ]\n",
      "AddSample: Reading WJetsToLNu_HT-1200To2500_TuneCUETP8M1_13TeV-madgraphMLM-pythia8PhOlap  [ \u001b[1;32mSuccess\u001b[0m ]\n",
      "AddSample: Reading WJetsToLNu_HT-2500ToInf_TuneCUETP8M1_13TeV-madgraphMLM-pythia8PhOlap  [ \u001b[1;32mSuccess\u001b[0m ]\n",
      "AddSample: Reading GJets_HT-40To100_TuneCUETP8M1_13TeV-madgraphMLM-pythia8  [ \u001b[1;32mSuccess\u001b[0m ]\n",
      "AddSample: Reading GJets_HT-100To200_TuneCUETP8M1_13TeV-madgraphMLM-pythia8  [ \u001b[1;32mSuccess\u001b[0m ]\n",
      "AddSample: Reading GJets_HT-200To400_TuneCUETP8M1_13TeV-madgraphMLM-pythia8  [ \u001b[1;32mSuccess\u001b[0m ]\n",
      "AddSample: Reading GJets_HT-400To600_TuneCUETP8M1_13TeV-madgraphMLM-pythia8  [ \u001b[1;32mSuccess\u001b[0m ]\n",
      "AddSample: Reading GJets_HT-600ToInf_TuneCUETP8M1_13TeV-madgraphMLM-pythia8  [ \u001b[1;32mSuccess\u001b[0m ]\n",
      "AddSample: Reading MadGraphChargedResonance_WGToLNu_M200_width0p01  [ \u001b[1;31mFailed\u001b[0m  ]\n",
      "AddSample: Reading MadGraphChargedResonance_WGToLNu_M200_width5  [ \u001b[1;31mFailed\u001b[0m  ]\n",
      "AddSample: Reading MadGraphChargedResonance_WGToLNu_M250_width0p01  [ \u001b[1;31mFailed\u001b[0m  ]\n",
      "AddSample: Reading MadGraphChargedResonance_WGToLNu_M250_width5  [ \u001b[1;31mFailed\u001b[0m  ]\n",
      "AddSample: Reading MadGraphChargedResonance_WGToLNu_M300_width0p01  [ \u001b[1;31mFailed\u001b[0m  ]\n",
      "AddSample: Reading MadGraphChargedResonance_WGToLNu_M300_width5  [ \u001b[1;31mFailed\u001b[0m  ]\n",
      "AddSample: Reading MadGraphChargedResonance_WGToLNu_M350_width0p01  [ \u001b[1;31mFailed\u001b[0m  ]\n",
      "AddSample: Reading MadGraphChargedResonance_WGToLNu_M350_width5  [ \u001b[1;31mFailed\u001b[0m  ]\n",
      "AddSample: Reading MadGraphChargedResonance_WGToLNu_M400_width0p01  [ \u001b[1;31mFailed\u001b[0m  ]\n",
      "AddSample: Reading MadGraphChargedResonance_WGToLNu_M400_width5  [ \u001b[1;31mFailed\u001b[0m  ]\n",
      "AddSample: Reading MadGraphChargedResonance_WGToLNu_M450_width0p01  [ \u001b[1;31mFailed\u001b[0m  ]\n",
      "AddSample: Reading MadGraphChargedResonance_WGToLNu_M450_width5  [ \u001b[1;31mFailed\u001b[0m  ]\n",
      "AddSample: Reading MadGraphChargedResonance_WGToLNu_M500_width0p01  [ \u001b[1;31mFailed\u001b[0m  ]\n",
      "AddSample: Reading MadGraphChargedResonance_WGToLNu_M500_width5  [ \u001b[1;31mFailed\u001b[0m  ]\n",
      "AddSample: Reading MadGraphChargedResonance_WGToLNu_M600_width0p01  [ \u001b[1;31mFailed\u001b[0m  ]\n",
      "AddSample: Reading MadGraphChargedResonance_WGToLNu_M600_width5  [ \u001b[1;31mFailed\u001b[0m  ]\n",
      "AddSample: Reading MadGraphChargedResonance_WGToLNu_M700_width0p01  [ \u001b[1;31mFailed\u001b[0m  ]\n",
      "AddSample: Reading MadGraphChargedResonance_WGToLNu_M700_width5  [ \u001b[1;31mFailed\u001b[0m  ]\n",
      "AddSample: Reading MadGraphChargedResonance_WGToLNu_M800_width0p01  [ \u001b[1;31mFailed\u001b[0m  ]\n",
      "AddSample: Reading MadGraphChargedResonance_WGToLNu_M800_width5  [ \u001b[1;31mFailed\u001b[0m  ]\n",
      "AddSample: Reading MadGraphChargedResonance_WGToLNu_M900_width0p01  [ \u001b[1;31mFailed\u001b[0m  ]\n",
      "AddSample: Reading MadGraphChargedResonance_WGToLNu_M900_width5  [ \u001b[1;31mFailed\u001b[0m  ]\n",
      "AddSample: Reading MadGraphChargedResonance_WGToLNu_M1000_width0p01  [ \u001b[1;31mFailed\u001b[0m  ]\n",
      "AddSample: Reading MadGraphChargedResonance_WGToLNu_M1000_width5  [ \u001b[1;31mFailed\u001b[0m  ]\n",
      "AddSample: Reading MadGraphChargedResonance_WGToLNu_M1200_width0p01  [ \u001b[1;31mFailed\u001b[0m  ]\n",
      "AddSample: Reading MadGraphChargedResonance_WGToLNu_M1200_width5  [ \u001b[1;31mFailed\u001b[0m  ]\n",
      "AddSample: Reading MadGraphChargedResonance_WGToLNu_M1400_width0p01  [ \u001b[1;31mFailed\u001b[0m  ]\n",
      "AddSample: Reading MadGraphChargedResonance_WGToLNu_M1400_width5  [ \u001b[1;31mFailed\u001b[0m  ]\n",
      "AddSample: Reading MadGraphChargedResonance_WGToLNu_M1600_width0p01  [ \u001b[1;31mFailed\u001b[0m  ]\n",
      "AddSample: Reading MadGraphChargedResonance_WGToLNu_M1600_width5  [ \u001b[1;31mFailed\u001b[0m  ]\n",
      "AddSample: Reading MadGraphChargedResonance_WGToLNu_M1800_width0p01  [ \u001b[1;31mFailed\u001b[0m  ]\n",
      "AddSample: Reading MadGraphChargedResonance_WGToLNu_M1800_width5  [ \u001b[1;31mFailed\u001b[0m  ]\n",
      "AddSample: Reading MadGraphChargedResonance_WGToLNu_M2000_width0p01  [ \u001b[1;31mFailed\u001b[0m  ]\n",
      "AddSample: Reading MadGraphChargedResonance_WGToLNu_M2000_width5  [ \u001b[1;31mFailed\u001b[0m  ]\n",
      "AddSample: Reading MadGraphChargedResonance_WGToLNu_M2200_width0p01  [ \u001b[1;31mFailed\u001b[0m  ]\n",
      "AddSample: Reading MadGraphChargedResonance_WGToLNu_M2200_width5  [ \u001b[1;31mFailed\u001b[0m  ]\n",
      "AddSample: Reading MadGraphChargedResonance_WGToLNu_M2400_width0p01  [ \u001b[1;31mFailed\u001b[0m  ]\n",
      "AddSample: Reading MadGraphChargedResonance_WGToLNu_M2400_width5  [ \u001b[1;31mFailed\u001b[0m  ]\n",
      "AddSample: Reading MadGraphChargedResonance_WGToLNu_M2600_width0p01  [ \u001b[1;31mFailed\u001b[0m  ]\n",
      "AddSample: Reading MadGraphChargedResonance_WGToLNu_M2800_width0p01  [ \u001b[1;31mFailed\u001b[0m  ]\n",
      "AddSample: Reading MadGraphChargedResonance_WGToLNu_M2800_width5  [ \u001b[1;31mFailed\u001b[0m  ]\n",
      "AddSample: Reading MadGraphChargedResonance_WGToLNu_M3000_width0p01  [ \u001b[1;31mFailed\u001b[0m  ]\n",
      "AddSample: Reading MadGraphChargedResonance_WGToLNu_M3500_width0p01  [ \u001b[1;31mFailed\u001b[0m  ]\n",
      "AddSample: Reading MadGraphChargedResonance_WGToLNu_M3500_width5  [ \u001b[1;31mFailed\u001b[0m  ]\n",
      "AddSample: Reading MadGraphChargedResonance_WGToLNu_M4000_width0p01  [ \u001b[1;31mFailed\u001b[0m  ]\n",
      "AddSample: Reading MadGraphChargedResonance_WGToLNu_M4000_width5  [ \u001b[1;31mFailed\u001b[0m  ]\n",
      "AddSample: Reading PythiaChargedResonance_WGToLNu_M200_width0p01  [ \u001b[1;31mFailed\u001b[0m  ]\n",
      "AddSample: Reading PythiaChargedResonance_WGToLNu_M200_width5  [ \u001b[1;31mFailed\u001b[0m  ]\n",
      "AddSample: Reading PythiaChargedResonance_WGToLNu_M250_width0p01  [ \u001b[1;31mFailed\u001b[0m  ]\n",
      "AddSample: Reading PythiaChargedResonance_WGToLNu_M250_width5  [ \u001b[1;31mFailed\u001b[0m  ]\n",
      "AddSample: Reading PythiaChargedResonance_WGToLNu_M300_width0p01  [ \u001b[1;31mFailed\u001b[0m  ]\n",
      "AddSample: Reading PythiaChargedResonance_WGToLNu_M300_width5  [ \u001b[1;31mFailed\u001b[0m  ]\n",
      "AddSample: Reading PythiaChargedResonance_WGToLNu_M350_width0p01  [ \u001b[1;31mFailed\u001b[0m  ]\n",
      "AddSample: Reading PythiaChargedResonance_WGToLNu_M350_width5  [ \u001b[1;31mFailed\u001b[0m  ]\n",
      "AddSample: Reading PythiaChargedResonance_WGToLNu_M400_width0p01  [ \u001b[1;31mFailed\u001b[0m  ]\n",
      "AddSample: Reading PythiaChargedResonance_WGToLNu_M400_width5  [ \u001b[1;31mFailed\u001b[0m  ]\n",
      "AddSample: Reading PythiaChargedResonance_WGToLNu_M450_width0p01  [ \u001b[1;31mFailed\u001b[0m  ]\n",
      "AddSample: Reading PythiaChargedResonance_WGToLNu_M450_width5  [ \u001b[1;31mFailed\u001b[0m  ]\n",
      "AddSample: Reading PythiaChargedResonance_WGToLNu_M500_width0p01  [ \u001b[1;31mFailed\u001b[0m  ]\n",
      "AddSample: Reading PythiaChargedResonance_WGToLNu_M500_width5  [ \u001b[1;31mFailed\u001b[0m  ]\n",
      "AddSample: Reading PythiaChargedResonance_WGToLNu_M600_width0p01  [ \u001b[1;31mFailed\u001b[0m  ]\n",
      "AddSample: Reading PythiaChargedResonance_WGToLNu_M600_width5  [ \u001b[1;31mFailed\u001b[0m  ]\n",
      "AddSample: Reading PythiaChargedResonance_WGToLNu_M700_width0p01  [ \u001b[1;31mFailed\u001b[0m  ]\n",
      "AddSample: Reading PythiaChargedResonance_WGToLNu_M700_width5  [ \u001b[1;31mFailed\u001b[0m  ]\n",
      "AddSample: Reading PythiaChargedResonance_WGToLNu_M800_width0p01  [ \u001b[1;31mFailed\u001b[0m  ]\n",
      "AddSample: Reading PythiaChargedResonance_WGToLNu_M800_width5  [ \u001b[1;31mFailed\u001b[0m  ]\n",
      "AddSample: Reading PythiaChargedResonance_WGToLNu_M900_width0p01  [ \u001b[1;31mFailed\u001b[0m  ]\n",
      "AddSample: Reading PythiaChargedResonance_WGToLNu_M900_width5  [ \u001b[1;31mFailed\u001b[0m  ]\n",
      "AddSample: Reading PythiaChargedResonance_WGToLNu_M1000_width0p01  [ \u001b[1;31mFailed\u001b[0m  ]\n",
      "AddSample: Reading PythiaChargedResonance_WGToLNu_M1000_width5  [ \u001b[1;31mFailed\u001b[0m  ]\n",
      "AddSample: Reading PythiaChargedResonance_WGToLNu_M1200_width0p01  [ \u001b[1;31mFailed\u001b[0m  ]\n",
      "AddSample: Reading PythiaChargedResonance_WGToLNu_M1200_width5  [ \u001b[1;31mFailed\u001b[0m  ]\n",
      "AddSample: Reading PythiaChargedResonance_WGToLNu_M1400_width0p01  [ \u001b[1;31mFailed\u001b[0m  ]\n",
      "AddSample: Reading PythiaChargedResonance_WGToLNu_M1400_width5  [ \u001b[1;31mFailed\u001b[0m  ]\n",
      "AddSample: Reading PythiaChargedResonance_WGToLNu_M1600_width0p01  [ \u001b[1;31mFailed\u001b[0m  ]\n",
      "AddSample: Reading PythiaChargedResonance_WGToLNu_M1600_width5  [ \u001b[1;31mFailed\u001b[0m  ]\n",
      "AddSample: Reading PythiaChargedResonance_WGToLNu_M1800_width0p01  [ \u001b[1;31mFailed\u001b[0m  ]\n",
      "AddSample: Reading PythiaChargedResonance_WGToLNu_M1800_width5  [ \u001b[1;31mFailed\u001b[0m  ]\n",
      "AddSample: Reading PythiaChargedResonance_WGToLNu_M2000_width0p01  [ \u001b[1;31mFailed\u001b[0m  ]\n",
      "AddSample: Reading PythiaChargedResonance_WGToLNu_M2000_width5  [ \u001b[1;31mFailed\u001b[0m  ]\n",
      "AddSample: Reading PythiaChargedResonance_WGToLNu_M2200_width0p01  [ \u001b[1;31mFailed\u001b[0m  ]\n",
      "AddSample: Reading PythiaChargedResonance_WGToLNu_M2200_width5  [ \u001b[1;31mFailed\u001b[0m  ]\n",
      "AddSample: Reading PythiaChargedResonance_WGToLNu_M2400_width0p01  [ \u001b[1;31mFailed\u001b[0m  ]\n",
      "AddSample: Reading PythiaChargedResonance_WGToLNu_M2400_width5  [ \u001b[1;31mFailed\u001b[0m  ]\n",
      "AddSample: Reading PythiaChargedResonance_WGToLNu_M2600_width0p01  [ \u001b[1;31mFailed\u001b[0m  ]\n",
      "AddSample: Reading PythiaChargedResonance_WGToLNu_M2800_width0p01  [ \u001b[1;31mFailed\u001b[0m  ]\n",
      "AddSample: Reading PythiaChargedResonance_WGToLNu_M2800_width5  [ \u001b[1;31mFailed\u001b[0m  ]\n",
      "AddSample: Reading PythiaChargedResonance_WGToLNu_M3000_width0p01  [ \u001b[1;31mFailed\u001b[0m  ]\n",
      "AddSample: Reading PythiaChargedResonance_WGToLNu_M3500_width0p01  [ \u001b[1;31mFailed\u001b[0m  ]\n",
      "AddSample: Reading PythiaChargedResonance_WGToLNu_M3500_width5  [ \u001b[1;31mFailed\u001b[0m  ]\n",
      "AddSample: Reading PythiaChargedResonance_WGToLNu_M4000_width0p01  [ \u001b[1;31mFailed\u001b[0m  ]\n",
      "AddSample: Reading PythiaChargedResonance_WGToLNu_M4000_width5  [ \u001b[1;31mFailed\u001b[0m  ]\n",
      "WARNING - Child sample, SingleMuon, does not exist!\n",
      "Grouping Data\n",
      "WARNING - Child sample, WGToLNuG_PtG-130-amcatnloFXFXPhCut, does not exist!\n",
      "Grouping Wgamma\n",
      "Grouping Z+jets\n",
      "Grouping Zgamma\n",
      "Grouping WgammaLO\n",
      "Grouping Wjets\n",
      "Grouping TTG\n",
      "Grouping GJets\n",
      "Grouping GammaGamma\n",
      "Grouping TTbar_DiLep\n",
      "Grouping TTbar_SingleLep\n",
      "Grouping AllTop\n",
      "Grouping Others\n",
      "Grouping MCBackground\n",
      "Grouping MCBackgroundLO\n",
      "Grouping JetBackground\n",
      "Grouping EleFakeBackground\n"
     ]
    }
   ],
   "source": [
    " %run interactiveStackTree.py --baseDir  /data/users/kakw/Resonances/LepGamma_elg_newblind_2018_09_23_beta \\\n",
    "--samplesConf Modules/Resonance.py --xsFile cross_sections/photon15.py \\\n",
    "--lumi 35900. --treeName UMDNTuple/EventTree --fileName tree.root --jupyt --quiet"
   ]
  },
  {
   "cell_type": "code",
   "execution_count": 3,
   "metadata": {
    "collapsed": true
   },
   "outputs": [],
   "source": [
    "base = 'ph_n>=1 && el_n==1'\n",
    "baseeta = base + ' && abs(ph_eta[0])<1.4'\n",
    "base1 = 'ph_n==1 && el_n==1'\n",
    "base1eta = base1 + ' && ph_IsEB[0]'\n",
    "passpix = '&& ph_hasPixSeed[0]==0'  #Pixel seed\n",
    "failpix = '&& ph_hasPixSeed[0]==1'\n",
    "passcsev = '&& ph_passEleVeto[0]==1' #CSEV\n",
    "failcsev = '&& ph_passEleVeto[0]==0' \n",
    "ltmet = '&&met_pt<25'\n",
    "gtmet = '&&met_pt>25'\n",
    "phpt50 = \"&&ph_pt[0]>50\"\n",
    "unblind = \"ph_hasPixSeed[0]==1 || met_pt<25\"\n",
    "weight = \"PUWeight*NLOWeight\""
   ]
  },
  {
   "cell_type": "code",
   "execution_count": 4,
   "metadata": {
    "collapsed": true
   },
   "outputs": [],
   "source": [
    "from math import sqrt"
   ]
  },
  {
   "cell_type": "code",
   "execution_count": 5,
   "metadata": {
    "collapsed": false
   },
   "outputs": [
    {
     "name": "stdout",
     "output_type": "stream",
     "text": [
      "Activate sample Z+jets\n"
     ]
    }
   ],
   "source": [
    "samples.deactivate_all_samples()\n",
    "samples.activate_sample([\"Z+jets\"])#,\"Zgamma\"])"
   ]
  },
  {
   "cell_type": "code",
   "execution_count": 6,
   "metadata": {
    "collapsed": false
   },
   "outputs": [
    {
     "name": "stdout",
     "output_type": "stream",
     "text": [
      "m_lep_ph :\u001b[1;36m ph_n==1 && el_n==1 && ph_IsEB[0]&& ph_hasPixSeed[0]==0&&ph_pt[0]>0&&ph_pt[0]<30\u001b[0m\n",
      "stack_sum 67410.9099232\n"
     ]
    }
   ],
   "source": [
    "samples.Draw(\"m_lep_ph\",base1eta+passpix+\"&&ph_pt[0]>0&&ph_pt[0]<30\",(200,0,200),\n",
    "             {\"xlabel\":\"m(e,#gamma) \" , \"weight\": weight})\n",
    "h1 = samples.get_samples(name='__AllStack__')[0].hist.Clone()\n",
    "#h1.Scale(1./h1.Integral())"
   ]
  },
  {
   "cell_type": "code",
   "execution_count": 7,
   "metadata": {
    "collapsed": false
   },
   "outputs": [
    {
     "data": {
      "image/png": "[encoded data removed]",
      "text/plain": [
       "<IPython.core.display.Image object>"
      ]
     },
     "metadata": {},
     "output_type": "display_data"
    }
   ],
   "source": [
    "samples.curr_canvases[\"base\"].Draw()"
   ]
  },
  {
   "cell_type": "code",
   "execution_count": 8,
   "metadata": {
    "collapsed": false
   },
   "outputs": [
    {
     "name": "stdout",
     "output_type": "stream",
     "text": [
      "m_lep_ph :\u001b[1;36m ph_n==1 && el_n==1 && ph_IsEB[0]&&ph_pt[0]>80\u001b[0m\n",
      "stack_sum 27852.7680712\n"
     ]
    }
   ],
   "source": [
    "samples.Draw(\"m_lep_ph\",base1eta+\"&&ph_pt[0]>80\",(300,0,300),\n",
    "             {\"xlabel\":\"m(e,#gamma) \" , \"weight\": weight,\"logy\":1})\n",
    "h1 = samples.get_samples(name='__AllStack__')[0].hist.Clone()\n",
    "#h1.Scale(1./h1.Integral())"
   ]
  },
  {
   "cell_type": "code",
   "execution_count": 9,
   "metadata": {
    "collapsed": false
   },
   "outputs": [
    {
     "data": {
      "image/png": "[encoded data removed]",
      "text/plain": [
       "<IPython.core.display.Image object>"
      ]
     },
     "metadata": {},
     "output_type": "display_data"
    }
   ],
   "source": [
    "samples.curr_canvases[\"base\"].Draw()"
   ]
  },
  {
   "cell_type": "code",
   "execution_count": null,
   "metadata": {
    "collapsed": true
   },
   "outputs": [],
   "source": []
  },
  {
   "cell_type": "code",
   "execution_count": null,
   "metadata": {
    "collapsed": true
   },
   "outputs": [],
   "source": [
    "c=ROOT.TCanvas()\n",
    "h1.Draw()"
   ]
  },
  {
   "cell_type": "code",
   "execution_count": null,
   "metadata": {
    "collapsed": false
   },
   "outputs": [],
   "source": [
    "h1.GetNbinsX()"
   ]
  },
  {
   "cell_type": "code",
   "execution_count": null,
   "metadata": {
    "collapsed": false
   },
   "outputs": [],
   "source": [
    "for i in range(h1.GetNbinsX()):\n",
    "    err = h1.GetBinError(i+1)\n",
    "    print i+1, err, sqrt(err*err+100)\n",
    "    h1.SetBinError(i+1,sqrt(err*err+100))"
   ]
  },
  {
   "cell_type": "code",
   "execution_count": null,
   "metadata": {
    "collapsed": false
   },
   "outputs": [],
   "source": [
    "%jsroot\n",
    "c.Draw()"
   ]
  },
  {
   "cell_type": "code",
   "execution_count": null,
   "metadata": {
    "collapsed": false
   },
   "outputs": [],
   "source": [
    "samples.Draw(\"PUWeight\",base1eta+passpix+\"&&ph_pt[0]>0&&ph_pt[0]<30\"+\"&&m_lep_ph>172&&m_lep_ph<173\",(200,0,1),\n",
    "             {\"xlabel\":\"m(e,#gamma) \" })\n",
    "h1 = samples.get_samples(name='__AllStack__')[0].hist.Clone()\n",
    "#h1.Scale(1./h1.Integral())"
   ]
  },
  {
   "cell_type": "code",
   "execution_count": null,
   "metadata": {
    "collapsed": true
   },
   "outputs": [],
   "source": [
    "c=ROOT.TCanvas()\n",
    "h1.Draw()"
   ]
  },
  {
   "cell_type": "code",
   "execution_count": null,
   "metadata": {
    "collapsed": false
   },
   "outputs": [],
   "source": [
    "%jsroot \n",
    "c.Draw()"
   ]
  },
  {
   "cell_type": "code",
   "execution_count": null,
   "metadata": {
    "collapsed": true
   },
   "outputs": [],
   "source": [
    "x = ROOT.RooRealVar(\"x\",\"x\",0,200,\"GeV\")\n",
    "x2 = ROOT.RooRealVar(\"x\",\"reco mass [GeV]\",0,200,\"GeV\")"
   ]
  },
  {
   "cell_type": "code",
   "execution_count": 10,
   "metadata": {
    "collapsed": false
   },
   "outputs": [
    {
     "name": "stdout",
     "output_type": "stream",
     "text": [
      "(DoubleCB) Name:  Title: \n"
     ]
    },
    {
     "name": "stderr",
     "output_type": "stream",
     "text": [
      "Info in <TUnixSystem::ACLiC>: creating shared library /home/kakw/efake/WG_Analysis/Plotting/./DoubleCB_cxx.so\n"
     ]
    }
   ],
   "source": [
    "loaded = ROOT.gROOT.ProcessLineSync(\".x DoubleCB.cxx+\") "
   ]
  },
  {
   "cell_type": "code",
   "execution_count": 11,
   "metadata": {
    "collapsed": false
   },
   "outputs": [
    {
     "name": "stdout",
     "output_type": "stream",
     "text": [
      "(DoubleCBOrig) Name:  Title: \n"
     ]
    }
   ],
   "source": [
    "loaded = ROOT.gROOT.ProcessLineSync(\".x DoubleCBOrig.cxx+\") "
   ]
  },
  {
   "cell_type": "code",
   "execution_count": 12,
   "metadata": {
    "collapsed": false
   },
   "outputs": [
    {
     "data": {
      "text/plain": [
       "<ROOT.DoubleCB object (\"pdf\") at 0x5bdbaa0>"
      ]
     },
     "execution_count": 12,
     "metadata": {},
     "output_type": "execute_result"
    }
   ],
   "source": [
    "wk = ROOT.RooWorkspace(\"doublecb\") \n",
    "wk.factory(\"DoubleCB::pdf(x[70,195],dcb_mass[90,80,100],dcb_sigma[1,0.1,100],\"\n",
    "           \"dcb_alpha1[1,0,10],dcb_power1[2,0,10],dcb_alpha2[1,0,10],dcb_power2[2,0,10])\")\n"
   ]
  },
  {
   "cell_type": "code",
   "execution_count": 13,
   "metadata": {
    "collapsed": false
   },
   "outputs": [],
   "source": [
    "func_pdf = wk.pdf(\"pdf\")\n"
   ]
  },
  {
   "cell_type": "code",
   "execution_count": null,
   "metadata": {
    "collapsed": false
   },
   "outputs": [],
   "source": [
    "### for trying out division in parametrization\n",
    "#wk.factory(\"DoubleCB::pdfnew2(x[70,195],dcb_mass[90,80,100],dcb_sigma[1,0.1,100],\"\n",
    "#           \"dcb_alpha1[1,0,10],dcb_power1[1,0,10]/dcb_alpha1[2,0,10],dcb_alpha2[1,0,10],dcb_power2[1,0,10]/dcb_alpha2[2,0,10])\")\n"
   ]
  },
  {
   "cell_type": "code",
   "execution_count": 14,
   "metadata": {
    "collapsed": false
   },
   "outputs": [
    {
     "data": {
      "text/plain": [
       "<ROOT.DoubleCB object (\"pdfnew\") at 0x7a9a650>"
      ]
     },
     "execution_count": 14,
     "metadata": {},
     "output_type": "execute_result"
    },
    {
     "name": "stdout",
     "output_type": "stream",
     "text": [
      "[#1] INFO:ObjectHandling -- RooWorkSpace::import(doublecb) Recycling existing object x created with identical factory specification\n"
     ]
    }
   ],
   "source": [
    "wk.factory(\"DoubleCB::pdfnew(x[70,195],dcbo_mass[86,80,100],dcbo_sigma[9.5,0.1,100],\"\n",
    "           \"dcbo_alpha1[0.2,0,10],dcbo_power1[33.5,0,100],dcbo_alpha2[1.6,0,10],dcbo_power2[3.57,0,10])\")"
   ]
  },
  {
   "cell_type": "code",
   "execution_count": 15,
   "metadata": {
    "collapsed": false
   },
   "outputs": [
    {
     "name": "stdout",
     "output_type": "stream",
     "text": [
      "\n",
      "RooWorkspace(doublecb) doublecb contents\n",
      "\n",
      "variables\n",
      "---------\n",
      "(dcb_alpha1,dcb_alpha2,dcb_mass,dcb_power1,dcb_power2,dcb_sigma,dcbo_alpha1,dcbo_alpha2,dcbo_mass,dcbo_power1,dcbo_power2,dcbo_sigma,x)\n",
      "\n",
      "p.d.f.s\n",
      "-------\n",
      "DoubleCB::pdf[ m=x m0=dcb_mass sigma=dcb_sigma alpha1=dcb_alpha1 n1=dcb_power1 alpha2=dcb_alpha2 n2=dcb_power2 ] = 0.00128214\n",
      "DoubleCB::pdfnew[ m=x m0=dcbo_mass sigma=dcbo_sigma alpha1=dcbo_alpha1 n1=dcbo_power1 alpha2=dcbo_alpha2 n2=dcbo_power2 ] = 0.0185761\n",
      "\n"
     ]
    }
   ],
   "source": [
    "wk.Print()\n"
   ]
  },
  {
   "cell_type": "code",
   "execution_count": 16,
   "metadata": {
    "collapsed": true
   },
   "outputs": [],
   "source": [
    "func_pdfnew = wk.pdf(\"pdfnew\")\n"
   ]
  },
  {
   "cell_type": "code",
   "execution_count": 17,
   "metadata": {
    "collapsed": false
   },
   "outputs": [
    {
     "data": {
      "text/plain": [
       "0.0185761379113375"
      ]
     },
     "execution_count": 17,
     "metadata": {},
     "output_type": "execute_result"
    }
   ],
   "source": [
    "func_pdfnew.getVal()"
   ]
  },
  {
   "cell_type": "code",
   "execution_count": 18,
   "metadata": {
    "collapsed": false
   },
   "outputs": [
    {
     "data": {
      "text/plain": [
       "0.0012821364189988288"
      ]
     },
     "execution_count": 18,
     "metadata": {},
     "output_type": "execute_result"
    }
   ],
   "source": [
    "func_pdf.getVal()"
   ]
  },
  {
   "cell_type": "code",
   "execution_count": 19,
   "metadata": {
    "collapsed": true
   },
   "outputs": [],
   "source": [
    "x = wk.var(\"x\")"
   ]
  },
  {
   "cell_type": "code",
   "execution_count": 20,
   "metadata": {
    "collapsed": false
   },
   "outputs": [
    {
     "name": "stdout",
     "output_type": "stream",
     "text": [
      "[#1] INFO:DataHandling -- RooDataHist::adjustBinning(datahist): fit range of variable x expanded to nearest bin boundaries: [70,195] --> [70,195]\n"
     ]
    }
   ],
   "source": [
    "datahist = ROOT.RooDataHist( 'datahist', 'data',                                                                                            \n",
    "                         ROOT.RooArgList(x), h1 )"
   ]
  },
  {
   "cell_type": "code",
   "execution_count": null,
   "metadata": {
    "collapsed": false
   },
   "outputs": [],
   "source": [
    "canvas = ROOT.TCanvas(\"cfit\",\"Fitter\",800,500)\n",
    "frame = x.frame(RooFit.Title(\"here is title\"))\n",
    "datahist.plotOn(frame)\n",
    "func_pdf.plotOn( frame,RooFit.LineColor(2),RooFit.NormRange('myrange'),ROOT.RooFit.Range(60,190))\n",
    "func_pdfnew.plotOn( frame,RooFit.LineColor(4),RooFit.NormRange('myrange'),ROOT.RooFit.Range(60,190))\n",
    "frame.Draw()\n",
    "canvas.SetLogy(1)"
   ]
  },
  {
   "cell_type": "code",
   "execution_count": null,
   "metadata": {
    "collapsed": false
   },
   "outputs": [],
   "source": [
    "%jsroot\n",
    "canvas.Draw()"
   ]
  },
  {
   "cell_type": "code",
   "execution_count": null,
   "metadata": {
    "collapsed": true
   },
   "outputs": [],
   "source": []
  },
  {
   "cell_type": "code",
   "execution_count": null,
   "metadata": {
    "collapsed": false,
    "scrolled": true
   },
   "outputs": [],
   "source": [
    "frm = x.frame()\n",
    "func_pdf.fitTo(datahist,ROOT.RooFit.Range(60,190),ROOT.RooFit.SumW2Error(True))\n",
    "func_pdfnew.fitTo(datahist,ROOT.RooFit.Range(60,190),ROOT.RooFit.SumW2Error(True))"
   ]
  },
  {
   "cell_type": "code",
   "execution_count": null,
   "metadata": {
    "collapsed": false
   },
   "outputs": [],
   "source": [
    "canvas = ROOT.TCanvas(\"cfit\",\"Fitter\",800,500)\n",
    "frame = x.frame(RooFit.Title(\"here is title\"))\n",
    "datahist.plotOn(frame)\n",
    "func_pdf.plotOn( frame,RooFit.LineColor(2),RooFit.NormRange('myrange'),ROOT.RooFit.Range(60,190))\n",
    "func_pdfnew.plotOn( frame,RooFit.LineColor(4),RooFit.NormRange('myrange'),ROOT.RooFit.Range(60,190))\n",
    "frame.Draw()\n",
    "frame.SetMaximum(1e5)\n",
    "frame.SetMinimum(1)\n",
    "canvas.SetLogy(1)"
   ]
  },
  {
   "cell_type": "code",
   "execution_count": null,
   "metadata": {
    "collapsed": false
   },
   "outputs": [],
   "source": [
    "%jsroot\n",
    "canvas.Draw()"
   ]
  },
  {
   "cell_type": "markdown",
   "metadata": {},
   "source": [
    "RooPlot* frame1 = y.frame(Title(\"Compiled class MyPdfV3\")) ;\n",
    "RooDataSet* data = pdf->generate(y,1000) ;\n",
    "pdf->fitTo(*data) ;\n",
    "data->plotOn(frame1) ;\n",
    "pdf->plotOn(frame1) ;"
   ]
  },
  {
   "cell_type": "code",
   "execution_count": null,
   "metadata": {
    "collapsed": false
   },
   "outputs": [],
   "source": [
    "frame.chiSquare(6)"
   ]
  },
  {
   "cell_type": "code",
   "execution_count": null,
   "metadata": {
    "collapsed": false
   },
   "outputs": [],
   "source": [
    "hresid = frame.residHist()\n",
    "frame2 = x.frame(RooFit.Title(\"Residual Distribution\")) \n",
    "frame2.addPlotable(hresid,\"P\")\n",
    "frame2.Draw()\n",
    "#frame.SetMaximum(10)\n",
    "#frame.SetMinimum(-10)\n",
    "canvas.SetLogy(0)"
   ]
  },
  {
   "cell_type": "code",
   "execution_count": null,
   "metadata": {
    "collapsed": false
   },
   "outputs": [],
   "source": [
    "canvas.Draw()"
   ]
  },
  {
   "cell_type": "code",
   "execution_count": null,
   "metadata": {
    "collapsed": false
   },
   "outputs": [],
   "source": [
    "hpull = frame.pullHist()\n",
    "frame3 = x.frame(RooFit.Title(\"pull Distribution\")) \n",
    "frame3.addPlotable(hpull,\"P\")\n",
    "frame3.SetYTitle(\"Pull\")\n",
    "frame3.Draw()"
   ]
  },
  {
   "cell_type": "code",
   "execution_count": null,
   "metadata": {
    "collapsed": false
   },
   "outputs": [],
   "source": [
    "latex = ROOT.TLatex()\n",
    "latex.DrawLatex(20,0,\"#chi^{2}=250\")\n",
    "latex.DrawLatexNDC(0.15,.8,\"(.1,.5)\")\n",
    "latex.SetTextSize(0.05)\n",
    "latex.Draw()\n",
    "line = ROOT.TLine(0,0,210,0)\n",
    "line.SetLineStyle(3)\n",
    "line.SetLineWidth(2)\n",
    "line.Draw()"
   ]
  },
  {
   "cell_type": "code",
   "execution_count": null,
   "metadata": {
    "collapsed": false
   },
   "outputs": [],
   "source": [
    "canvas.Draw()"
   ]
  },
  {
   "cell_type": "code",
   "execution_count": null,
   "metadata": {
    "collapsed": true
   },
   "outputs": [],
   "source": [
    "from array import array"
   ]
  },
  {
   "cell_type": "code",
   "execution_count": null,
   "metadata": {
    "collapsed": true
   },
   "outputs": [],
   "source": [
    "tod = lambda x : array(\"d\",x)"
   ]
  },
  {
   "cell_type": "code",
   "execution_count": null,
   "metadata": {
    "collapsed": false
   },
   "outputs": [],
   "source": [
    "tg = ROOT.TGraphErrors(4,tod([1,2,3,4]),tod([2,3,4,5]))"
   ]
  },
  {
   "cell_type": "code",
   "execution_count": null,
   "metadata": {
    "collapsed": true
   },
   "outputs": [],
   "source": [
    "tg.Draw(\"AL\")"
   ]
  },
  {
   "cell_type": "code",
   "execution_count": null,
   "metadata": {
    "collapsed": true
   },
   "outputs": [],
   "source": [
    "line = ROOT.TLine(1,3,4.5,3)\n",
    "line.SetLineStyle(3)\n",
    "line.SetLineWidth(2)\n",
    "line.SetLineColor(2)\n",
    "line.Draw()"
   ]
  },
  {
   "cell_type": "code",
   "execution_count": null,
   "metadata": {
    "collapsed": false
   },
   "outputs": [],
   "source": [
    "canvas.Draw()"
   ]
  },
  {
   "cell_type": "code",
   "execution_count": null,
   "metadata": {
    "collapsed": false
   },
   "outputs": [],
   "source": [
    "%%javascript\n",
    "IPython.notebook.kernel.execute('nb_name = \"' + IPython.notebook.notebook_name + '\"')"
   ]
  },
  {
   "cell_type": "code",
   "execution_count": null,
   "metadata": {
    "collapsed": false
   },
   "outputs": [],
   "source": [
    "!bash /home/kakw/forjupyter/jupyterconvert.sh /home/kakw/public_html {nb_name}"
   ]
  },
  {
   "cell_type": "code",
   "execution_count": null,
   "metadata": {
    "collapsed": true
   },
   "outputs": [],
   "source": []
  }
 ],
 "metadata": {
  "kernelspec": {
   "display_name": "Python 2",
   "language": "python",
   "name": "python2"
  },
  "language_info": {
   "codemirror_mode": {
    "name": "ipython",
    "version": 2
   },
   "file_extension": ".py",
   "mimetype": "text/x-python",
   "name": "python",
   "nbconvert_exporter": "python",
   "pygments_lexer": "ipython2",
   "version": "2.7.13+"
  }
 },
 "nbformat": 4,
 "nbformat_minor": 2
}
