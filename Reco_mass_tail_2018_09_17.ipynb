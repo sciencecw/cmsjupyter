{
 "cells": [
  {
   "cell_type": "markdown",
   "metadata": {
    "slideshow": {
     "slide_type": "slide"
    }
   },
   "source": [
    "# reco mass tail discrepency"
   ]
  },
  {
   "cell_type": "markdown",
   "metadata": {
    "slideshow": {
     "slide_type": "slide"
    }
   },
   "source": [
    "## Recap:\n",
    "\n",
    " - We saw discrepency in electron-photon reconstructed mass between data and combined MC\n",
    " - MC predicts a much longer tail than what is shown in data\n",
    " - selecting high mass events, data tends to concentrate in end cap, whereas eta distribution is flat for MC\n",
    " "
   ]
  },
  {
   "cell_type": "markdown",
   "metadata": {
    "slideshow": {
     "slide_type": "-"
    }
   },
   "source": [
    "\n",
    "\n",
    "|          |  MET<25   |MET>25, inv Z cut  |\n",
    "|----------|-----------|-----------|\n",
    "|pass eVeto|A          |Signal     |\n",
    "|fail eVeto|B          | D         |"
   ]
  },
  {
   "cell_type": "markdown",
   "metadata": {
    "slideshow": {
     "slide_type": "slide"
    }
   },
   "source": [
    "### Sample Pre-selection\n",
    "- Trigger: HLT_Ele27_eta2p1_WPTight_Gsf\n",
    "- Overlap removal with dR<0.4, in the preference of muon over electron over photon over jets\n",
    "- at least 1 photon object and only 1 electron object required\n",
    "- no muons in sample\n",
    "- cut-based working points\n",
    "- photon: medium, pT>20  \n",
    "- electron: medium, pT>10 (will move to tight)\n",
    "- muon: tight, pT> 25"
   ]
  },
  {
   "cell_type": "markdown",
   "metadata": {
    "slideshow": {
     "slide_type": "-"
    }
   },
   "source": [
    "### Signal region cuts (e channel)\n",
    "\n",
    " - photon pT > 50\n",
    " - inverse Z mass cut (Width?)\n",
    " - photon passing electron veto (Pixel Seed?)\n",
    " "
   ]
  },
  {
   "cell_type": "markdown",
   "metadata": {
    "slideshow": {
     "slide_type": "subslide"
    }
   },
   "source": [
    "### MC samples:\n",
    "- ZGTo2LG_TuneCUETP8M1_13TeV-amcatnloFXFX-pythia8/\n",
    "- DYJetsToLL_M-50_TuneCUETP8M1_13TeV-madgraphMLM-pythia8/ \n",
    "\n",
    "- [incomplete]"
   ]
  },
  {
   "cell_type": "markdown",
   "metadata": {
    "slideshow": {
     "slide_type": "skip"
    }
   },
   "source": [
    "## Import Samples"
   ]
  },
  {
   "cell_type": "code",
   "execution_count": 2,
   "metadata": {
    "collapsed": false,
    "slideshow": {
     "slide_type": "skip"
    }
   },
   "outputs": [
    {
     "name": "stdout",
     "output_type": "stream",
     "text": [
      "/home/kakw/efake/WG_Analysis/Plotting\n"
     ]
    }
   ],
   "source": [
    "cd /home/kakw/efake/WG_Analysis/Plotting"
   ]
  },
  {
   "cell_type": "code",
   "execution_count": 3,
   "metadata": {
    "collapsed": false,
    "scrolled": true,
    "slideshow": {
     "slide_type": "skip"
    }
   },
   "outputs": [
    {
     "name": "stdout",
     "output_type": "stream",
     "text": [
      "Welcome to JupyROOT 6.10/05\n",
      "-------------------------------------\n",
      " LOAD CROSS SECTION INFO\n",
      "-------------------------------------\n",
      "GJets_HT-600ToInf              xsec :     93.4 pb Nevent : 2463946  lumi : 2.64e+04 scale :     1.36\n",
      "WZ3LNLO                        xsec :     5.26 pb Nevent : 8260201  lumi : 1.57e+06 scale :   0.0229\n",
      "WJetsToLNu_HT-800To1200        xsec :     7.48 pb Nevent : 1544513  lumi : 2.06e+05 scale :    0.174\n",
      "WJetsToLNu_HT-600To800         xsec :     16.3 pb Nevent : 3779141  lumi : 2.32e+05 scale :    0.155\n",
      "GJets_HT-100To200              xsec : 9.23e+03 pb Nevent : 5131873  lumi :      556 scale :     64.5\n",
      "ResonanceMass2000              xsec : 0.000172 pb Nevent : 50000    lumi :  2.9e+08 scale : 0.000124\n",
      "TTJets_SingleLeptFromTbar      xsec :      179 pb Nevent : 46455353 lumi :  2.6e+05 scale :    0.138\n",
      "GJets_HT-40To100               xsec : 2.07e+04 pb Nevent : 4467985  lumi :      216 scale :      167\n",
      "ResonanceMass1000              xsec : 0.000748 pb Nevent : 50000    lumi : 6.69e+07 scale : 0.000537\n",
      "DiPhoton                       xsec :       84 pb Nevent : 19410854 lumi : 2.31e+05 scale :    0.155\n",
      "WW                             xsec :     12.2 pb Nevent : 1965200  lumi : 1.61e+05 scale :    0.222\n",
      "ResonanceMass900               xsec :  0.00113 pb Nevent : 50000    lumi : 4.42e+07 scale : 0.000812\n",
      "ResonanceMass1800              xsec : 0.000252 pb Nevent : 50000    lumi : 1.98e+08 scale : 0.000181\n",
      "STsCh                          xsec :     10.3 pb Nevent : 984400   lumi : 9.54e+04 scale :    0.376\n",
      "WJetsToLNu_HT-200To400         xsec :      428 pb Nevent : 4950373  lumi : 1.16e+04 scale :      3.1\n",
      "GJets_HT-400To600              xsec :      277 pb Nevent : 2529729  lumi : 9.12e+03 scale :     3.94\n",
      "ResonanceMass1600              xsec : 5.42e-05 pb Nevent : 50000    lumi : 9.22e+08 scale : 3.89e-05\n",
      "ResonanceMass3500              xsec :  2.3e-05 pb Nevent : 50000    lumi : 2.17e+09 scale : 1.65e-05\n",
      "ResonanceMass3000              xsec : 7.12e-05 pb Nevent : 50000    lumi : 7.02e+08 scale : 5.11e-05\n",
      "WJetsToLNu_HT-100To200         xsec : 1.33e+03 pb Nevent : 10235198 lumi : 7.72e+03 scale :     4.65\n",
      "TTJets_DiLept                  xsec :     85.7 pb Nevent : 6094476  lumi : 7.11e+04 scale :    0.505\n",
      "ResonanceMass2600              xsec :  0.00023 pb Nevent : 50000    lumi : 2.17e+08 scale : 0.000165\n",
      "TTGJets                        xsec :      3.7 pb Nevent : 1577833  lumi : 4.27e+05 scale :   0.0841\n",
      "ResonanceMass250               xsec :  0.00773 pb Nevent : 50000    lumi : 6.47e+06 scale :  0.00555\n",
      "DYJetsToLL_M-50                xsec : 5.77e+03 pb Nevent : 49144274 lumi : 8.52e+03 scale :     4.21\n",
      "ResonanceMass200               xsec :   0.0219 pb Nevent : 50000    lumi : 2.28e+06 scale :   0.0157\n",
      "ST_TbarW                       xsec :     35.6 pb Nevent : 988500   lumi : 2.78e+04 scale :     1.29\n",
      "ResonanceMass2800              xsec : 0.000136 pb Nevent : 50000    lumi : 3.69e+08 scale : 9.74e-05\n",
      "ResonanceMass800               xsec :  0.00373 pb Nevent : 50000    lumi : 1.34e+07 scale :  0.00268\n",
      "WJetsToLNu_Pt-100To250         xsec :      676 pb Nevent : 3644567  lumi : 5.39e+03 scale :     6.66\n",
      "ResonanceMass400               xsec : 0.000679 pb Nevent : 50000    lumi : 7.36e+07 scale : 0.000488\n",
      "ResonanceMass600               xsec :  0.00095 pb Nevent : 50000    lumi : 5.26e+07 scale : 0.000682\n",
      "ResonanceMass1200              xsec : 0.000262 pb Nevent : 50000    lumi : 1.91e+08 scale : 0.000188\n",
      "ZZ                             xsec :     16.5 pb Nevent : 996944   lumi : 6.03e+04 scale :    0.595\n",
      "TTbar                          xsec :      832 pb Nevent : 96584653 lumi : 1.16e+05 scale :    0.309\n",
      "ResonanceMass450               xsec :  0.00429 pb Nevent : 50000    lumi : 1.17e+07 scale :  0.00308\n",
      "WGToLNuG-madgraphMLM           xsec :      405 pb Nevent : 6103817  lumi : 1.51e+04 scale :     2.38\n",
      "ResonanceMass700               xsec : 0.000472 pb Nevent : 50000    lumi : 1.06e+08 scale : 0.000339\n",
      "DiPhoton_M80toInf              xsec :       84 pb Nevent : 13200226 lumi : 1.57e+05 scale :    0.228\n",
      "Wg                             xsec :      506 pb Nevent : 2183649  lumi : 4.32e+03 scale :     8.32\n",
      "WJetsToLNu_HT-1200To2500       xsec :     1.79 pb Nevent : 244532   lumi : 1.36e+05 scale :    0.263\n",
      "ResonanceMass2400              xsec : 4.68e-05 pb Nevent : 50000    lumi : 1.07e+09 scale : 3.36e-05\n",
      "WJetsToLNu-amcatnloFXFX        xsec : 6.15e+04 pb Nevent : 12965572 lumi :      211 scale :      170\n",
      "WGToLNuG_PtG-130-amcatnloFXFX  xsec :     2.02 pb Nevent : 841701   lumi : 4.16e+05 scale :   0.0864\n",
      "ST_TW                          xsec :     35.6 pb Nevent : 995600   lumi :  2.8e+04 scale :     1.28\n",
      "ResonanceMass500               xsec :  0.00242 pb Nevent : 50000    lumi : 2.07e+07 scale :  0.00174\n",
      "ResonanceMass1400              xsec : 0.000117 pb Nevent : 50000    lumi : 4.27e+08 scale :  8.4e-05\n",
      "ResonanceMass2200              xsec : 5.99e-05 pb Nevent : 50000    lumi : 8.34e+08 scale :  4.3e-05\n",
      "WGToLNuG_PtG-500-amcatnloFXFX  xsec :   0.0177 pb Nevent : 827560   lumi : 4.68e+07 scale : 0.000768\n",
      "WJetsToLNu-madgraphMLM         xsec : 6.15e+04 pb Nevent : 29705748 lumi :      483 scale :     74.4\n",
      "WGToLNuG_PtG-500-madgraphMLM   xsec :  0.00849 pb Nevent : 1393505  lumi : 1.64e+08 scale : 0.000219\n",
      "WWTo2L2Nu                      xsec :     12.2 pb Nevent : 1        lumi :   0.0821 scale : 4.37e+05\n",
      "WGToLNuG_PtG-130-madgraphMLM   xsec :    0.795 pb Nevent : 1645059  lumi : 2.07e+06 scale :   0.0174\n",
      "TTJets_SingleLeptFromT         xsec :      179 pb Nevent : 11957043 lumi : 6.69e+04 scale :    0.537\n",
      "GJets                          xsec : 6.93e+05 pb Nevent : 1972730  lumi :     2.85 scale : 1.26e+04\n",
      "STtCh                          xsec :     70.7 pb Nevent : 1        lumi :   0.0141 scale : 2.54e+06\n",
      "Zg                             xsec :      124 pb Nevent : 3044343  lumi : 2.45e+04 scale :     1.47\n",
      "DiPhoton_M40_80                xsec :      210 pb Nevent : 4878862  lumi : 2.32e+04 scale :     1.55\n",
      "ZGTo2LG                        xsec :      118 pb Nevent : 9321494  lumi : 7.91e+04 scale :    0.454\n",
      "GJets_HT-200To400              xsec :  2.3e+03 pb Nevent : 10036487 lumi : 4.36e+03 scale :     8.23\n",
      "WWG                            xsec :    0.215 pb Nevent : 827630   lumi : 3.85e+06 scale :  0.00931\n",
      "WJetsToLNu_HT-2500ToInf        xsec :   0.0404 pb Nevent : 253561   lumi : 6.28e+06 scale :  0.00572\n",
      "WJetsToLNu_HT-400To600         xsec :     63.9 pb Nevent : 1963464  lumi : 3.07e+04 scale :     1.17\n",
      "ResonanceMass4000              xsec :  2.3e-05 pb Nevent : 50000    lumi : 2.17e+09 scale : 1.65e-05\n",
      "WgPt500                        xsec :   0.0118 pb Nevent : 1393505  lumi : 1.18e+08 scale : 0.000304\n",
      "WGToLNuG-amcatnloFXFX          xsec :      822 pb Nevent : 3235156  lumi : 3.94e+03 scale :     9.12\n",
      "ResonanceMass300               xsec :  0.00307 pb Nevent : 50000    lumi : 1.63e+07 scale :  0.00221\n",
      "ResonanceMass350               xsec :  0.00147 pb Nevent : 50000    lumi :  3.4e+07 scale :  0.00106\n",
      "-------------------------------------\n",
      "BEGIN READING SAMPLES\n",
      "-------------------------------------\n",
      "AddSample: Reading SingleMuon (['SingleMuon'])               [ \u001b[1;31mFailed\u001b[0m  ]\n",
      "AddSample: Reading SingleElectron (['SingleElectron'])       [ \u001b[1;32mSuccess\u001b[0m ]\n",
      "AddSample: Reading DYJetsToLL_M-50 (['DYJetsToLL_M-50_TuneCUETP8M1_13TeV-madgraphMLM-pythia8'])  [ \u001b[1;32mSuccess\u001b[0m ]\n",
      "AddSample: Reading ZGTo2LG (['ZGTo2LG_TuneCUETP8M1_13TeV-amcatnloFXFX-pythia8'])  [ \u001b[1;32mSuccess\u001b[0m ]\n",
      "AddSample: Reading TTJets_DiLept (['TTJets_DiLept_TuneCUETP8M1_13TeV-madgraphMLM-pythia8PhOlap'])  [ \u001b[1;32mSuccess\u001b[0m ]\n",
      "AddSample: Reading TTJets_SingleLeptFromTbar (['TTJets_SingleLeptFromTbar_TuneCUETP8M1_13TeV-madgraphMLM-pythia8PhOlap'])  [ \u001b[1;32mSuccess\u001b[0m ]\n",
      "AddSample: Reading TTJets_SingleLeptFromT (['TTJets_SingleLeptFromT_TuneCUETP8M1_13TeV-madgraphMLM-pythia8PhOlap'])  [ \u001b[1;32mSuccess\u001b[0m ]\n",
      "AddSample: Reading TTGJets (['TTGJets_TuneCUETP8M1_13TeV-amcatnloFXFX-madspin-pythia8'])  [ \u001b[1;32mSuccess\u001b[0m ]\n",
      "AddSample: Reading WGToLNuG-amcatnloFXFX (['WGToLNuG_TuneCUETP8M1_13TeV-amcatnloFXFX-pythia8'])  [ \u001b[1;32mSuccess\u001b[0m ]\n",
      "AddSample: Reading WGToLNuG-madgraphMLM (['WGToLNuG_TuneCUETP8M1_13TeV-madgraphMLM-pythia8'])  [ \u001b[1;32mSuccess\u001b[0m ]\n",
      "AddSample: Reading WGToLNuG_PtG-130-amcatnloFXFX (['WGToLNuG_PtG-130_TuneCUETP8M1_13TeV-amcatnloFXFX-pythia8'])  [ \u001b[1;32mSuccess\u001b[0m ]\n",
      "AddSample: Reading WGToLNuG_PtG-130-madgraphMLM (['WGToLNuG_PtG-130_TuneCUETP8M1_13TeV-madgraphMLM-pythia8'])  [ \u001b[1;32mSuccess\u001b[0m ]\n",
      "AddSample: Reading WGToLNuG_PtG-500-amcatnloFXFX (['WGToLNuG_PtG-500_TuneCUETP8M1_13TeV-amcatnloFXFX-pythia8'])  [ \u001b[1;32mSuccess\u001b[0m ]\n",
      "AddSample: Reading WGToLNuG_PtG-500-madgraphMLM (['WGToLNuG_PtG-500_TuneCUETP8M1_13TeV-madgraphMLM-pythia8'])  [ \u001b[1;32mSuccess\u001b[0m ]\n",
      "AddSample: Reading WGToLNuG-amcatnloFXFXPhCut (['WGToLNuG_TuneCUETP8M1_13TeV-amcatnloFXFX-pythia8PhCutMax'])  [ \u001b[1;32mSuccess\u001b[0m ]\n",
      "AddSample: Reading WGToLNuG_PtG-130-amcatnloFXFXPhCut (['WGToLNuG_PtG-130_TuneCUETP8M1_13TeV-amcatnloFXFX-pythia8PhCutMaxPhCutMin'])  [ \u001b[1;32mSuccess\u001b[0m ]\n",
      "AddSample: Reading WGToLNuG_PtG-500-amcatnloFXFXPhCut (['WGToLNuG_PtG-500_TuneCUETP8M1_13TeV-amcatnloFXFX-pythia8PhCutMin'])  [ \u001b[1;32mSuccess\u001b[0m ]\n",
      "AddSample: Reading WGToLNuG-madgraphMLMPhCut (['WGToLNuG_TuneCUETP8M1_13TeV-madgraphMLM-pythia8PhCutMax'])  [ \u001b[1;32mSuccess\u001b[0m ]\n",
      "AddSample: Reading WGToLNuG_PtG-130-madgraphMLMPhCut (['WGToLNuG_PtG-130_TuneCUETP8M1_13TeV-madgraphMLM-pythia8PhCutMaxPhCutMin'])  [ \u001b[1;32mSuccess\u001b[0m ]\n",
      "AddSample: Reading WGToLNuG_PtG-500-madgraphMLMPhCut (['WGToLNuG_PtG-500_TuneCUETP8M1_13TeV-madgraphMLM-pythia8PhCutMin'])  [ \u001b[1;32mSuccess\u001b[0m ]\n",
      "AddSample: Reading WGToLNuG-madgraphMLMMTResCut (['WGToLNuG_TuneCUETP8M1_13TeV-madgraphMLM-pythia8'])  [ \u001b[1;32mSuccess\u001b[0m ]\n",
      "AddSample: Reading WGToLNuG_PtG-130-madgraphMLMMTResCut (['WGToLNuG_PtG-130_TuneCUETP8M1_13TeV-madgraphMLM-pythia8'])  [ \u001b[1;32mSuccess\u001b[0m ]\n",
      "AddSample: Reading WGToLNuG_PtG-500-madgraphMLMMTResCut (['WGToLNuG_PtG-500_TuneCUETP8M1_13TeV-madgraphMLM-pythia8'])  [ \u001b[1;32mSuccess\u001b[0m ]\n",
      "AddSample: Reading WJetsToLNu-madgraphMLM (['WJetsToLNu_TuneCUETP8M1_13TeV-madgraphMLM-pythia8'])  [ \u001b[1;32mSuccess\u001b[0m ]\n",
      "AddSample: Reading WWG (['WWG_TuneCUETP8M1_13TeV-amcatnlo-pythia8'])  [ \u001b[1;31mFailed\u001b[0m  ]\n",
      "AddSample: Reading DiPhoton (['DiPhotonJets_MGG-80toInf_13TeV_amcatnloFXFX_pythia8'])  [ \u001b[1;32mSuccess\u001b[0m ]\n",
      "AddSample: Reading WJetsToLNuTrueHTOlap (['WJetsToLNu_TuneCUETP8M1_13TeV-madgraphMLM-pythia8TrueHTOlapPhOlap'])  [ \u001b[1;32mSuccess\u001b[0m ]\n",
      "AddSample: Reading WJetsToLNu_HT-100To200 (['WJetsToLNu_HT-100To200_TuneCUETP8M1_13TeV-madgraphMLM-pythia8PhOlap'])  [ \u001b[1;32mSuccess\u001b[0m ]\n",
      "AddSample: Reading WJetsToLNu_HT-200To400 (['WJetsToLNu_HT-200To400_TuneCUETP8M1_13TeV-madgraphMLM-pythia8PhOlap'])  [ \u001b[1;32mSuccess\u001b[0m ]\n",
      "AddSample: Reading WJetsToLNu_HT-400To600 (['WJetsToLNu_HT-400To600_TuneCUETP8M1_13TeV-madgraphMLM-pythia8PhOlap'])  [ \u001b[1;32mSuccess\u001b[0m ]\n",
      "AddSample: Reading WJetsToLNu_HT-600To800 (['WJetsToLNu_HT-600To800_TuneCUETP8M1_13TeV-madgraphMLM-pythia8PhOlap'])  [ \u001b[1;32mSuccess\u001b[0m ]\n",
      "AddSample: Reading WJetsToLNu_HT-800To1200 (['WJetsToLNu_HT-800To1200_TuneCUETP8M1_13TeV-madgraphMLM-pythia8PhOlap'])  [ \u001b[1;32mSuccess\u001b[0m ]\n",
      "AddSample: Reading WJetsToLNu_HT-1200To2500 (['WJetsToLNu_HT-1200To2500_TuneCUETP8M1_13TeV-madgraphMLM-pythia8PhOlap'])  [ \u001b[1;32mSuccess\u001b[0m ]\n",
      "AddSample: Reading WJetsToLNu_HT-2500ToInf (['WJetsToLNu_HT-2500ToInf_TuneCUETP8M1_13TeV-madgraphMLM-pythia8PhOlap'])  [ \u001b[1;32mSuccess\u001b[0m ]\n",
      "AddSample: Reading GJets_HT-100To200 (['GJets_HT-100To200_TuneCUETP8M1_13TeV-madgraphMLM-pythia8'])  [ \u001b[1;32mSuccess\u001b[0m ]\n",
      "AddSample: Reading GJets_HT-200To400 (['GJets_HT-200To400_TuneCUETP8M1_13TeV-madgraphMLM-pythia8'])  [ \u001b[1;32mSuccess\u001b[0m ]\n",
      "AddSample: Reading GJets_HT-400To600 (['GJets_HT-400To600_TuneCUETP8M1_13TeV-madgraphMLM-pythia8'])  [ \u001b[1;32mSuccess\u001b[0m ]\n",
      "AddSample: Reading GJets_HT-40To100 (['GJets_HT-40To100_TuneCUETP8M1_13TeV-madgraphMLM-pythia8'])  [ \u001b[1;32mSuccess\u001b[0m ]\n",
      "AddSample: Reading GJets_HT-600ToInf (['GJets_HT-600ToInf_TuneCUETP8M1_13TeV-madgraphMLM-pythia8'])  [ \u001b[1;32mSuccess\u001b[0m ]\n",
      "WARNING - Child sample, SingleMuon, does not exist!\n",
      "Grouping Data\n",
      "Grouping Z+jets\n",
      "Grouping Zgamma\n",
      "Grouping Wgamma\n",
      "Grouping WgammaLO\n",
      "Grouping Wjets\n",
      "Grouping TTG\n",
      "Grouping GJets\n",
      "Grouping GammaGamma\n",
      "Grouping TTbar_DiLep\n",
      "Grouping TTbar_SingleLep\n",
      "Grouping AllTop\n",
      "Grouping MCBackground\n",
      "Grouping MCBackgroundLO\n",
      "Grouping JetBackground\n",
      "Grouping EleFakeBackground\n",
      "Samples ready.\n",
      "\n",
      "The draw syntax follows that of TTree.Draw.  Examples : \n",
      "samples.Draw('met_et', 'EventWeight && passcut_ee==1', '(300, 0, 300)'\n",
      "\n",
      "The first argument is a branch in the tree to draw\n",
      "The second argument is a set of cuts and/or weights to apply\n",
      "The third argument are the bin limits to use \n",
      "\n",
      "To see all available branches do ListBranches()\n"
     ]
    }
   ],
   "source": [
    " %run interactiveStackTree.py --baseDir /data/users/jkunkle/Resonances/LepGamma_elg_2018_03_28/  \\\n",
    "--samplesConf Modules/Resonance.py --xsFile cross_sections/photon15.py \\\n",
    "--lumi 35900. --treeName UMDNTuple/EventTree --fileName tree.root --jupyt --quiet\n",
    " # /data/users/jkunkle/Resonances/LepGamma_elg_2018_03_28/"
   ]
  },
  {
   "cell_type": "code",
   "execution_count": 4,
   "metadata": {
    "collapsed": true,
    "slideshow": {
     "slide_type": "skip"
    }
   },
   "outputs": [],
   "source": [
    "base = 'ph_n>=1 && el_n==1'\n",
    "baseeta = base + ' && abs(ph_eta[0])<1.4'\n",
    "base1 = 'ph_n==1 && el_n==1'\n",
    "base1eta = base1 + ' && abs(ph_eta[0])<1.4'\n",
    "a4 = '&& ph_hasPixSeed[0]==0'  #Pixel seed\n",
    "b4 = '&& ph_hasPixSeed[0]==1'\n",
    "ltmet = '&&met_pt<25'\n",
    "gtmet = '&&met_pt>25'\n",
    "phpt50 = \"&&ph_pt[0]>50\""
   ]
  },
  {
   "cell_type": "code",
   "execution_count": 5,
   "metadata": {
    "collapsed": false,
    "slideshow": {
     "slide_type": "skip"
    }
   },
   "outputs": [],
   "source": [
    "ROOT.gStyle.SetOptStat(0)\n",
    "ROOT.gStyle.SetOptFit(1)\n",
    "samples.change_stack_order(\"GammaGamma\",\"Wjets\")"
   ]
  },
  {
   "cell_type": "markdown",
   "metadata": {
    "slideshow": {
     "slide_type": "skip"
    }
   },
   "source": [
    "## Fill histogram"
   ]
  },
  {
   "cell_type": "markdown",
   "metadata": {
    "slideshow": {
     "slide_type": "slide"
    }
   },
   "source": [
    "### photon eta less than 1.4\n",
    "\n",
    "- the largest discrepency occurs when photon lands in the barrel\n",
    "    - $\\gamma\\gamma$: one of the two photon fakes an electron\n",
    "    - Wgamma: MET is mismeasured in this sample, but otherwise no fakes\n",
    "    - Z+jets: electron faking photon"
   ]
  },
  {
   "cell_type": "code",
   "execution_count": 6,
   "metadata": {
    "collapsed": false,
    "scrolled": true,
    "slideshow": {
     "slide_type": "-"
    }
   },
   "outputs": [
    {
     "name": "stdout",
     "output_type": "stream",
     "text": [
      "Activate sample Z+jets\n",
      "Activate sample Zgamma\n",
      "Activate sample Wgamma\n",
      "Activate sample Data\n",
      "Activate sample GammaGamma\n",
      "m_lep_ph :\u001b[1;36m  ph_n>0 && abs(ph_eta[0])<1.4 && met_pt<25\u001b[0m\n",
      "Creating hist for Data\n",
      "Data  is DATA!!\n",
      "0.04\n"
     ]
    }
   ],
   "source": [
    "samples.deactivate_all_samples()\n",
    "samples.activate_sample([\"Z+jets\",\"Zgamma\",\"Wgamma\",\"Data\",\"GammaGamma\"])\n",
    "samples.Draw(\"m_lep_ph\",\" ph_n>0 && abs(ph_eta[0])<1.4 && met_pt<25\",(120,0,600),{\"xlabel\":\"m(e,#gamma)\",\"logy\":1,\"ymin\":10,\"blind\":False});"
   ]
  },
  {
   "cell_type": "code",
   "execution_count": 7,
   "metadata": {
    "collapsed": false,
    "scrolled": true,
    "slideshow": {
     "slide_type": "subslide"
    }
   },
   "outputs": [
    {
     "data": {
      "image/png": "[encoded data removed]",
      "text/plain": [
       "<ROOT.TCanvas object (\"base\") at 0x8859820>"
      ]
     },
     "execution_count": 7,
     "metadata": {},
     "output_type": "execute_result"
    },
    {
     "name": "stderr",
     "output_type": "stream",
     "text": [
      "Info in <TCanvas::Print>: png file /tmp/tmp5dmNZj.png has been created\n"
     ]
    }
   ],
   "source": [
    "samples.curr_canvases[\"top\"]"
   ]
  },
  {
   "cell_type": "code",
   "execution_count": 8,
   "metadata": {
    "collapsed": false,
    "scrolled": true,
    "slideshow": {
     "slide_type": "skip"
    }
   },
   "outputs": [
    {
     "name": "stdout",
     "output_type": "stream",
     "text": [
      "ph_eta[0] :\u001b[1;36m met_pt<25  && m_lep_ph>250\u001b[0m\n",
      "removing sample __AllStack__\n",
      "Creating hist for Data\n",
      "Data  is DATA!!\n",
      "0.04\n"
     ]
    }
   ],
   "source": [
    "samples.Draw(\"ph_eta[0]\",\"met_pt<25  && m_lep_ph>250\",(100,-4,4),{\"xlabel\":\"ph eta\",\"logy\":1,\"ymax\":1e7,\"blind\":False});"
   ]
  },
  {
   "cell_type": "markdown",
   "metadata": {
    "slideshow": {
     "slide_type": "slide"
    }
   },
   "source": [
    "## photon eta distribution in high mass tail\n",
    "\n",
    " - MC has a flat distribution in eta, whereas Data tends to the beampipe"
   ]
  },
  {
   "cell_type": "code",
   "execution_count": 9,
   "metadata": {
    "collapsed": false,
    "slideshow": {
     "slide_type": "-"
    }
   },
   "outputs": [
    {
     "data": {
      "image/png": "[encoded data removed]",
      "text/plain": [
       "<ROOT.TCanvas object (\"base\") at 0x88a5250>"
      ]
     },
     "execution_count": 9,
     "metadata": {},
     "output_type": "execute_result"
    },
    {
     "name": "stderr",
     "output_type": "stream",
     "text": [
      "Info in <TCanvas::Print>: png file /tmp/tmpUezRXa.png has been created\n"
     ]
    }
   ],
   "source": [
    "samples.curr_canvases[\"top\"]"
   ]
  },
  {
   "cell_type": "markdown",
   "metadata": {
    "slideshow": {
     "slide_type": "slide"
    }
   },
   "source": [
    "## MET in high mass tail"
   ]
  },
  {
   "cell_type": "code",
   "execution_count": 16,
   "metadata": {
    "collapsed": false,
    "scrolled": true,
    "slideshow": {
     "slide_type": "skip"
    }
   },
   "outputs": [
    {
     "name": "stdout",
     "output_type": "stream",
     "text": [
      "met_pt :\u001b[1;36m met_pt<25  && m_lep_ph>250\u001b[0m\n",
      "removing sample __AllStack__\n",
      "Creating hist for Data\n",
      "Data  is DATA!!\n",
      "0.04\n"
     ]
    }
   ],
   "source": [
    "samples.Draw(\"met_pt\",\"met_pt<25  && m_lep_ph>250\",(30,0,30),{\"xlabel\":\"MET\",\"logy\":1,\"ymax\":1e5,\"blind\":False});"
   ]
  },
  {
   "cell_type": "code",
   "execution_count": 17,
   "metadata": {
    "collapsed": false,
    "slideshow": {
     "slide_type": "-"
    }
   },
   "outputs": [
    {
     "data": {
      "image/png": "[encoded data removed]",
      "text/plain": [
       "<ROOT.TCanvas object (\"base\") at 0x887d720>"
      ]
     },
     "execution_count": 17,
     "metadata": {},
     "output_type": "execute_result"
    },
    {
     "name": "stderr",
     "output_type": "stream",
     "text": [
      "Info in <TCanvas::Print>: png file /tmp/tmpb34y7O.png has been created\n"
     ]
    }
   ],
   "source": [
    "samples.curr_canvases[\"top\"]"
   ]
  },
  {
   "cell_type": "markdown",
   "metadata": {
    "slideshow": {
     "slide_type": "slide"
    }
   },
   "source": [
    "## Conclusion\n",
    "\n",
    "- weird\n",
    "\n",
    "Full documentation: http://hepcms-hn.umd.edu/~kakw/Reco_mass_tail_2018_09_17.html"
   ]
  },
  {
   "cell_type": "markdown",
   "metadata": {
    "slideshow": {
     "slide_type": "skip"
    }
   },
   "source": [
    "#   \n",
    "\n",
    "#   \n",
    "\n",
    "#   \n",
    "\n",
    "#   \n",
    "\n",
    "# BACKUP\n",
    "\n",
    "#   \n"
   ]
  },
  {
   "cell_type": "code",
   "execution_count": 12,
   "metadata": {
    "collapsed": false,
    "scrolled": false,
    "slideshow": {
     "slide_type": "skip"
    }
   },
   "outputs": [
    {
     "name": "stdout",
     "output_type": "stream",
     "text": [
      "ph_pt[0] :\u001b[1;36m  abs(ph_eta[0])<1.4 && met_pt<25  && m_lep_ph>200\u001b[0m\n",
      "removing sample __AllStack__\n",
      "Creating hist for Data\n",
      "Data  is DATA!!\n",
      "0.04\n"
     ]
    }
   ],
   "source": [
    "samples.Draw(\"ph_pt[0]\",\" abs(ph_eta[0])<1.4 && met_pt<25  && m_lep_ph>200\",(120,0,600),{\"xlabel\":\"p_{T}(e)\",\"logy\":1,\"ymin\":10,\"blind\":False});"
   ]
  },
  {
   "cell_type": "markdown",
   "metadata": {
    "slideshow": {
     "slide_type": "skip"
    }
   },
   "source": [
    "### photon pT requiring photon |eta| < 1.4  and m(e,g)>200GeV\n",
    "\n",
    "- photon objects in Data tends to the beampipe and leaves  tranverse energy behind"
   ]
  },
  {
   "cell_type": "code",
   "execution_count": 13,
   "metadata": {
    "collapsed": false,
    "slideshow": {
     "slide_type": "skip"
    }
   },
   "outputs": [
    {
     "data": {
      "image/png": "[encoded data removed]",
      "text/plain": [
       "<ROOT.TCanvas object (\"base\") at 0x8855370>"
      ]
     },
     "execution_count": 13,
     "metadata": {},
     "output_type": "execute_result"
    },
    {
     "name": "stderr",
     "output_type": "stream",
     "text": [
      "Info in <TCanvas::Print>: png file /tmp/tmpoMx_4y.png has been created\n"
     ]
    }
   ],
   "source": [
    "samples.curr_canvases[\"top\"]"
   ]
  },
  {
   "cell_type": "code",
   "execution_count": 1,
   "metadata": {
    "collapsed": false,
    "slideshow": {
     "slide_type": "skip"
    }
   },
   "outputs": [
    {
     "name": "stdout",
     "output_type": "stream",
     "text": [
      "[NbConvertApp] WARNING | Config option `reveal_transition` not recognized by `SlidesExporter`.\n",
      "[NbConvertApp] Converting notebook Reco_mass_tail_2018_09_17.ipynb to slides\n",
      "[NbConvertApp] Writing 316529 bytes to Reco_mass_tail_2018_09_17.slides.html\n"
     ]
    }
   ],
   "source": [
    "!jupyter nbconvert Reco_mass_tail_2018_09_17.ipynb --to slides --SlidesExporter.reveal_theme=solarized --SlidesExporter.reveal_transition=none --reveal-prefix reveal.js"
   ]
  },
  {
   "cell_type": "code",
   "execution_count": null,
   "metadata": {
    "collapsed": true
   },
   "outputs": [],
   "source": []
  }
 ],
 "metadata": {
  "celltoolbar": "Slideshow",
  "kernelspec": {
   "display_name": "Python 2",
   "language": "python",
   "name": "python2"
  },
  "language_info": {
   "codemirror_mode": {
    "name": "ipython",
    "version": 2
   },
   "file_extension": ".py",
   "mimetype": "text/x-python",
   "name": "python",
   "nbconvert_exporter": "python",
   "pygments_lexer": "ipython2",
   "version": "2.7.13+"
  }
 },
 "nbformat": 4,
 "nbformat_minor": 2
}
