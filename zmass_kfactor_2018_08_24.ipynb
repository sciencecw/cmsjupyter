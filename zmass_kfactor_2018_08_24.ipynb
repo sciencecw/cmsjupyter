{
 "cells": [
  {
   "cell_type": "markdown",
   "metadata": {},
   "source": [
    "# Z mass peak-to-tail k factor"
   ]
  },
  {
   "cell_type": "markdown",
   "metadata": {},
   "source": [
    "### Why?\n",
    "\n",
    " - Inverse mass cut improves signal region S/B ratio\n",
    " - Fake rate estimation uses Z peak to extract pure Z->ee sample from data\n",
    " - No comparable handle for Z tail in control regions\n",
    " - Need a way to measure k-factor that predicts tail from peak prediction, from a separate control region\n"
   ]
  },
  {
   "cell_type": "markdown",
   "metadata": {},
   "source": [
    "\n",
    "\n",
    "|          |  MET<25   |MET>25   |\n",
    "|----------|-----------|-----------|\n",
    "|pass eVeto|A          |Signal - invert $m(Z)$ cut     |\n",
    "|fail eVeto|B          | D         |"
   ]
  },
  {
   "cell_type": "markdown",
   "metadata": {},
   "source": [
    "### Sample Pre-selection\n",
    "- Trigger: HLT_Ele27_eta2p1_WPTight_Gsf\n",
    "- Overlap removal with dR<0.4, in the preference of muon over electron over photon over jets\n",
    "- at least 1 photon object and only 1 electron object required\n",
    "- no muons in sample\n",
    "- cut-based working points\n",
    "- photon: medium, pT>20\n",
    "- electron: tight, pT>10\n",
    "- muon: tight, pT> "
   ]
  },
  {
   "cell_type": "markdown",
   "metadata": {},
   "source": [
    "### MC samples:\n",
    "- ZGTo2LG_TuneCUETP8M1_13TeV-amcatnloFXFX-pythia8/\n",
    "- DYJetsToLL_M-50_TuneCUETP8M1_13TeV-madgraphMLM-pythia8/ "
   ]
  },
  {
   "cell_type": "code",
   "execution_count": 1,
   "metadata": {
    "collapsed": false
   },
   "outputs": [
    {
     "name": "stdout",
     "output_type": "stream",
     "text": [
      "Welcome to JupyROOT 6.10/05\n"
     ]
    }
   ],
   "source": [
    "import ROOT\n",
    "from IPython.display import display, Math, Latex\n",
    "import rootnotes"
   ]
  },
  {
   "cell_type": "code",
   "execution_count": 2,
   "metadata": {
    "collapsed": false
   },
   "outputs": [
    {
     "name": "stdout",
     "output_type": "stream",
     "text": [
      "/home/kakw/efake/WG_Analysis/Plotting\n"
     ]
    }
   ],
   "source": [
    "cd /home/kakw/efake/WG_Analysis/Plotting"
   ]
  },
  {
   "cell_type": "markdown",
   "metadata": {},
   "source": [
    "## Import Samples"
   ]
  },
  {
   "cell_type": "markdown",
   "metadata": {
    "collapsed": false
   },
   "source": [
    "`%run interactiveStackTree.py --baseDir /data/users/kakw/Resonances/LepGammaMETapplied_elg_2018_08_22/ --samplesConf Modules/Resonance.py --xsFile cross_sections/photon15.py --lumi 35900. --treeName UMDNTuple/EventTree --fileName tree.root`\n"
   ]
  },
  {
   "cell_type": "code",
   "execution_count": 3,
   "metadata": {
    "collapsed": false,
    "scrolled": true
   },
   "outputs": [
    {
     "name": "stdout",
     "output_type": "stream",
     "text": [
      "-------------------------------------\n",
      " LOAD CROSS SECTION INFO\n",
      "-------------------------------------\n",
      "Sample GJets_HT-600ToInf              cross section : 93.380000 pb     N Events : 2463946  sample lumi : 26386.228314      Scale : 1.360558      \n",
      "Sample WZ3LNLO                        cross section : 5.260000 pb      N Events : 8260201  sample lumi : 1570380.418251    Scale : 0.022861      \n",
      "Sample WJetsToLNu_HT-800To1200        cross section : 7.484300 pb      N Events : 1544513  sample lumi : 206367.061716     Scale : 0.173962      \n",
      "Sample WJetsToLNu_HT-600To800         cross section : 16.288000 pb     N Events : 3779141  sample lumi : 232019.953340     Scale : 0.154728      \n",
      "Sample GJets_HT-100To200              cross section : 9226.000000 pb   N Events : 5131873  sample lumi : 556.240299        Scale : 64.540451     \n",
      "Sample ResonanceMass2000              cross section : 0.000172 pb      N Events : 50000    sample lumi : 289872165.921251  Scale : 0.000124      \n",
      "Sample TTJets_SingleLeptFromTbar      cross section : 178.695240 pb    N Events : 46455353 sample lumi : 259969.728349     Scale : 0.138093      \n",
      "Sample GJets_HT-40To100               cross section : 20730.000000 pb  N Events : 4467985  sample lumi : 215.532320        Scale : 166.564346    \n",
      "Sample ResonanceMass1000              cross section : 0.000748 pb      N Events : 50000    sample lumi : 66872213.800370   Scale : 0.000537      \n",
      "Sample DiPhoton                       cross section : 248.000000 pb    N Events : 19410854 sample lumi : 78269.572581      Scale : 0.458671      \n",
      "Sample WW                             cross section : 12.178000 pb     N Events : 1965200  sample lumi : 161372.967647     Scale : 0.222466      \n",
      "Sample ResonanceMass900               cross section : 0.001131 pb      N Events : 50000    sample lumi : 44189985.377309   Scale : 0.000812      \n",
      "Sample ResonanceMass1800              cross section : 0.000252 pb      N Events : 50000    sample lumi : 198492147.378218  Scale : 0.000181      \n",
      "Sample STsCh                          cross section : 10.320000 pb     N Events : 984400   sample lumi : 95387.596899      Scale : 0.376359      \n",
      "Sample WJetsToLNu_HT-200To400         cross section : 427.750000 pb    N Events : 4950373  sample lumi : 11573.052016      Scale : 3.102034      \n",
      "Sample GJets_HT-400To600              cross section : 277.400000 pb    N Events : 2529729  sample lumi : 9119.426820       Scale : 3.936651      \n",
      "Sample ResonanceMass1600              cross section : 0.000054 pb      N Events : 50000    sample lumi : 921919878.632621  Scale : 0.000039      \n",
      "Sample ResonanceMass3500              cross section : 0.000023 pb      N Events : 50000    sample lumi : 2171180458.704779 Scale : 0.000017      \n",
      "Sample ResonanceMass3000              cross section : 0.000071 pb      N Events : 50000    sample lumi : 702045867.733810  Scale : 0.000051      \n",
      "Sample WJetsToLNu_HT-100To200         cross section : 1325.300000 pb   N Events : 10235198 sample lumi : 7722.929148       Scale : 4.648495      \n",
      "Sample TTJets_DiLept                  cross section : 85.675800 pb     N Events : 6094476  sample lumi : 71134.159237      Scale : 0.504680      \n",
      "Sample ResonanceMass2600              cross section : 0.000230 pb      N Events : 50000    sample lumi : 217459157.815754  Scale : 0.000165      \n",
      "Sample TTGJets                        cross section : 3.697000 pb      N Events : 1577833  sample lumi : 426787.395185     Scale : 0.084117      \n",
      "Sample ResonanceMass250               cross section : 0.007727 pb      N Events : 50000    sample lumi : 6470981.620565    Scale : 0.005548      \n",
      "Sample DYJetsToLL_M-50                cross section : 5765.400000 pb   N Events : 49144274 sample lumi : 8524.000763       Scale : 4.211637      \n",
      "Sample ResonanceMass200               cross section : 0.021927 pb      N Events : 50000    sample lumi : 2280285.019677    Scale : 0.015744      \n",
      "Sample ST_TbarW                       cross section : 35.600000 pb     N Events : 988500   sample lumi : 27766.853933      Scale : 1.292908      \n",
      "Sample ResonanceMass2800              cross section : 0.000136 pb      N Events : 50000    sample lumi : 368730327.867798  Scale : 0.000097      \n",
      "Sample ResonanceMass800               cross section : 0.003731 pb      N Events : 50000    sample lumi : 13401749.746133   Scale : 0.002679      \n",
      "Sample WJetsToLNu_Pt-100To250         cross section : 676.300000 pb    N Events : 3644567  sample lumi : 5388.979743       Scale : 6.661743      \n",
      "Sample ResonanceMass400               cross section : 0.000679 pb      N Events : 50000    sample lumi : 73597866.125772   Scale : 0.000488      \n",
      "Sample ResonanceMass600               cross section : 0.000950 pb      N Events : 50000    sample lumi : 52607719.150343   Scale : 0.000682      \n",
      "Sample ResonanceMass1200              cross section : 0.000262 pb      N Events : 50000    sample lumi : 190544158.637693  Scale : 0.000188      \n",
      "Sample ZZ                             cross section : 16.523000 pb     N Events : 996944   sample lumi : 60336.742722      Scale : 0.594994      \n",
      "Sample TTbar                          cross section : 831.760000 pb    N Events : 96584653 sample lumi : 116120.819708     Scale : 0.309161      \n",
      "Sample ResonanceMass450               cross section : 0.004289 pb      N Events : 50000    sample lumi : 11657295.443169   Scale : 0.003080      \n",
      "Sample WGToLNuG-madgraphMLM           cross section : 405.271000 pb    N Events : 6103817  sample lumi : 15061.075182      Scale : 2.383628      \n",
      "Sample ResonanceMass700               cross section : 0.000472 pb      N Events : 50000    sample lumi : 106017642.232250  Scale : 0.000339      \n",
      "Sample DiPhoton_M80toInf              cross section : 84.000000 pb     N Events : 13200226 sample lumi : 157145.547619     Scale : 0.228451      \n",
      "Sample Wg                             cross section : 505.800000 pb    N Events : 2183649  sample lumi : 4317.218268       Scale : 8.315540      \n",
      "Sample WJetsToLNu_HT-1200To2500       cross section : 1.793700 pb      N Events : 244532   sample lumi : 136328.260021     Scale : 0.263335      \n",
      "Sample ResonanceMass2400              cross section : 0.000047 pb      N Events : 50000    sample lumi : 1067546717.661317 Scale : 0.000034      \n",
      "Sample WJetsToLNu-amcatnloFXFX        cross section : 61526.700000 pb  N Events : 12965572 sample lumi : 210.730821        Scale : 170.359513    \n",
      "Sample WGToLNuG_PtG-130-amcatnloFXFX  cross section : 2.024770 pb      N Events : 841701   sample lumi : 415702.030354     Scale : 0.086360      \n",
      "Sample ST_TW                          cross section : 35.600000 pb     N Events : 995600   sample lumi : 27966.292135      Scale : 1.283688      \n",
      "Sample ResonanceMass500               cross section : 0.002420 pb      N Events : 50000    sample lumi : 20659724.443783   Scale : 0.001738      \n",
      "Sample ResonanceMass1400              cross section : 0.000117 pb      N Events : 50000    sample lumi : 427134758.595957  Scale : 0.000084      \n",
      "Sample ResonanceMass2200              cross section : 0.000060 pb      N Events : 50000    sample lumi : 834496509.416968  Scale : 0.000043      \n",
      "Sample WGToLNuG_PtG-500-amcatnloFXFX  cross section : 0.017700 pb      N Events : 827560   sample lumi : 46755351.701308   Scale : 0.000768      \n",
      "Sample WJetsToLNu-madgraphMLM         cross section : 61526.700000 pb  N Events : 29705748 sample lumi : 482.810682        Scale : 74.356267     \n",
      "Sample WGToLNuG_PtG-500-madgraphMLM   cross section : 0.008488 pb      N Events : 1393505  sample lumi : 164176169.646451  Scale : 0.000219      \n",
      "Sample WWTo2L2Nu                      cross section : 12.177665 pb     N Events : 1        sample lumi : 0.082118          Scale : 437178.162538 \n",
      "Sample WGToLNuG_PtG-130-madgraphMLM   cross section : 0.795147 pb      N Events : 1645059  sample lumi : 2068874.057250    Scale : 0.017352      \n",
      "Sample TTJets_SingleLeptFromT         cross section : 178.695240 pb    N Events : 11957043 sample lumi : 66913.047040      Scale : 0.536517      \n",
      "Sample GJets                          cross section : 693300.000000 pb N Events : 1972730  sample lumi : 2.845420          Scale : 12616.764585  \n",
      "Sample STtCh                          cross section : 70.690000 pb     N Events : 1        sample lumi : 0.014146          Scale : 2537771.000000\n",
      "Sample Zg                             cross section : 124.500000 pb    N Events : 3044343  sample lumi : 24452.554217      Scale : 1.468149      \n",
      "Sample DiPhoton_M40_80                cross section : 210.000000 pb    N Events : 4878862  sample lumi : 23232.676190      Scale : 1.545237      \n",
      "Sample ZGTo2LG                        cross section : 117.864000 pb    N Events : 9321494  sample lumi : 79086.862825      Scale : 0.453931      \n",
      "Sample GJets_HT-200To400              cross section : 2300.000000 pb   N Events : 10036487 sample lumi : 4363.690000       Scale : 8.226982      \n",
      "Sample WWG                            cross section : 0.214700 pb      N Events : 827630   sample lumi : 3854820.680019    Scale : 0.009313      \n",
      "Sample WJetsToLNu_HT-2500ToInf        cross section : 0.040381 pb      N Events : 253561   sample lumi : 6279215.472623    Scale : 0.005717      \n",
      "Sample WJetsToLNu_HT-400To600         cross section : 63.861000 pb     N Events : 1963464  sample lumi : 30745.901254      Scale : 1.167635      \n",
      "Sample ResonanceMass4000              cross section : 0.000023 pb      N Events : 50000    sample lumi : 2171180458.704779 Scale : 0.000017      \n",
      "Sample WgPt500                        cross section : 0.011789 pb      N Events : 1393505  sample lumi : 118206842.145444  Scale : 0.000304      \n",
      "Sample WGToLNuG-amcatnloFXFX          cross section : 821.700000 pb    N Events : 3235156  sample lumi : 3937.149811       Scale : 9.118271      \n",
      "Sample ResonanceMass300               cross section : 0.003073 pb      N Events : 50000    sample lumi : 16272039.260770   Scale : 0.002206      \n",
      "Sample ResonanceMass350               cross section : 0.001470 pb      N Events : 50000    sample lumi : 34021804.710309   Scale : 0.001055      \n",
      "-------------------------------------\n",
      "BEGIN READING SAMPLES\n",
      "-------------------------------------\n",
      "AddSample: Reading SingleMuon (['SingleMuon'])               [ \u001b[1;31mFailed\u001b[0m  ]\n",
      "AddSample: Reading SingleElectron (['SingleElectron'])       [ \u001b[1;32mSuccess\u001b[0m ]\n",
      "Update scale for DYJetsToLL_M-50\n",
      "AddSample: Reading DYJetsToLL_M-50 (['DYJetsToLL_M-50_TuneCUETP8M1_13TeV-madgraphMLM-pythia8'])  [ \u001b[1;32mSuccess\u001b[0m ]\n",
      "Update scale for ZGTo2LG\n",
      "AddSample: Reading ZGTo2LG (['ZGTo2LG_TuneCUETP8M1_13TeV-amcatnloFXFX-pythia8'])  [ \u001b[1;32mSuccess\u001b[0m ]\n",
      "AddSample: Reading TTJets_DiLept (['TTJets_DiLept_TuneCUETP8M1_13TeV-madgraphMLM-pythia8PhOlap'])  [ \u001b[1;31mFailed\u001b[0m  ]\n",
      "AddSample: Reading TTJets_SingleLeptFromTbar (['TTJets_SingleLeptFromTbar_TuneCUETP8M1_13TeV-madgraphMLM-pythia8PhOlap'])  [ \u001b[1;31mFailed\u001b[0m  ]\n",
      "AddSample: Reading TTJets_SingleLeptFromT (['TTJets_SingleLeptFromT_TuneCUETP8M1_13TeV-madgraphMLM-pythia8PhOlap'])  [ \u001b[1;31mFailed\u001b[0m  ]\n",
      "AddSample: Reading TTGJets (['TTGJets_TuneCUETP8M1_13TeV-amcatnloFXFX-madspin-pythia8'])  [ \u001b[1;31mFailed\u001b[0m  ]\n",
      "AddSample: Reading WGToLNuG-amcatnloFXFX (['WGToLNuG_TuneCUETP8M1_13TeV-amcatnloFXFX-pythia8'])  [ \u001b[1;31mFailed\u001b[0m  ]\n",
      "Update scale for WGToLNuG-madgraphMLM\n",
      "AddSample: Reading WGToLNuG-madgraphMLM (['WGToLNuG_TuneCUETP8M1_13TeV-madgraphMLM-pythia8'])  [ \u001b[1;32mSuccess\u001b[0m ]\n",
      "AddSample: Reading WGToLNuG_PtG-130-amcatnloFXFX (['WGToLNuG_PtG-130_TuneCUETP8M1_13TeV-amcatnloFXFX-pythia8'])  [ \u001b[1;31mFailed\u001b[0m  ]\n",
      "Update scale for WGToLNuG_PtG-130-madgraphMLM\n",
      "AddSample: Reading WGToLNuG_PtG-130-madgraphMLM (['WGToLNuG_PtG-130_TuneCUETP8M1_13TeV-madgraphMLM-pythia8'])  [ \u001b[1;32mSuccess\u001b[0m ]\n",
      "AddSample: Reading WGToLNuG_PtG-500-amcatnloFXFX (['WGToLNuG_PtG-500_TuneCUETP8M1_13TeV-amcatnloFXFX-pythia8'])  [ \u001b[1;31mFailed\u001b[0m  ]\n",
      "Update scale for WGToLNuG_PtG-500-madgraphMLM\n",
      "AddSample: Reading WGToLNuG_PtG-500-madgraphMLM (['WGToLNuG_PtG-500_TuneCUETP8M1_13TeV-madgraphMLM-pythia8'])  [ \u001b[1;32mSuccess\u001b[0m ]\n",
      "AddSample: Reading WGToLNuG-amcatnloFXFXPhCut (['WGToLNuG_TuneCUETP8M1_13TeV-amcatnloFXFX-pythia8PhCutMax'])  [ \u001b[1;31mFailed\u001b[0m  ]\n",
      "AddSample: Reading WGToLNuG_PtG-130-amcatnloFXFXPhCut (['WGToLNuG_PtG-130_TuneCUETP8M1_13TeV-amcatnloFXFX-pythia8PhCutMaxPhCutMin'])  [ \u001b[1;31mFailed\u001b[0m  ]\n",
      "AddSample: Reading WGToLNuG_PtG-500-amcatnloFXFXPhCut (['WGToLNuG_PtG-500_TuneCUETP8M1_13TeV-amcatnloFXFX-pythia8PhCutMin'])  [ \u001b[1;31mFailed\u001b[0m  ]\n",
      "AddSample: Reading WGToLNuG-madgraphMLMPhCut (['WGToLNuG_TuneCUETP8M1_13TeV-madgraphMLM-pythia8PhCutMax'])  [ \u001b[1;31mFailed\u001b[0m  ]\n",
      "AddSample: Reading WGToLNuG_PtG-130-madgraphMLMPhCut (['WGToLNuG_PtG-130_TuneCUETP8M1_13TeV-madgraphMLM-pythia8PhCutMaxPhCutMin'])  [ \u001b[1;31mFailed\u001b[0m  ]\n",
      "AddSample: Reading WGToLNuG_PtG-500-madgraphMLMPhCut (['WGToLNuG_PtG-500_TuneCUETP8M1_13TeV-madgraphMLM-pythia8PhCutMin'])  [ \u001b[1;31mFailed\u001b[0m  ]\n",
      "Update scale for WGToLNuG-madgraphMLMMTResCut\n",
      "AddSample: Reading WGToLNuG-madgraphMLMMTResCut (['WGToLNuG_TuneCUETP8M1_13TeV-madgraphMLM-pythia8'])  [ \u001b[1;32mSuccess\u001b[0m ]\n",
      "Update scale for WGToLNuG_PtG-130-madgraphMLMMTResCut\n",
      "AddSample: Reading WGToLNuG_PtG-130-madgraphMLMMTResCut (['WGToLNuG_PtG-130_TuneCUETP8M1_13TeV-madgraphMLM-pythia8'])  [ \u001b[1;32mSuccess\u001b[0m ]\n",
      "Update scale for WGToLNuG_PtG-500-madgraphMLMMTResCut\n",
      "AddSample: Reading WGToLNuG_PtG-500-madgraphMLMMTResCut (['WGToLNuG_PtG-500_TuneCUETP8M1_13TeV-madgraphMLM-pythia8'])  [ \u001b[1;32mSuccess\u001b[0m ]\n",
      "AddSample: Reading WJetsToLNu-madgraphMLM (['WJetsToLNu_TuneCUETP8M1_13TeV-madgraphMLM-pythia8'])  [ \u001b[1;31mFailed\u001b[0m  ]\n",
      "AddSample: Reading WWG (['WWG_TuneCUETP8M1_13TeV-amcatnlo-pythia8'])  [ \u001b[1;31mFailed\u001b[0m  ]\n",
      "AddSample: Reading DiPhoton (['DiPhotonJets_MGG-80toInf_13TeV_amcatnloFXFX_pythia8'])  [ \u001b[1;31mFailed\u001b[0m  ]\n",
      "AddSample: Reading WJetsToLNuTrueHTOlap (['WJetsToLNu_TuneCUETP8M1_13TeV-madgraphMLM-pythia8TrueHTOlapPhOlap'])  [ \u001b[1;31mFailed\u001b[0m  ]\n",
      "AddSample: Reading WJetsToLNu_HT-100To200 (['WJetsToLNu_HT-100To200_TuneCUETP8M1_13TeV-madgraphMLM-pythia8PhOlap'])  [ \u001b[1;31mFailed\u001b[0m  ]\n",
      "AddSample: Reading WJetsToLNu_HT-200To400 (['WJetsToLNu_HT-200To400_TuneCUETP8M1_13TeV-madgraphMLM-pythia8PhOlap'])  [ \u001b[1;31mFailed\u001b[0m  ]\n",
      "AddSample: Reading WJetsToLNu_HT-400To600 (['WJetsToLNu_HT-400To600_TuneCUETP8M1_13TeV-madgraphMLM-pythia8PhOlap'])  [ \u001b[1;31mFailed\u001b[0m  ]\n",
      "AddSample: Reading WJetsToLNu_HT-600To800 (['WJetsToLNu_HT-600To800_TuneCUETP8M1_13TeV-madgraphMLM-pythia8PhOlap'])  [ \u001b[1;31mFailed\u001b[0m  ]\n",
      "AddSample: Reading WJetsToLNu_HT-800To1200 (['WJetsToLNu_HT-800To1200_TuneCUETP8M1_13TeV-madgraphMLM-pythia8PhOlap'])  [ \u001b[1;31mFailed\u001b[0m  ]\n",
      "AddSample: Reading WJetsToLNu_HT-1200To2500 (['WJetsToLNu_HT-1200To2500_TuneCUETP8M1_13TeV-madgraphMLM-pythia8PhOlap'])  [ \u001b[1;31mFailed\u001b[0m  ]\n",
      "AddSample: Reading WJetsToLNu_HT-2500ToInf (['WJetsToLNu_HT-2500ToInf_TuneCUETP8M1_13TeV-madgraphMLM-pythia8PhOlap'])  [ \u001b[1;31mFailed\u001b[0m  ]\n",
      "AddSample: Reading GJets_HT-100To200 (['GJets_HT-100To200_TuneCUETP8M1_13TeV-madgraphMLM-pythia8'])  [ \u001b[1;31mFailed\u001b[0m  ]\n",
      "AddSample: Reading GJets_HT-200To400 (['GJets_HT-200To400_TuneCUETP8M1_13TeV-madgraphMLM-pythia8'])  [ \u001b[1;31mFailed\u001b[0m  ]\n",
      "AddSample: Reading GJets_HT-400To600 (['GJets_HT-400To600_TuneCUETP8M1_13TeV-madgraphMLM-pythia8'])  [ \u001b[1;31mFailed\u001b[0m  ]\n",
      "AddSample: Reading GJets_HT-40To100 (['GJets_HT-40To100_TuneCUETP8M1_13TeV-madgraphMLM-pythia8'])  [ \u001b[1;31mFailed\u001b[0m  ]\n",
      "AddSample: Reading GJets_HT-600ToInf (['GJets_HT-600ToInf_TuneCUETP8M1_13TeV-madgraphMLM-pythia8'])  [ \u001b[1;31mFailed\u001b[0m  ]\n",
      "AddSample: Reading MadGraphResonanceMass200_width0p01 (['MadGraphChargedResonance_WGToLNu_M200_width0p01'])  [ \u001b[1;31mFailed\u001b[0m  ]\n",
      "AddSample: Reading MadGraphResonanceMass200_width5 (['MadGraphChargedResonance_WGToLNu_M200_width5'])  [ \u001b[1;31mFailed\u001b[0m  ]\n",
      "AddSample: Reading MadGraphResonanceMass250_width0p01 (['MadGraphChargedResonance_WGToLNu_M250_width0p01'])  [ \u001b[1;31mFailed\u001b[0m  ]\n",
      "AddSample: Reading MadGraphResonanceMass250_width5 (['MadGraphChargedResonance_WGToLNu_M250_width5'])  [ \u001b[1;31mFailed\u001b[0m  ]\n",
      "AddSample: Reading MadGraphResonanceMass300_width0p01 (['MadGraphChargedResonance_WGToLNu_M300_width0p01'])  [ \u001b[1;31mFailed\u001b[0m  ]\n",
      "AddSample: Reading MadGraphResonanceMass300_width5 (['MadGraphChargedResonance_WGToLNu_M300_width5'])  [ \u001b[1;31mFailed\u001b[0m  ]\n",
      "AddSample: Reading MadGraphResonanceMass350_width0p01 (['MadGraphChargedResonance_WGToLNu_M350_width0p01'])  [ \u001b[1;31mFailed\u001b[0m  ]\n",
      "AddSample: Reading MadGraphResonanceMass350_width5 (['MadGraphChargedResonance_WGToLNu_M350_width5'])  [ \u001b[1;31mFailed\u001b[0m  ]\n",
      "AddSample: Reading MadGraphResonanceMass400_width0p01 (['MadGraphChargedResonance_WGToLNu_M400_width0p01'])  [ \u001b[1;31mFailed\u001b[0m  ]\n",
      "AddSample: Reading MadGraphResonanceMass400_width5 (['MadGraphChargedResonance_WGToLNu_M400_width5'])  [ \u001b[1;31mFailed\u001b[0m  ]\n",
      "AddSample: Reading MadGraphResonanceMass450_width0p01 (['MadGraphChargedResonance_WGToLNu_M450_width0p01'])  [ \u001b[1;31mFailed\u001b[0m  ]\n",
      "AddSample: Reading MadGraphResonanceMass450_width5 (['MadGraphChargedResonance_WGToLNu_M450_width5'])  [ \u001b[1;31mFailed\u001b[0m  ]\n",
      "AddSample: Reading MadGraphResonanceMass500_width0p01 (['MadGraphChargedResonance_WGToLNu_M500_width0p01'])  [ \u001b[1;31mFailed\u001b[0m  ]\n",
      "AddSample: Reading MadGraphResonanceMass500_width5 (['MadGraphChargedResonance_WGToLNu_M500_width5'])  [ \u001b[1;31mFailed\u001b[0m  ]\n",
      "AddSample: Reading MadGraphResonanceMass600_width0p01 (['MadGraphChargedResonance_WGToLNu_M600_width0p01'])  [ \u001b[1;31mFailed\u001b[0m  ]\n",
      "AddSample: Reading MadGraphResonanceMass600_width5 (['MadGraphChargedResonance_WGToLNu_M600_width5'])  [ \u001b[1;31mFailed\u001b[0m  ]\n",
      "AddSample: Reading MadGraphResonanceMass700_width0p01 (['MadGraphChargedResonance_WGToLNu_M700_width0p01'])  [ \u001b[1;31mFailed\u001b[0m  ]\n",
      "AddSample: Reading MadGraphResonanceMass700_width5 (['MadGraphChargedResonance_WGToLNu_M700_width5'])  [ \u001b[1;31mFailed\u001b[0m  ]\n",
      "AddSample: Reading MadGraphResonanceMass800_width0p01 (['MadGraphChargedResonance_WGToLNu_M800_width0p01'])  [ \u001b[1;31mFailed\u001b[0m  ]\n",
      "AddSample: Reading MadGraphResonanceMass800_width5 (['MadGraphChargedResonance_WGToLNu_M800_width5'])  [ \u001b[1;31mFailed\u001b[0m  ]\n",
      "AddSample: Reading MadGraphResonanceMass900_width0p01 (['MadGraphChargedResonance_WGToLNu_M900_width0p01'])  [ \u001b[1;31mFailed\u001b[0m  ]\n",
      "AddSample: Reading MadGraphResonanceMass900_width5 (['MadGraphChargedResonance_WGToLNu_M900_width5'])  [ \u001b[1;31mFailed\u001b[0m  ]\n",
      "AddSample: Reading MadGraphResonanceMass1000_width0p01 (['MadGraphChargedResonance_WGToLNu_M1000_width0p01'])  [ \u001b[1;31mFailed\u001b[0m  ]\n",
      "AddSample: Reading MadGraphResonanceMass1000_width5 (['MadGraphChargedResonance_WGToLNu_M1000_width5'])  [ \u001b[1;31mFailed\u001b[0m  ]\n",
      "AddSample: Reading MadGraphResonanceMass1200_width0p01 (['MadGraphChargedResonance_WGToLNu_M1200_width0p01'])  [ \u001b[1;31mFailed\u001b[0m  ]\n",
      "AddSample: Reading MadGraphResonanceMass1200_width5 (['MadGraphChargedResonance_WGToLNu_M1200_width5'])  [ \u001b[1;31mFailed\u001b[0m  ]\n",
      "AddSample: Reading MadGraphResonanceMass1400_width0p01 (['MadGraphChargedResonance_WGToLNu_M1400_width0p01'])  [ \u001b[1;31mFailed\u001b[0m  ]\n",
      "AddSample: Reading MadGraphResonanceMass1400_width5 (['MadGraphChargedResonance_WGToLNu_M1400_width5'])  [ \u001b[1;31mFailed\u001b[0m  ]\n",
      "AddSample: Reading MadGraphResonanceMass1600_width0p01 (['MadGraphChargedResonance_WGToLNu_M1600_width0p01'])  [ \u001b[1;31mFailed\u001b[0m  ]\n",
      "AddSample: Reading MadGraphResonanceMass1600_width5 (['MadGraphChargedResonance_WGToLNu_M1600_width5'])  [ \u001b[1;31mFailed\u001b[0m  ]\n",
      "AddSample: Reading MadGraphResonanceMass1800_width0p01 (['MadGraphChargedResonance_WGToLNu_M1800_width0p01'])  [ \u001b[1;31mFailed\u001b[0m  ]\n",
      "AddSample: Reading MadGraphResonanceMass1800_width5 (['MadGraphChargedResonance_WGToLNu_M1800_width5'])  [ \u001b[1;31mFailed\u001b[0m  ]\n",
      "AddSample: Reading MadGraphResonanceMass2000_width0p01 (['MadGraphChargedResonance_WGToLNu_M2000_width0p01'])  [ \u001b[1;31mFailed\u001b[0m  ]\n",
      "AddSample: Reading MadGraphResonanceMass2000_width5 (['MadGraphChargedResonance_WGToLNu_M2000_width5'])  [ \u001b[1;31mFailed\u001b[0m  ]\n",
      "AddSample: Reading MadGraphResonanceMass2200_width0p01 (['MadGraphChargedResonance_WGToLNu_M2200_width0p01'])  [ \u001b[1;31mFailed\u001b[0m  ]\n",
      "AddSample: Reading MadGraphResonanceMass2200_width5 (['MadGraphChargedResonance_WGToLNu_M2200_width5'])  [ \u001b[1;31mFailed\u001b[0m  ]\n",
      "AddSample: Reading MadGraphResonanceMass2400_width0p01 (['MadGraphChargedResonance_WGToLNu_M2400_width0p01'])  [ \u001b[1;31mFailed\u001b[0m  ]\n",
      "AddSample: Reading MadGraphResonanceMass2400_width5 (['MadGraphChargedResonance_WGToLNu_M2400_width5'])  [ \u001b[1;31mFailed\u001b[0m  ]\n",
      "AddSample: Reading MadGraphResonanceMass2600_width0p01 (['MadGraphChargedResonance_WGToLNu_M2600_width0p01'])  [ \u001b[1;31mFailed\u001b[0m  ]\n",
      "AddSample: Reading MadGraphResonanceMass2800_width0p01 (['MadGraphChargedResonance_WGToLNu_M2800_width0p01'])  [ \u001b[1;31mFailed\u001b[0m  ]\n",
      "AddSample: Reading MadGraphResonanceMass2800_width5 (['MadGraphChargedResonance_WGToLNu_M2800_width5'])  [ \u001b[1;31mFailed\u001b[0m  ]\n",
      "AddSample: Reading MadGraphResonanceMass3000_width0p01 (['MadGraphChargedResonance_WGToLNu_M3000_width0p01'])  [ \u001b[1;31mFailed\u001b[0m  ]\n",
      "AddSample: Reading MadGraphResonanceMass3500_width0p01 (['MadGraphChargedResonance_WGToLNu_M3500_width0p01'])  [ \u001b[1;31mFailed\u001b[0m  ]\n",
      "AddSample: Reading MadGraphResonanceMass3500_width5 (['MadGraphChargedResonance_WGToLNu_M3500_width5'])  [ \u001b[1;31mFailed\u001b[0m  ]\n",
      "AddSample: Reading MadGraphResonanceMass4000_width0p01 (['MadGraphChargedResonance_WGToLNu_M4000_width0p01'])  [ \u001b[1;31mFailed\u001b[0m  ]\n",
      "AddSample: Reading MadGraphResonanceMass4000_width5 (['MadGraphChargedResonance_WGToLNu_M4000_width5'])  [ \u001b[1;31mFailed\u001b[0m  ]\n",
      "AddSample: Reading PythiaResonanceMass200_width0p01 (['PythiaChargedResonance_WGToLNu_M200_width0p01'])  [ \u001b[1;31mFailed\u001b[0m  ]\n",
      "AddSample: Reading PythiaResonanceMass200_width5 (['PythiaChargedResonance_WGToLNu_M200_width5'])  [ \u001b[1;31mFailed\u001b[0m  ]\n",
      "AddSample: Reading PythiaResonanceMass250_width0p01 (['PythiaChargedResonance_WGToLNu_M250_width0p01'])  [ \u001b[1;31mFailed\u001b[0m  ]\n",
      "AddSample: Reading PythiaResonanceMass250_width5 (['PythiaChargedResonance_WGToLNu_M250_width5'])  [ \u001b[1;31mFailed\u001b[0m  ]\n",
      "AddSample: Reading PythiaResonanceMass300_width0p01 (['PythiaChargedResonance_WGToLNu_M300_width0p01'])  [ \u001b[1;31mFailed\u001b[0m  ]\n",
      "AddSample: Reading PythiaResonanceMass300_width5 (['PythiaChargedResonance_WGToLNu_M300_width5'])  [ \u001b[1;31mFailed\u001b[0m  ]\n",
      "AddSample: Reading PythiaResonanceMass350_width0p01 (['PythiaChargedResonance_WGToLNu_M350_width0p01'])  [ \u001b[1;31mFailed\u001b[0m  ]\n",
      "AddSample: Reading PythiaResonanceMass350_width5 (['PythiaChargedResonance_WGToLNu_M350_width5'])  [ \u001b[1;31mFailed\u001b[0m  ]\n",
      "AddSample: Reading PythiaResonanceMass400_width0p01 (['PythiaChargedResonance_WGToLNu_M400_width0p01'])  [ \u001b[1;31mFailed\u001b[0m  ]\n",
      "AddSample: Reading PythiaResonanceMass400_width5 (['PythiaChargedResonance_WGToLNu_M400_width5'])  [ \u001b[1;31mFailed\u001b[0m  ]\n",
      "AddSample: Reading PythiaResonanceMass450_width0p01 (['PythiaChargedResonance_WGToLNu_M450_width0p01'])  [ \u001b[1;31mFailed\u001b[0m  ]\n",
      "AddSample: Reading PythiaResonanceMass450_width5 (['PythiaChargedResonance_WGToLNu_M450_width5'])  [ \u001b[1;31mFailed\u001b[0m  ]\n",
      "AddSample: Reading PythiaResonanceMass500_width0p01 (['PythiaChargedResonance_WGToLNu_M500_width0p01'])  [ \u001b[1;31mFailed\u001b[0m  ]\n",
      "AddSample: Reading PythiaResonanceMass500_width5 (['PythiaChargedResonance_WGToLNu_M500_width5'])  [ \u001b[1;31mFailed\u001b[0m  ]\n",
      "AddSample: Reading PythiaResonanceMass600_width0p01 (['PythiaChargedResonance_WGToLNu_M600_width0p01'])  [ \u001b[1;31mFailed\u001b[0m  ]\n",
      "AddSample: Reading PythiaResonanceMass600_width5 (['PythiaChargedResonance_WGToLNu_M600_width5'])  [ \u001b[1;31mFailed\u001b[0m  ]\n",
      "AddSample: Reading PythiaResonanceMass700_width0p01 (['PythiaChargedResonance_WGToLNu_M700_width0p01'])  [ \u001b[1;31mFailed\u001b[0m  ]\n",
      "AddSample: Reading PythiaResonanceMass700_width5 (['PythiaChargedResonance_WGToLNu_M700_width5'])  [ \u001b[1;31mFailed\u001b[0m  ]\n",
      "AddSample: Reading PythiaResonanceMass800_width0p01 (['PythiaChargedResonance_WGToLNu_M800_width0p01'])  [ \u001b[1;31mFailed\u001b[0m  ]\n",
      "AddSample: Reading PythiaResonanceMass800_width5 (['PythiaChargedResonance_WGToLNu_M800_width5'])  [ \u001b[1;31mFailed\u001b[0m  ]\n",
      "AddSample: Reading PythiaResonanceMass900_width0p01 (['PythiaChargedResonance_WGToLNu_M900_width0p01'])  [ \u001b[1;31mFailed\u001b[0m  ]\n",
      "AddSample: Reading PythiaResonanceMass900_width5 (['PythiaChargedResonance_WGToLNu_M900_width5'])  [ \u001b[1;31mFailed\u001b[0m  ]\n",
      "AddSample: Reading PythiaResonanceMass1000_width0p01 (['PythiaChargedResonance_WGToLNu_M1000_width0p01'])  [ \u001b[1;31mFailed\u001b[0m  ]\n",
      "AddSample: Reading PythiaResonanceMass1000_width5 (['PythiaChargedResonance_WGToLNu_M1000_width5'])  [ \u001b[1;31mFailed\u001b[0m  ]\n",
      "AddSample: Reading PythiaResonanceMass1200_width0p01 (['PythiaChargedResonance_WGToLNu_M1200_width0p01'])  [ \u001b[1;31mFailed\u001b[0m  ]\n",
      "AddSample: Reading PythiaResonanceMass1200_width5 (['PythiaChargedResonance_WGToLNu_M1200_width5'])  [ \u001b[1;31mFailed\u001b[0m  ]\n",
      "AddSample: Reading PythiaResonanceMass1400_width0p01 (['PythiaChargedResonance_WGToLNu_M1400_width0p01'])  [ \u001b[1;31mFailed\u001b[0m  ]\n",
      "AddSample: Reading PythiaResonanceMass1400_width5 (['PythiaChargedResonance_WGToLNu_M1400_width5'])  [ \u001b[1;31mFailed\u001b[0m  ]\n",
      "AddSample: Reading PythiaResonanceMass1600_width0p01 (['PythiaChargedResonance_WGToLNu_M1600_width0p01'])  [ \u001b[1;31mFailed\u001b[0m  ]\n",
      "AddSample: Reading PythiaResonanceMass1600_width5 (['PythiaChargedResonance_WGToLNu_M1600_width5'])  [ \u001b[1;31mFailed\u001b[0m  ]\n",
      "AddSample: Reading PythiaResonanceMass1800_width0p01 (['PythiaChargedResonance_WGToLNu_M1800_width0p01'])  [ \u001b[1;31mFailed\u001b[0m  ]\n",
      "AddSample: Reading PythiaResonanceMass1800_width5 (['PythiaChargedResonance_WGToLNu_M1800_width5'])  [ \u001b[1;31mFailed\u001b[0m  ]\n",
      "AddSample: Reading PythiaResonanceMass2000_width0p01 (['PythiaChargedResonance_WGToLNu_M2000_width0p01'])  [ \u001b[1;31mFailed\u001b[0m  ]\n",
      "AddSample: Reading PythiaResonanceMass2000_width5 (['PythiaChargedResonance_WGToLNu_M2000_width5'])  [ \u001b[1;31mFailed\u001b[0m  ]\n",
      "AddSample: Reading PythiaResonanceMass2200_width0p01 (['PythiaChargedResonance_WGToLNu_M2200_width0p01'])  [ \u001b[1;31mFailed\u001b[0m  ]\n",
      "AddSample: Reading PythiaResonanceMass2200_width5 (['PythiaChargedResonance_WGToLNu_M2200_width5'])  [ \u001b[1;31mFailed\u001b[0m  ]\n",
      "AddSample: Reading PythiaResonanceMass2400_width0p01 (['PythiaChargedResonance_WGToLNu_M2400_width0p01'])  [ \u001b[1;31mFailed\u001b[0m  ]\n",
      "AddSample: Reading PythiaResonanceMass2400_width5 (['PythiaChargedResonance_WGToLNu_M2400_width5'])  [ \u001b[1;31mFailed\u001b[0m  ]\n",
      "AddSample: Reading PythiaResonanceMass2600_width0p01 (['PythiaChargedResonance_WGToLNu_M2600_width0p01'])  [ \u001b[1;31mFailed\u001b[0m  ]\n",
      "AddSample: Reading PythiaResonanceMass2800_width0p01 (['PythiaChargedResonance_WGToLNu_M2800_width0p01'])  [ \u001b[1;31mFailed\u001b[0m  ]\n",
      "AddSample: Reading PythiaResonanceMass2800_width5 (['PythiaChargedResonance_WGToLNu_M2800_width5'])  [ \u001b[1;31mFailed\u001b[0m  ]\n",
      "AddSample: Reading PythiaResonanceMass3000_width0p01 (['PythiaChargedResonance_WGToLNu_M3000_width0p01'])  [ \u001b[1;31mFailed\u001b[0m  ]\n",
      "AddSample: Reading PythiaResonanceMass3500_width0p01 (['PythiaChargedResonance_WGToLNu_M3500_width0p01'])  [ \u001b[1;31mFailed\u001b[0m  ]\n",
      "AddSample: Reading PythiaResonanceMass3500_width5 (['PythiaChargedResonance_WGToLNu_M3500_width5'])  [ \u001b[1;31mFailed\u001b[0m  ]\n",
      "AddSample: Reading PythiaResonanceMass4000_width0p01 (['PythiaChargedResonance_WGToLNu_M4000_width0p01'])  [ \u001b[1;31mFailed\u001b[0m  ]\n",
      "AddSample: Reading PythiaResonanceMass4000_width5 (['PythiaChargedResonance_WGToLNu_M4000_width5'])  [ \u001b[1;31mFailed\u001b[0m  ]\n",
      "WARNING - Child sample, SingleMuon, does not exist!\n",
      "Grouping Data\n",
      "Grouping Z+jets\n",
      "Grouping Zgamma\n",
      "WARNING - Child sample, WGToLNuG-amcatnloFXFXPhCut, does not exist!\n",
      "WARNING - Child sample, WGToLNuG_PtG-130-amcatnloFXFXPhCut, does not exist!\n",
      "WARNING - Child sample, WGToLNuG_PtG-500-amcatnloFXFXPhCut, does not exist!\n",
      "Grouping WgammaLO\n",
      "WARNING - Child sample, WJetsToLNuTrueHTOlap, does not exist!\n",
      "WARNING - Child sample, WJetsToLNu_HT-100To200, does not exist!\n",
      "WARNING - Child sample, WJetsToLNu_HT-200To400, does not exist!\n",
      "WARNING - Child sample, WJetsToLNu_HT-400To600, does not exist!\n",
      "WARNING - Child sample, WJetsToLNu_HT-600To800, does not exist!\n",
      "WARNING - Child sample, WJetsToLNu_HT-800To1200, does not exist!\n",
      "WARNING - Child sample, WJetsToLNu_HT-1200To2500, does not exist!\n",
      "WARNING - Child sample, WJetsToLNu_HT-2500ToInf, does not exist!\n",
      "WARNING - Child sample, TTGJets, does not exist!\n",
      "WARNING - Child sample, GJets_HT-100To200, does not exist!\n",
      "WARNING - Child sample, GJets_HT-200To400, does not exist!\n",
      "WARNING - Child sample, GJets_HT-400To600, does not exist!\n",
      "WARNING - Child sample, GJets_HT-40To100, does not exist!\n",
      "WARNING - Child sample, GJets_HT-600ToInf, does not exist!\n",
      "WARNING - Child sample, DiPhoton, does not exist!\n",
      "WARNING - Child sample, TTJets_DiLept, does not exist!\n",
      "WARNING - Child sample, TTJets_SingleLeptFromTbar, does not exist!\n",
      "WARNING - Child sample, TTJets_SingleLeptFromT, does not exist!\n",
      "WARNING - Child sample, TTbar_DiLep, does not exist!\n",
      "WARNING - Child sample, TTbar_SingleLep, does not exist!\n",
      "WARNING - Child sample, Wgamma, does not exist!\n",
      "WARNING - Child sample, Wjets, does not exist!\n",
      "WARNING - Child sample, TTbar_DiLep, does not exist!\n",
      "WARNING - Child sample, TTbar_SingleLep, does not exist!\n",
      "WARNING - Child sample, Wjets, does not exist!\n",
      "WARNING - Child sample, TTbar_DiLep, does not exist!\n",
      "WARNING - Child sample, TTbar_SingleLep, does not exist!\n",
      "Grouping MCBackgroundLO\n",
      "WARNING - Child sample, Wjets, does not exist!\n",
      "WARNING - Child sample, TTbar_SingleLep, does not exist!\n",
      "WARNING - Child sample, TTbar_DiLep, does not exist!\n",
      "Grouping EleFakeBackground\n",
      "Samples ready.\n",
      "\n",
      "The draw syntax follows that of TTree.Draw.  Examples : \n",
      "samples.Draw('met_et', 'EventWeight && passcut_ee==1', '(300, 0, 300)'\n",
      "\n",
      "The first argument is a branch in the tree to draw\n",
      "The second argument is a set of cuts and/or weights to apply\n",
      "The third argument are the bin limits to use \n",
      "\n",
      "To see all available branches do ListBranches()\n"
     ]
    }
   ],
   "source": [
    "%run interactiveStackTree.py --baseDir /data/users/kakw/Resonances/LepGamma_Mlpp_testb_elg_2018_08_26/ --samplesConf Modules/Resonance.py --xsFile cross_sections/photon15.py --lumi 35900. --treeName UMDNTuple/EventTree --fileName tree.root\n"
   ]
  },
  {
   "cell_type": "code",
   "execution_count": 4,
   "metadata": {
    "collapsed": true
   },
   "outputs": [],
   "source": [
    "base = 'ph_n>=1 && el_n==1'\n",
    "baseeta = base + ' && abs(ph_eta[0])<1.4'\n",
    "a3 = '&& ph_passEleVeto[0]==1' #CSEV\n",
    "b3 = '&& ph_passEleVeto[0]==0' \n",
    "a4 = '&& ph_hasPixSeed[0]==0'  #Pixel seed\n",
    "b4 = '&& ph_hasPixSeed[0]==1'\n",
    "\n",
    "xbin = range(0,50,2)+[50,52,54,60,65,75,80]\n",
    "hist_config = {'colors' : [ROOT.kRed, ROOT.kBlack], 'doratio' : 1,'xlabel':'MET','rlabel':'red/black' }"
   ]
  },
  {
   "cell_type": "markdown",
   "metadata": {},
   "source": [
    "## Fill histogram"
   ]
  },
  {
   "cell_type": "code",
   "execution_count": 5,
   "metadata": {
    "collapsed": false,
    "scrolled": true
   },
   "outputs": [
    {
     "name": "stdout",
     "output_type": "stream",
     "text": [
      "Creating hist for m_lep_ph\n",
      "m_lep_ph : ph_n>=1 && el_n==1 && abs(ph_eta[0])<1.4&& ph_n==1 \n",
      "(50, 0, 200)\n",
      "Draw grouped hist ZGTo2LG\n",
      "Creating hist for ZGTo2LG\n",
      "m_lep_ph : ph_n>=1 && el_n==1 && abs(ph_eta[0])<1.4&& ph_n==1 \n",
      "(50, 0, 200)\n",
      "Scale ZGTo2LG by 0.453931\n",
      "RUN GROUPING FOR m_lep_ph\n",
      "['ZGTo2LG']\n",
      "Scale m_lep_ph by 1.000000\n",
      "Creating hist for m_lep_ph_0\n",
      "m_lep_ph : ph_n>=1 && el_n==1 && abs(ph_eta[0])<1.4&& ph_n==2 \n",
      "(50, 0, 200)\n",
      "Draw grouped hist ZGTo2LG\n",
      "Creating hist for ZGTo2LG\n",
      "m_lep_ph : ph_n>=1 && el_n==1 && abs(ph_eta[0])<1.4&& ph_n==2 \n",
      "(50, 0, 200)\n",
      "Scale ZGTo2LG by 0.453931\n",
      "RUN GROUPING FOR m_lep_ph_0\n",
      "['ZGTo2LG']\n",
      "Scale m_lep_ph_0 by 1.000000\n",
      "Scale ratioZgamma by 1.000000\n",
      "[<SampleManager.Sample instance at 0x7f86744f5d88>, <SampleManager.Sample instance at 0x7f867450f878>]\n",
      "WARNING : Found zero samples matching criteria!  Sample matching criteria were : \n",
      "{'name': '__AllStack__'}\n",
      "WARNING : Found zero samples matching criteria!  Sample matching criteria were : \n",
      "{'name': [], 'isActive': True}\n",
      "0.04\n"
     ]
    },
    {
     "name": "stderr",
     "output_type": "stream",
     "text": [
      "Error in <TGClient::TGClient>: can't open display \"\", switching to batch mode...\n",
      " In case you run from a remote ssh session, reconnect with ssh -Y\n"
     ]
    }
   ],
   "source": [
    "hist_config = {'colors' : [ROOT.kBlue, ROOT.kMagenta], 'xlabel':'m(l,#gamma)',\n",
    "               'rlabel':'blue/magenta' , 'doratio' : 1,  'normalize':1}\n",
    "samples.CompareSelections('m_lep_ph', [baseeta +\"&& ph_n==1\",baseeta +\"&& ph_n==2\"],['Zgamma']*2, (50,0,200),\n",
    "                          hist_config, {}, {'legend_entries':['Z#gamma : 1 #gamma +1e', ' Z#gamma : 2 #gamma +1e']})"
   ]
  },
  {
   "cell_type": "markdown",
   "metadata": {},
   "source": [
    "### ele+leading $\\gamma$ reconstructed mass \n",
    " - invariant mass of leading photon and electron in Zgamma sample\n",
    " - 1 photon curve is messed up probably because an electron managed to be undetected\n",
    " - 2 photon curve the other peak arise from incorrect choice of photon in reconstructed mass"
   ]
  },
  {
   "cell_type": "code",
   "execution_count": 6,
   "metadata": {
    "collapsed": false
   },
   "outputs": [
    {
     "data": {
      "image/png": "[encoded data removed]",
      "text/plain": [
       "<ROOT.TCanvas object (\"basecan\") at 0x9949750>"
      ]
     },
     "execution_count": 6,
     "metadata": {},
     "output_type": "execute_result"
    },
    {
     "name": "stderr",
     "output_type": "stream",
     "text": [
      "Info in <TCanvas::Print>: png file /tmp/tmpP7nsfD.png has been created\n"
     ]
    }
   ],
   "source": [
    "samples.curr_canvases['top'].cd()\n",
    "samples.samples[-2].hist.GetYaxis().UnZoom()\n",
    "ROOT.gPad.Modified()\n",
    "ROOT.gPad.Update()\n",
    "\n",
    "samples.curr_canvases['base']\n"
   ]
  },
  {
   "cell_type": "code",
   "execution_count": 7,
   "metadata": {
    "collapsed": false
   },
   "outputs": [
    {
     "name": "stdout",
     "output_type": "stream",
     "text": [
      "removing sample m_lep_ph\n",
      "removing sample m_lep_ph_0\n",
      "removing sample ratioZgamma\n",
      "Creating hist for m_lep_ph_1\n",
      "m_lep_ph : ph_n>=1 && el_n==1 && abs(ph_eta[0])<1.4&& ph_n==1 \n",
      "(50, 0, 200)\n",
      "Draw grouped hist DYJetsToLL_M-50\n",
      "Creating hist for DYJetsToLL_M-50\n",
      "m_lep_ph : ph_n>=1 && el_n==1 && abs(ph_eta[0])<1.4&& ph_n==1 \n",
      "(50, 0, 200)\n",
      "Scale DYJetsToLL_M-50 by 4.211637\n",
      "RUN GROUPING FOR m_lep_ph_1\n",
      "['DYJetsToLL_M-50']\n",
      "Scale m_lep_ph_1 by 1.000000\n",
      "Creating hist for m_lep_ph_2\n",
      "m_lep_ph : ph_n>=1 && el_n==1 && abs(ph_eta[0])<1.4&& ph_n==2 \n",
      "(50, 0, 200)\n",
      "Draw grouped hist ZGTo2LG\n",
      "Creating hist for ZGTo2LG\n",
      "m_lep_ph : ph_n>=1 && el_n==1 && abs(ph_eta[0])<1.4&& ph_n==2 \n",
      "(50, 0, 200)\n",
      "Scale ZGTo2LG by 0.453931\n",
      "RUN GROUPING FOR m_lep_ph_2\n",
      "['ZGTo2LG']\n",
      "Scale m_lep_ph_2 by 1.000000\n",
      "Scale ratioZgamma by 1.000000\n",
      "[<SampleManager.Sample instance at 0x7f867450f878>, <SampleManager.Sample instance at 0x7f86743b04d0>]\n",
      "WARNING : Found zero samples matching criteria!  Sample matching criteria were : \n",
      "{'name': '__AllStack__'}\n",
      "WARNING : Found zero samples matching criteria!  Sample matching criteria were : \n",
      "{'name': [], 'isActive': True}\n",
      "0.04\n"
     ]
    }
   ],
   "source": [
    "hist_config = {'colors' : [ROOT.kBlue, ROOT.kMagenta], 'xlabel':'m(l,#gamma)',\n",
    "               'rlabel':'blue/magenta' ,         'doratio' : 1,  'normalize':1}\n",
    "samples.CompareSelections('m_lep_ph', [baseeta +\"&& ph_n==1\",baseeta +\"&& ph_n==2\"],['Z+jets','Zgamma'], (50,0,200),\n",
    "                          hist_config, {}, {'legend_entries':['Z+jets : 1 #gamma', ' Z#gamma : 2 #gamma']})"
   ]
  },
  {
   "cell_type": "code",
   "execution_count": 8,
   "metadata": {
    "collapsed": true
   },
   "outputs": [],
   "source": [
    "samples.curr_canvases['top'].cd()\n",
    "samples.samples[-2].hist.GetYaxis().UnZoom()\n",
    "ROOT.gPad.Modified();ROOT.gPad.Update()"
   ]
  },
  {
   "cell_type": "code",
   "execution_count": 9,
   "metadata": {
    "collapsed": false
   },
   "outputs": [
    {
     "data": {
      "image/png": "[encoded data removed]",
      "text/plain": [
       "<ROOT.TCanvas object (\"basecan\") at 0x8522a00>"
      ]
     },
     "execution_count": 9,
     "metadata": {},
     "output_type": "execute_result"
    },
    {
     "name": "stderr",
     "output_type": "stream",
     "text": [
      "Info in <TCanvas::Print>: png file /tmp/tmpxPcEEx.png has been created\n"
     ]
    }
   ],
   "source": [
    "samples.curr_canvases['base']\n"
   ]
  },
  {
   "cell_type": "markdown",
   "metadata": {},
   "source": [
    "#### Here:\n",
    " - one peak is correctly reconstructed with the fake\n",
    " - whereas lower peak used the real photon instead\n",
    " - choosing the less energetic photon may lead to higher mass if it is more antagonal to the electron object"
   ]
  },
  {
   "cell_type": "code",
   "execution_count": 10,
   "metadata": {
    "collapsed": false
   },
   "outputs": [
    {
     "name": "stdout",
     "output_type": "stream",
     "text": [
      "removing sample m_lep_ph_1\n",
      "removing sample m_lep_ph_2\n",
      "removing sample ratioZgamma\n",
      "Creating hist for Zgamma_0\n",
      "m_lep_ph_comb_leadLep[1]:m_lep_ph_comb_leadLep[0] : ph_n>=1 && el_n==1 && abs(ph_eta[0])<1.4&& ph_n==2 \n",
      "(160, 0, 400, 60, 0, 300)\n",
      "Draw grouped hist ZGTo2LG\n",
      "Creating hist for ZGTo2LG\n",
      "m_lep_ph_comb_leadLep[1]:m_lep_ph_comb_leadLep[0] : ph_n>=1 && el_n==1 && abs(ph_eta[0])<1.4&& ph_n==2 \n",
      "(160, 0, 400, 60, 0, 300)\n",
      "Scale ZGTo2LG by 0.453931\n",
      "RUN GROUPING FOR Zgamma_0\n",
      "['ZGTo2LG']\n",
      "Scale Zgamma_0 by 1.000000\n"
     ]
    }
   ],
   "source": [
    "ROOT.gStyle.SetPalette(ROOT.kBird)\n",
    "samples.Draw2D( 'm_lep_ph_comb_leadLep[1]:m_lep_ph_comb_leadLep[0]', baseeta +\"&& ph_n==2\",\n",
    "               'Zgamma',(160,0,400,60,0,300),'COLZ','M(l,#gamma_{1})','M(l,#gamma_{2})')\n"
   ]
  },
  {
   "cell_type": "markdown",
   "metadata": {},
   "source": [
    "\n",
    "### 2D plot: comparing reconstructed mass from leading v subleading photon\n",
    "\n",
    " - plotting $m (l, \\gamma_{1})$ and $m (l, \\gamma_{2})$\n",
    " - clearly see Z peak as a cross in the plot\n",
    " - extra blob at $M\\sim60GeV$\n",
    " \n",
    " "
   ]
  },
  {
   "cell_type": "code",
   "execution_count": 11,
   "metadata": {
    "collapsed": false
   },
   "outputs": [
    {
     "data": {
      "image/png": "[encoded data removed]",
      "text/plain": [
       "<ROOT.TCanvas object (\"basecan0\") at 0xb6d0d30>"
      ]
     },
     "execution_count": 11,
     "metadata": {},
     "output_type": "execute_result"
    },
    {
     "name": "stderr",
     "output_type": "stream",
     "text": [
      "Info in <TCanvas::Print>: png file /tmp/tmpaxvxOc.png has been created\n"
     ]
    }
   ],
   "source": [
    "samples.samples[-1].hist.GetZaxis().SetRangeUser(0.4,200)\n",
    "samples.samples[-1].hist.SetStats(0)\n",
    "samples.curr_canvases['base0'].SetLogz()\n",
    "samples.curr_canvases['base0']"
   ]
  },
  {
   "cell_type": "code",
   "execution_count": 12,
   "metadata": {
    "collapsed": false
   },
   "outputs": [
    {
     "name": "stdout",
     "output_type": "stream",
     "text": [
      "removing sample Zgamma_0\n",
      "Creating hist for Zgamma_0\n",
      "m_lep_ph_comb_leadLep[0]:m_lep_ph_ph : ph_n>=1 && el_n==1 && abs(ph_eta[0])<1.4&& ph_n==2 \n",
      "(160, 0, 400, 60, 0, 300)\n",
      "Draw grouped hist ZGTo2LG\n",
      "Creating hist for ZGTo2LG\n",
      "m_lep_ph_comb_leadLep[0]:m_lep_ph_ph : ph_n>=1 && el_n==1 && abs(ph_eta[0])<1.4&& ph_n==2 \n",
      "(160, 0, 400, 60, 0, 300)\n",
      "Scale ZGTo2LG by 0.453931\n",
      "RUN GROUPING FOR Zgamma_0\n",
      "['ZGTo2LG']\n",
      "Scale Zgamma_0 by 1.000000\n"
     ]
    },
    {
     "name": "stderr",
     "output_type": "stream",
     "text": [
      "Warning in <TCanvas::Constructor>: Deleting canvas with same name: basecan0\n"
     ]
    }
   ],
   "source": [
    "samples.Draw2D( 'm_lep_ph_comb_leadLep[0]:m_lep_ph_ph', baseeta +\"&& ph_n==2\",\n",
    "               'Zgamma',(160,0,400,60,0,300),'COLZ','M(l,#gamma_{1},#gamma_{2})','M(l,#gamma_{1})')\n"
   ]
  },
  {
   "cell_type": "code",
   "execution_count": 13,
   "metadata": {
    "collapsed": false
   },
   "outputs": [
    {
     "data": {
      "image/png": "[encoded data removed]",
      "text/plain": [
       "<ROOT.TCanvas object (\"basecan0\") at 0xb7507f0>"
      ]
     },
     "execution_count": 13,
     "metadata": {},
     "output_type": "execute_result"
    },
    {
     "name": "stderr",
     "output_type": "stream",
     "text": [
      "Info in <TCanvas::Print>: png file /tmp/tmpTYZRT3.png has been created\n"
     ]
    }
   ],
   "source": [
    "samples.samples[-1].hist.GetZaxis().SetRangeUser(0.4,300)\n",
    "samples.samples[-1].hist.SetStats(0)\n",
    "line =  ROOT.TLine(0,0,300,300);\n",
    "line.SetLineWidth(2);\n",
    "line.SetLineStyle(2);\n",
    "line.SetLineColor(46);\n",
    "line.Draw()\n",
    "samples.curr_canvases['base0'].SetLogz()\n",
    "samples.curr_canvases['base0']\n"
   ]
  },
  {
   "cell_type": "code",
   "execution_count": 14,
   "metadata": {
    "collapsed": false
   },
   "outputs": [
    {
     "name": "stdout",
     "output_type": "stream",
     "text": [
      "removing sample Zgamma_0\n",
      "Case when multiple vars is used is not implemented\n",
      "Creating hist for m_lep_ph_3\n",
      "m_lep_ph : ph_n>=1 && el_n==1 && abs(ph_eta[0])<1.4&& ph_n==1 \n",
      "(50, 0, 200)\n",
      "Draw grouped hist DYJetsToLL_M-50\n",
      "Creating hist for DYJetsToLL_M-50\n",
      "m_lep_ph : ph_n>=1 && el_n==1 && abs(ph_eta[0])<1.4&& ph_n==1 \n",
      "(50, 0, 200)\n",
      "Scale DYJetsToLL_M-50 by 4.211637\n",
      "RUN GROUPING FOR m_lep_ph_3\n",
      "['DYJetsToLL_M-50']\n",
      "Scale m_lep_ph_3 by 1.000000\n",
      "Creating hist for m_lep_ph_4\n",
      "m_lep_ph_ph : ph_n>=1 && el_n==1 && abs(ph_eta[0])<1.4&& ph_n==2 \n",
      "(50, 0, 200)\n",
      "Draw grouped hist ZGTo2LG\n",
      "Creating hist for ZGTo2LG\n",
      "m_lep_ph_ph : ph_n>=1 && el_n==1 && abs(ph_eta[0])<1.4&& ph_n==2 \n",
      "(50, 0, 200)\n",
      "Scale ZGTo2LG by 0.453931\n",
      "RUN GROUPING FOR m_lep_ph_4\n",
      "['ZGTo2LG']\n",
      "Scale m_lep_ph_4 by 1.000000\n",
      "Scale ratioZgamma by 1.000000\n",
      "[<SampleManager.Sample instance at 0x7f86743be950>, <SampleManager.Sample instance at 0x7f86940f61b8>]\n",
      "WARNING : Found zero samples matching criteria!  Sample matching criteria were : \n",
      "{'name': '__AllStack__'}\n",
      "WARNING : Found zero samples matching criteria!  Sample matching criteria were : \n",
      "{'name': [], 'isActive': True}\n",
      "0.04\n"
     ]
    }
   ],
   "source": [
    "hist_config = {'colors' : [ROOT.kBlue, ROOT.kMagenta], 'xlabel':'m(l,#gamma,#gamma)',\n",
    "               'rlabel':'blue/magenta' , 'doratio' : 1,  'normalize':1}\n",
    "samples.CompareSelections([ 'm_lep_ph', 'm_lep_ph_ph'], [baseeta +\"&& ph_n==1\",baseeta +\"&& ph_n==2\"],\n",
    "                          ['Z+jets','Zgamma'], (50,0,200), hist_config, {},\n",
    "                          {'legend_entries':['Z+jets : 1 #gamma', ' Z#gamma : 2 #gamma, m_{l#gamma#gamma}']})"
   ]
  },
  {
   "cell_type": "code",
   "execution_count": 15,
   "metadata": {
    "collapsed": false
   },
   "outputs": [
    {
     "data": {
      "image/png": "[encoded data removed]",
      "text/plain": [
       "<ROOT.TCanvas object (\"basecan\") at 0xb732d20>"
      ]
     },
     "execution_count": 15,
     "metadata": {},
     "output_type": "execute_result"
    },
    {
     "name": "stderr",
     "output_type": "stream",
     "text": [
      "Info in <TCanvas::Print>: png file /tmp/tmpnBT2Yf.png has been created\n"
     ]
    }
   ],
   "source": [
    "samples.curr_canvases['top'].cd()\n",
    "samples.samples[-2].hist.GetYaxis().UnZoom()\n",
    "ROOT.gPad.Modified()\n",
    "ROOT.gPad.Update()\n",
    "\n",
    "samples.curr_canvases['base']\n"
   ]
  },
  {
   "cell_type": "code",
   "execution_count": 16,
   "metadata": {
    "collapsed": false
   },
   "outputs": [
    {
     "name": "stdout",
     "output_type": "stream",
     "text": [
      "removing sample m_lep_ph_3\n",
      "removing sample m_lep_ph_4\n",
      "removing sample ratioZgamma\n",
      "Creating hist for Zgamma_0\n",
      "m_lep_ph_comb_leadLep[1]:m_lep_ph_comb_leadLep[0] : ph_n>=1 && el_n==1 && abs(ph_eta[0])<1.4&& ph_n==2 && trueph_n==1 && trueph_motherPID==23 \n",
      "(90, 0, 300, 60, 0, 200)\n",
      "Draw grouped hist ZGTo2LG\n",
      "Creating hist for ZGTo2LG\n",
      "m_lep_ph_comb_leadLep[1]:m_lep_ph_comb_leadLep[0] : ph_n>=1 && el_n==1 && abs(ph_eta[0])<1.4&& ph_n==2 && trueph_n==1 && trueph_motherPID==23 \n",
      "(90, 0, 300, 60, 0, 200)\n",
      "Scale ZGTo2LG by 0.453931\n",
      "RUN GROUPING FOR Zgamma_0\n",
      "['ZGTo2LG']\n",
      "Scale Zgamma_0 by 1.000000\n"
     ]
    }
   ],
   "source": [
    "ROOT.gStyle.SetPalette(ROOT.kBird)\n",
    "samples.Draw2D( 'm_lep_ph_comb_leadLep[1]:m_lep_ph_comb_leadLep[0]', \n",
    "               baseeta +\"&& ph_n==2 && trueph_n==1 && trueph_motherPID==23\",\n",
    "               'Zgamma',(90,0,300,60,0,200),'COLZ','M(l,#gamma_{1})','M(l,#gamma_{2})')\n"
   ]
  },
  {
   "cell_type": "markdown",
   "metadata": {},
   "source": [
    "### leading vs subleading $\\gamma$ reconstructed mass $m_{l,\\gamma}$ with gen photon motherPID = 23 ($Z_{0}$) "
   ]
  },
  {
   "cell_type": "code",
   "execution_count": 17,
   "metadata": {
    "collapsed": false
   },
   "outputs": [
    {
     "data": {
      "image/png": "[encoded data removed]",
      "text/plain": [
       "<ROOT.TCanvas object (\"basecan0\") at 0x8502f10>"
      ]
     },
     "execution_count": 17,
     "metadata": {},
     "output_type": "execute_result"
    },
    {
     "name": "stderr",
     "output_type": "stream",
     "text": [
      "Info in <TCanvas::Print>: png file /tmp/tmp99xcx1.png has been created\n"
     ]
    }
   ],
   "source": [
    "samples.curr_canvases['base0'].SetLogz()\n",
    "samples.curr_canvases['base0']"
   ]
  },
  {
   "cell_type": "code",
   "execution_count": 18,
   "metadata": {
    "collapsed": false
   },
   "outputs": [
    {
     "name": "stdout",
     "output_type": "stream",
     "text": [
      "removing sample Zgamma_0\n",
      "Creating hist for Zgamma_0\n",
      "m_lep_ph_comb_leadLep[1]:m_lep_ph_comb_leadLep[0] : ph_n>=1 && el_n==1 && abs(ph_eta[0])<1.4&& ph_n==2 && trueph_n==1 && trueph_motherPID==22 \n",
      "(90, 0, 300, 60, 0, 200)\n",
      "Draw grouped hist ZGTo2LG\n",
      "Creating hist for ZGTo2LG\n",
      "m_lep_ph_comb_leadLep[1]:m_lep_ph_comb_leadLep[0] : ph_n>=1 && el_n==1 && abs(ph_eta[0])<1.4&& ph_n==2 && trueph_n==1 && trueph_motherPID==22 \n",
      "(90, 0, 300, 60, 0, 200)\n",
      "Scale ZGTo2LG by 0.453931\n",
      "RUN GROUPING FOR Zgamma_0\n",
      "['ZGTo2LG']\n",
      "Scale Zgamma_0 by 1.000000\n"
     ]
    },
    {
     "name": "stderr",
     "output_type": "stream",
     "text": [
      "Warning in <TCanvas::Constructor>: Deleting canvas with same name: basecan0\n"
     ]
    }
   ],
   "source": [
    "ROOT.gStyle.SetPalette(ROOT.kBird)\n",
    "samples.Draw2D( 'm_lep_ph_comb_leadLep[1]:m_lep_ph_comb_leadLep[0]', \n",
    "               baseeta +\"&& ph_n==2 && trueph_n==1 && trueph_motherPID==22\",\n",
    "               'Zgamma',(90,0,300,60,0,200),'COLZ','M(l,#gamma_{1})','M(l,#gamma_{2})')\n"
   ]
  },
  {
   "cell_type": "markdown",
   "metadata": {},
   "source": [
    "### leading vs subleading $\\gamma$ reconstructed mass $m_{l,\\gamma}$ with gen photon motherPID = 22 ($\\gamma_{0}$) "
   ]
  },
  {
   "cell_type": "code",
   "execution_count": 19,
   "metadata": {
    "collapsed": false
   },
   "outputs": [
    {
     "data": {
      "image/png": "[encoded data removed]",
      "text/plain": [
       "<ROOT.TCanvas object (\"basecan0\") at 0xaef5d90>"
      ]
     },
     "execution_count": 19,
     "metadata": {},
     "output_type": "execute_result"
    },
    {
     "name": "stderr",
     "output_type": "stream",
     "text": [
      "Info in <TCanvas::Print>: png file /tmp/tmpHZAgkc.png has been created\n"
     ]
    }
   ],
   "source": [
    "samples.curr_canvases['base0'].SetLogz()\n",
    "samples.curr_canvases['base0']"
   ]
  },
  {
   "cell_type": "markdown",
   "metadata": {},
   "source": [
    "### notes\n",
    "\n",
    "- Data card for Zgamma generator:\n",
    "\n",
    "https://github.com/cms-sw/genproductions/blob/9804294c57bb1e9796382fc92090075b9a4a84bc/bin/MadGraph5_aMCatNLO/cards/production/13TeV/ZATo2LA01j_5f_NLO_FXFX/ZATo2LA01j_5f_NLO_FXFX_run_card.dat\n",
    "\n",
    "1. when mother PID = 22 (photon): \n",
    "\n",
    "    - the mother photon comes from a hard interaction quark\n",
    "\n",
    "    - electron pt sums to Z mass \n",
    "\n",
    "1. when mother PID = 23 (Z boson):\n",
    "\n",
    "    - photon is collinear with one of the electron\n",
    "    - pt sum of electron seems off the mark from Z mass, seems to be of the order photon pT"
   ]
  },
  {
   "cell_type": "markdown",
   "metadata": {},
   "source": [
    "--- 1 ---\n",
    "\n",
    "    \n",
    "    ***********************************************************************************\n",
    "    *    Row   * Instance *   gen_PID * gen_mothe * gen_fromH *   gen_phi *   gen_pt  *\n",
    "    ***********************************************************************************\n",
    "    *       12 *        0 *        23 *         2 *         0 * -2.242582 * 11.536655 *\n",
    "    *       12 *        1 *        22 *         2 *         0 * 0.8990098 * 11.536655 *\n",
    "    *       12 *        2 *        23 *        23 *         0 * -2.388667 * 18.662937 *\n",
    "    *       12 *        3 *        23 *        23 *         0 * -2.444482 * 17.589969 *\n",
    "    *       12 *        4 *        23 *        23 *         0 * -2.319227 * 19.507524 *\n",
    "    *       12 *        5 *        23 *        23 *         0 * -2.387543 * 19.809474 *\n",
    "    *       12 *        6 *        23 *        23 *         0 * -2.414541 * 19.689378 *\n",
    "    *       12 *        7 *        22 *        22 *         1 * 2.8962256 * 10.515576 *<<<\n",
    "    *       12 *        8 *        11 *        23 *         0 * -2.124343 * 55.441967 *\n",
    "    *       12 *        9 *       -11 *        23 *         0 * 1.1700824 * 37.007217 *\n",
    "    *       12 *       10 *        11 *        11 *         1 * -2.125319 * 55.112918 *<<<\n",
    "    *       12 *       11 *       -11 *       -11 *         1 * 1.1700824 * 37.002239 *<<<\n",
    "    *       12 *       12 *        21 *      2212 *         0 * 0.5243875 * 20.684333 *\n",
    "\n",
    "\n",
    "--- 2 ---\n",
    "    \n",
    "    ***********************************************************************************\n",
    "    *    Row   * Instance *   gen_PID * gen_mothe * gen_fromH *   gen_phi *   gen_pt  *\n",
    "    ***********************************************************************************\n",
    "    *        0 *        0 *        23 *        23 *         0 * -1.651171 * 5.5309357 *\n",
    "    *        0 *        1 *        23 *        23 *         0 * -1.450965 * 7.2031130 *\n",
    "    *        0 *        2 *        23 *        23 *         0 * -1.239111 * 6.9933800 *\n",
    "    *        0 *        3 *        13 *        23 *         0 * 0.0910035 * 33.902069 *<<<<\n",
    "    *        0 *        4 *       -13 *        23 *         0 * -2.899175 * 45.351413 *<<<\n",
    "    *        0 *        5 *        22 *        23 *         1 * 0.0948786 * 12.597539 *<<<<\n",
    "    *        0 *        6 *        13 *        13 *         0 * 0.0910088 * 33.892955 *\n",
    "    *        0 *        7 *       -13 *       -13 *         0 * -2.899175 * 45.351413 *\n",
    "    *        0 *        8 *       -13 *       -13 *         1 * -2.899175 * 45.351413 *\n",
    "    *        0 *        9 *        13 *        13 *         1 * 0.0910088 * 33.892955 *\n",
    "    *        0 *       10 *         1 *      2212 *         0 * -1.488160 * 5.7920198 *\n",
    "    *        0 *       11 *         2 *      2212 *         0 * 0.1679915 * 6.0793767 *\n",
    "    *        0 *       12 *        21 *      2212 *         0 * 1.8993362 * 6.9830250 *\n",
    "    *        0 *       13 *        21 *      2212 *         0 * 0.8363395 * 7.0736775 *\n",
    "    *        0 *       14 *        21 *      2212 *         0 * 2.3591649 * 5.8912453 *\n",
    "    *        0 *       15 *         2 *      2212 *         0 * 0.6795014 * 8.8710212 *```"
   ]
  },
  {
   "cell_type": "code",
   "execution_count": 20,
   "metadata": {
    "collapsed": false
   },
   "outputs": [
    {
     "name": "stdout",
     "output_type": "stream",
     "text": [
      "removing sample Zgamma_0\n",
      "Case when multiple vars is used is not implemented\n",
      "Creating hist for m_lep_ph_5\n",
      "m_lep_ph : ph_n>=1 && el_n==1 && abs(ph_eta[0])<1.4&& ph_n==1 \n",
      "(50, 0, 200)\n",
      "Draw grouped hist DYJetsToLL_M-50\n",
      "Creating hist for DYJetsToLL_M-50\n",
      "m_lep_ph : ph_n>=1 && el_n==1 && abs(ph_eta[0])<1.4&& ph_n==1 \n",
      "(50, 0, 200)\n",
      "Scale DYJetsToLL_M-50 by 4.211637\n",
      "RUN GROUPING FOR m_lep_ph_5\n",
      "['DYJetsToLL_M-50']\n",
      "Scale m_lep_ph_5 by 1.000000\n",
      "Creating hist for m_lep_ph_6\n",
      "m_lep_ph_ph : ph_n>=1 && el_n==1 && abs(ph_eta[0])<1.4&& ph_n==2&& trueph_motherPID==23  \n",
      "(50, 0, 200)\n",
      "Draw grouped hist ZGTo2LG\n",
      "Creating hist for ZGTo2LG\n",
      "m_lep_ph_ph : ph_n>=1 && el_n==1 && abs(ph_eta[0])<1.4&& ph_n==2&& trueph_motherPID==23  \n",
      "(50, 0, 200)\n",
      "Scale ZGTo2LG by 0.453931\n",
      "RUN GROUPING FOR m_lep_ph_6\n",
      "['ZGTo2LG']\n",
      "Scale m_lep_ph_6 by 1.000000\n",
      "Scale ratioZgamma by 1.000000\n",
      "[<SampleManager.Sample instance at 0x7f86743bed40>, <SampleManager.Sample instance at 0x7f86743bee18>]\n",
      "WARNING : Found zero samples matching criteria!  Sample matching criteria were : \n",
      "{'name': '__AllStack__'}\n",
      "WARNING : Found zero samples matching criteria!  Sample matching criteria were : \n",
      "{'name': [], 'isActive': True}\n",
      "0.04\n"
     ]
    }
   ],
   "source": [
    "hist_config = {'colors' : [ROOT.kBlue, ROOT.kMagenta], 'xlabel':'reconstructed mass',\n",
    "               'rlabel':'blue/magenta' , 'doratio' : 1,  'normalize':1}\n",
    "samples.CompareSelections([ 'm_lep_ph', 'm_lep_ph_ph'], [baseeta +\"&& ph_n==1\",baseeta +\"&& ph_n==2&& trueph_motherPID==23 \"],['Z+jets','Zgamma'], (50,0,200),\n",
    "                          hist_config, {}, {'legend_entries':['Z+jets : 1 #gamma', ' Z#gamma : 2 #gamma']})"
   ]
  },
  {
   "cell_type": "markdown",
   "metadata": {},
   "source": [
    "### e+2$\\gamma$ mass in Zgamma events where generator photon has Z as mother"
   ]
  },
  {
   "cell_type": "code",
   "execution_count": 21,
   "metadata": {
    "collapsed": false
   },
   "outputs": [
    {
     "data": {
      "image/png": "[encoded data removed]",
      "text/plain": [
       "<ROOT.TCanvas object (\"basecan\") at 0xaebca70>"
      ]
     },
     "execution_count": 21,
     "metadata": {},
     "output_type": "execute_result"
    },
    {
     "name": "stderr",
     "output_type": "stream",
     "text": [
      "Info in <TCanvas::Print>: png file /tmp/tmpsHAFI7.png has been created\n"
     ]
    }
   ],
   "source": [
    "samples.curr_canvases['top'].cd()\n",
    "samples.samples[-2].hist.GetYaxis().UnZoom()\n",
    "ROOT.gPad.Modified(); ROOT.gPad.Update()\n",
    "samples.curr_canvases['base']"
   ]
  },
  {
   "cell_type": "code",
   "execution_count": 22,
   "metadata": {
    "collapsed": false
   },
   "outputs": [
    {
     "name": "stdout",
     "output_type": "stream",
     "text": [
      "removing sample m_lep_ph_5\n",
      "removing sample m_lep_ph_6\n",
      "removing sample ratioZgamma\n",
      "Creating hist for m_lep_ph_7\n",
      "m_lep_ph : ph_n>=1 && el_n==1 && abs(ph_eta[0])<1.4&& ph_n==1 \n",
      "(50, 0, 200)\n",
      "Draw grouped hist DYJetsToLL_M-50\n",
      "Creating hist for DYJetsToLL_M-50\n",
      "m_lep_ph : ph_n>=1 && el_n==1 && abs(ph_eta[0])<1.4&& ph_n==1 \n",
      "(50, 0, 200)\n",
      "Scale DYJetsToLL_M-50 by 4.211637\n",
      "RUN GROUPING FOR m_lep_ph_7\n",
      "['DYJetsToLL_M-50']\n",
      "Scale m_lep_ph_7 by 1.000000\n",
      "Creating hist for m_lep_ph_8\n",
      "m_lep_ph : ph_n>=1 && el_n==1 && abs(ph_eta[0])<1.4&& ph_n==2 && trueph_motherPID==22 \n",
      "(50, 0, 200)\n",
      "Draw grouped hist ZGTo2LG\n",
      "Creating hist for ZGTo2LG\n",
      "m_lep_ph : ph_n>=1 && el_n==1 && abs(ph_eta[0])<1.4&& ph_n==2 && trueph_motherPID==22 \n",
      "(50, 0, 200)\n",
      "Scale ZGTo2LG by 0.453931\n",
      "RUN GROUPING FOR m_lep_ph_8\n",
      "['ZGTo2LG']\n",
      "Scale m_lep_ph_8 by 1.000000\n",
      "Scale ratioZgamma by 1.000000\n",
      "[<SampleManager.Sample instance at 0x7f86743c4488>, <SampleManager.Sample instance at 0x7f86744f58c0>]\n",
      "WARNING : Found zero samples matching criteria!  Sample matching criteria were : \n",
      "{'name': '__AllStack__'}\n",
      "WARNING : Found zero samples matching criteria!  Sample matching criteria were : \n",
      "{'name': [], 'isActive': True}\n",
      "0.04\n"
     ]
    }
   ],
   "source": [
    "hist_config = {'colors' : [ROOT.kBlue, ROOT.kMagenta], 'xlabel':'m(l,#gamma)',\n",
    "               'rlabel':'blue/magenta' ,'doratio' : 1,  'normalize':1}\n",
    "samples.CompareSelections('m_lep_ph', [baseeta +\"&& ph_n==1\",baseeta +\"&& ph_n==2 && trueph_motherPID==22\"],['Z+jets','Zgamma'], (50,0,200),\n",
    "                          hist_config, {}, {'legend_entries':['Z+jets : 1 #gamma', ' Z#gamma : 2 #gamma']})"
   ]
  },
  {
   "cell_type": "code",
   "execution_count": 23,
   "metadata": {
    "collapsed": true
   },
   "outputs": [],
   "source": [
    "samples.curr_canvases['top'].cd()\n",
    "samples.samples[-2].hist.GetYaxis().UnZoom()\n",
    "ROOT.gPad.Modified();ROOT.gPad.Update()"
   ]
  },
  {
   "cell_type": "markdown",
   "metadata": {},
   "source": [
    "### e+$\\gamma_{1}$ mass in Zgamma events where generator photon is an ISR"
   ]
  },
  {
   "cell_type": "code",
   "execution_count": 24,
   "metadata": {
    "collapsed": false
   },
   "outputs": [
    {
     "data": {
      "image/png": "[encoded data removed]",
      "text/plain": [
       "<ROOT.TCanvas object (\"basecan\") at 0xb735cd0>"
      ]
     },
     "execution_count": 24,
     "metadata": {},
     "output_type": "execute_result"
    },
    {
     "name": "stderr",
     "output_type": "stream",
     "text": [
      "Info in <TCanvas::Print>: png file /tmp/tmpoFEYoE.png has been created\n"
     ]
    }
   ],
   "source": [
    "samples.curr_canvases['base']\n"
   ]
  },
  {
   "cell_type": "code",
   "execution_count": 25,
   "metadata": {
    "collapsed": false
   },
   "outputs": [
    {
     "name": "stdout",
     "output_type": "stream",
     "text": [
      "removing sample m_lep_ph_7\n",
      "removing sample m_lep_ph_8\n",
      "removing sample ratioZgamma\n",
      "Case when multiple vars is used is not implemented\n",
      "Creating hist for m_lep_ph_9\n",
      "m_lep_ph : ph_n>=1 && el_n==1 && abs(ph_eta[0])<1.4&& ph_n==1 \n",
      "(50, 0, 200)\n",
      "Draw grouped hist DYJetsToLL_M-50\n",
      "Creating hist for DYJetsToLL_M-50\n",
      "m_lep_ph : ph_n>=1 && el_n==1 && abs(ph_eta[0])<1.4&& ph_n==1 \n",
      "(50, 0, 200)\n",
      "Scale DYJetsToLL_M-50 by 4.211637\n",
      "RUN GROUPING FOR m_lep_ph_9\n",
      "['DYJetsToLL_M-50']\n",
      "Scale m_lep_ph_9 by 1.000000\n",
      "Creating hist for m_lep_ph_10\n",
      "m_lep_ph_comb_leadLep[1]*(abs(m_lep_ph_comb_leadLep[0]-91)>abs(m_lep_ph_comb_leadLep[1]-91)) + m_lep_ph_comb_leadLep[0]*(!(abs(m_lep_ph_comb_leadLep[0]-91)>abs(m_lep_ph_comb_leadLep[1]-91))) : ph_n>=1 && el_n==1 && abs(ph_eta[0])<1.4&& ph_n==2 && trueph_motherPID==22 \n",
      "(50, 0, 200)\n",
      "Draw grouped hist ZGTo2LG\n",
      "Creating hist for ZGTo2LG\n",
      "m_lep_ph_comb_leadLep[1]*(abs(m_lep_ph_comb_leadLep[0]-91)>abs(m_lep_ph_comb_leadLep[1]-91)) + m_lep_ph_comb_leadLep[0]*(!(abs(m_lep_ph_comb_leadLep[0]-91)>abs(m_lep_ph_comb_leadLep[1]-91))) : ph_n>=1 && el_n==1 && abs(ph_eta[0])<1.4&& ph_n==2 && trueph_motherPID==22 \n",
      "(50, 0, 200)\n",
      "Scale ZGTo2LG by 0.453931\n",
      "RUN GROUPING FOR m_lep_ph_10\n",
      "['ZGTo2LG']\n",
      "Scale m_lep_ph_10 by 1.000000\n",
      "Scale ratioZgamma by 1.000000\n",
      "[<SampleManager.Sample instance at 0x7f86743bef80>, <SampleManager.Sample instance at 0x7f86743c4758>]\n",
      "WARNING : Found zero samples matching criteria!  Sample matching criteria were : \n",
      "{'name': '__AllStack__'}\n",
      "WARNING : Found zero samples matching criteria!  Sample matching criteria were : \n",
      "{'name': [], 'isActive': True}\n",
      "0.04\n"
     ]
    }
   ],
   "source": [
    "cond=\"(abs(m_lep_ph_comb_leadLep[0]-91)>abs(m_lep_ph_comb_leadLep[1]-91))\"\n",
    "hist_config = {'colors' : [ROOT.kBlue, ROOT.kMagenta], 'xlabel':'m(l,#gamma)',\n",
    "               'rlabel':'blue/magenta' ,'doratio' : 1,  'normalize':1}\n",
    "samples.CompareSelections(['m_lep_ph','m_lep_ph_comb_leadLep[1]*%s + m_lep_ph_comb_leadLep[0]*(!%s)' %(cond,cond)], [baseeta +\"&& ph_n==1\",baseeta +\"&& ph_n==2 && trueph_motherPID==22\"],['Z+jets','Zgamma'], (50,0,200),\n",
    "                          hist_config, {}, {'legend_entries':['Z+jets : 1 #gamma', ' Z#gamma : 2 #gamma']})"
   ]
  },
  {
   "cell_type": "code",
   "execution_count": 26,
   "metadata": {
    "collapsed": true
   },
   "outputs": [],
   "source": [
    "samples.curr_canvases['top'].cd()\n",
    "samples.samples[-2].hist.GetYaxis().UnZoom()\n",
    "ROOT.gPad.Modified();ROOT.gPad.Update()"
   ]
  },
  {
   "cell_type": "markdown",
   "metadata": {},
   "source": [
    "### e+$\\gamma_{1}$ or e+$\\gamma_{2}$ mass in Zgamma events where generator photon is an ISR, whichever is closer to Z mass"
   ]
  },
  {
   "cell_type": "code",
   "execution_count": 27,
   "metadata": {
    "collapsed": false
   },
   "outputs": [
    {
     "data": {
      "image/png": "[encoded data removed]",
      "text/plain": [
       "<ROOT.TCanvas object (\"basecan\") at 0x96ac490>"
      ]
     },
     "execution_count": 27,
     "metadata": {},
     "output_type": "execute_result"
    },
    {
     "name": "stderr",
     "output_type": "stream",
     "text": [
      "Info in <TCanvas::Print>: png file /tmp/tmpMHxaKi.png has been created\n"
     ]
    }
   ],
   "source": [
    "samples.curr_canvases['base']\n"
   ]
  },
  {
   "cell_type": "code",
   "execution_count": 28,
   "metadata": {
    "collapsed": false
   },
   "outputs": [
    {
     "name": "stdout",
     "output_type": "stream",
     "text": [
      "removing sample m_lep_ph_9\n",
      "removing sample m_lep_ph_10\n",
      "removing sample ratioZgamma\n",
      "Case when multiple vars is used is not implemented\n",
      "Creating hist for m_lep_ph_11\n",
      "m_lep_ph : ph_n>=1 && el_n==1 && abs(ph_eta[0])<1.4&& ph_n==1 \n",
      "(50, 0, 200)\n",
      "Draw grouped hist DYJetsToLL_M-50\n",
      "Creating hist for DYJetsToLL_M-50\n",
      "m_lep_ph : ph_n>=1 && el_n==1 && abs(ph_eta[0])<1.4&& ph_n==1 \n",
      "(50, 0, 200)\n",
      "Scale DYJetsToLL_M-50 by 4.211637\n",
      "RUN GROUPING FOR m_lep_ph_11\n",
      "['DYJetsToLL_M-50']\n",
      "Scale m_lep_ph_11 by 1.000000\n",
      "Creating hist for m_lep_ph_12\n",
      "m_lpp_best : ph_n>=1 && el_n==1 && abs(ph_eta[0])<1.4&& ph_n==2 \n",
      "(50, 0, 200)\n",
      "Draw grouped hist ZGTo2LG\n",
      "Creating hist for ZGTo2LG\n",
      "m_lpp_best : ph_n>=1 && el_n==1 && abs(ph_eta[0])<1.4&& ph_n==2 \n",
      "(50, 0, 200)\n",
      "Scale ZGTo2LG by 0.453931\n",
      "RUN GROUPING FOR m_lep_ph_12\n",
      "['ZGTo2LG']\n",
      "Scale m_lep_ph_12 by 1.000000\n",
      "Scale ratioZgamma by 1.000000\n",
      "[<SampleManager.Sample instance at 0x7f86743c4758>, <SampleManager.Sample instance at 0x7f86743c47e8>]\n",
      "WARNING : Found zero samples matching criteria!  Sample matching criteria were : \n",
      "{'name': '__AllStack__'}\n",
      "WARNING : Found zero samples matching criteria!  Sample matching criteria were : \n",
      "{'name': [], 'isActive': True}\n",
      "0.04\n"
     ]
    }
   ],
   "source": [
    "hist_config = {'colors' : [ROOT.kBlue, ROOT.kMagenta], 'xlabel':'reconstructed mass',\n",
    "               'rlabel':'blue/magenta' , 'doratio' : 1,  'normalize':1}\n",
    "samples.CompareSelections([ 'm_lep_ph', 'm_lpp_best'], [baseeta +\"&& ph_n==1\",baseeta +\"&& ph_n==2\"],\n",
    "                          ['Z+jets','Zgamma'], (50,0,200),hist_config, {}, \n",
    "                          {'legend_entries':['Z+jets : 1 #gamma', ' Z#gamma : 2 #gamma, closest to m_{Z}']})"
   ]
  },
  {
   "cell_type": "markdown",
   "metadata": {},
   "source": [
    "### Solution: Choosing the reconstructed mass closest to Z\n",
    "\n",
    "- we have 1 leptons and 2 photon objects. There are 3 meaningful ways to form invariant mass: $e + \\gamma_{1}$,  $e + \\gamma_{2}$, $e + \\gamma_{1} + \\gamma_{2}$.\n",
    "- we can try to plot whichever of the three that is closest to the literature Z mass value\n",
    "\n",
    "- The plot shows a rather clean distribution of Z peak, with a shift to the right (<5GeV)"
   ]
  },
  {
   "cell_type": "code",
   "execution_count": 29,
   "metadata": {
    "collapsed": false
   },
   "outputs": [
    {
     "data": {
      "image/png": "[encoded data removed]",
      "text/plain": [
       "<ROOT.TCanvas object (\"basecan\") at 0x84b6000>"
      ]
     },
     "execution_count": 29,
     "metadata": {},
     "output_type": "execute_result"
    },
    {
     "name": "stderr",
     "output_type": "stream",
     "text": [
      "Info in <TCanvas::Print>: png file /tmp/tmpd_LEE_.png has been created\n"
     ]
    }
   ],
   "source": [
    "samples.curr_canvases['top'].cd()\n",
    "samples.samples[-2].hist.GetYaxis().UnZoom()\n",
    "ROOT.gPad.Modified(); ROOT.gPad.Update()\n",
    "samples.curr_canvases['base']"
   ]
  },
  {
   "cell_type": "markdown",
   "metadata": {},
   "source": [
    "## conclusion:\n",
    "\n",
    " - the 60GeV invariant mass blob is probably due to FSR photons. In GEN info this is marked as a photon coming from Z\n",
    " - The best way to reconstruct the mass (if we are given only Zgamma), is to try all combinations of $e+2\\gamma$ and choose the one closest to the Z mass. But we don't know how well this works with other samples as backgrounds.\n",
    " - how do we measure transfer factor as function of photon pt?\n",
    " - It may be simpler if we are to a different Z+X sample. What is X?\n"
   ]
  },
  {
   "cell_type": "markdown",
   "metadata": {},
   "source": [
    "Kak Wong, 2018-08-28"
   ]
  },
  {
   "cell_type": "markdown",
   "metadata": {},
   "source": [
    "\n",
    "\n",
    "\n",
    "### BACKUP\n",
    "\n"
   ]
  },
  {
   "cell_type": "markdown",
   "metadata": {},
   "source": [
    "### number of reconstructed photons in Zgamma"
   ]
  },
  {
   "cell_type": "code",
   "execution_count": 30,
   "metadata": {
    "collapsed": false
   },
   "outputs": [
    {
     "name": "stdout",
     "output_type": "stream",
     "text": [
      "removing sample m_lep_ph_11\n",
      "removing sample m_lep_ph_12\n",
      "removing sample ratioZgamma\n",
      "Creating hist for ph_n\n",
      "ph_n : ph_n>=1 && el_n==1 && abs(ph_eta[0])<1.4 \n",
      "(3, 0, 3)\n",
      "Draw grouped hist DYJetsToLL_M-50\n",
      "Creating hist for DYJetsToLL_M-50\n",
      "ph_n : ph_n>=1 && el_n==1 && abs(ph_eta[0])<1.4 \n",
      "(3, 0, 3)\n",
      "Scale DYJetsToLL_M-50 by 4.211637\n",
      "RUN GROUPING FOR ph_n\n",
      "['DYJetsToLL_M-50']\n",
      "Scale ph_n by 1.000000\n",
      "[<SampleManager.Sample instance at 0x7f86743d33f8>]\n",
      "WARNING : Found zero samples matching criteria!  Sample matching criteria were : \n",
      "{'name': '__AllStack__'}\n",
      "WARNING : Found zero samples matching criteria!  Sample matching criteria were : \n",
      "{'name': [], 'isActive': True}\n",
      "0.04\n"
     ]
    }
   ],
   "source": [
    "samples.CompareSelections('ph_n', [baseeta,],['Z+jets'], (3,0,3),{'xlabel': 'N_{#gamma}'},{},{'legend_entries':['Z#gamma']})\n"
   ]
  },
  {
   "cell_type": "code",
   "execution_count": 31,
   "metadata": {
    "collapsed": false
   },
   "outputs": [
    {
     "data": {
      "image/png": "[encoded data removed]",
      "text/plain": [
       "<ROOT.TCanvas object (\"base\") at 0xaef03f0>"
      ]
     },
     "execution_count": 31,
     "metadata": {},
     "output_type": "execute_result"
    },
    {
     "name": "stderr",
     "output_type": "stream",
     "text": [
      "Info in <TCanvas::Print>: png file /tmp/tmpT2E_pj.png has been created\n"
     ]
    }
   ],
   "source": [
    "samples.curr_canvases['base'].SetLogy()\n",
    "samples.curr_canvases['base']\n"
   ]
  },
  {
   "cell_type": "markdown",
   "metadata": {},
   "source": [
    "### number of true photons in Z+jets vs Z gamma\n"
   ]
  },
  {
   "cell_type": "code",
   "execution_count": 32,
   "metadata": {
    "collapsed": false
   },
   "outputs": [
    {
     "name": "stdout",
     "output_type": "stream",
     "text": [
      "removing sample ph_n\n",
      "Creating hist for trueph_n\n",
      "trueph_n : 1 \n",
      "(5, 0, 5)\n",
      "Draw grouped hist DYJetsToLL_M-50\n",
      "Creating hist for DYJetsToLL_M-50\n",
      "trueph_n : 1 \n",
      "(5, 0, 5)\n",
      "Scale DYJetsToLL_M-50 by 4.211637\n",
      "RUN GROUPING FOR trueph_n\n",
      "['DYJetsToLL_M-50']\n",
      "Scale trueph_n by 1.000000\n",
      "Creating hist for trueph_n_0\n",
      "trueph_n : 1 \n",
      "(5, 0, 5)\n",
      "Draw grouped hist ZGTo2LG\n",
      "Creating hist for ZGTo2LG\n",
      "trueph_n : 1 \n",
      "(5, 0, 5)\n",
      "Scale ZGTo2LG by 0.453931\n",
      "RUN GROUPING FOR trueph_n_0\n",
      "['ZGTo2LG']\n",
      "Scale trueph_n_0 by 1.000000\n",
      "[<SampleManager.Sample instance at 0x7f86743d36c8>, <SampleManager.Sample instance at 0x7f86743d3758>]\n",
      "WARNING : Found zero samples matching criteria!  Sample matching criteria were : \n",
      "{'name': '__AllStack__'}\n",
      "WARNING : Found zero samples matching criteria!  Sample matching criteria were : \n",
      "{'name': [], 'isActive': True}\n",
      "0.04\n"
     ]
    },
    {
     "data": {
      "image/png": "[encoded data removed]",
      "text/plain": [
       "<ROOT.TCanvas object (\"base\") at 0xaebf3e0>"
      ]
     },
     "execution_count": 32,
     "metadata": {},
     "output_type": "execute_result"
    },
    {
     "name": "stderr",
     "output_type": "stream",
     "text": [
      "Info in <TCanvas::Print>: png file /tmp/tmpyh3ett.png has been created\n"
     ]
    }
   ],
   "source": [
    "hist_config = {'colors' : [ROOT.kRed, ROOT.kBlack],'xlabel':'N_{#gamma, true}' }\n",
    "samples.CompareSelections(\"trueph_n\", [\"1\",\"1\"],['Z+jets','Zgamma'],(5,0,5),hist_config)\n",
    "samples.curr_canvases['base'].SetLogy()\n",
    "samples.curr_canvases['base']"
   ]
  },
  {
   "cell_type": "markdown",
   "metadata": {},
   "source": [
    "### $l+2\\gamma$ invariant mass vs lep + subleading photon"
   ]
  },
  {
   "cell_type": "code",
   "execution_count": 33,
   "metadata": {
    "collapsed": false
   },
   "outputs": [
    {
     "name": "stdout",
     "output_type": "stream",
     "text": [
      "removing sample trueph_n\n",
      "removing sample trueph_n_0\n",
      "Creating hist for Zgamma_0\n",
      "m_lep_ph_comb_leadLep[1]:m_lep_ph_ph : ph_n>=1 && el_n==1 && abs(ph_eta[0])<1.4&& ph_n==2 \n",
      "(160, 0, 400, 60, 0, 300)\n",
      "Draw grouped hist ZGTo2LG\n",
      "Creating hist for ZGTo2LG\n",
      "m_lep_ph_comb_leadLep[1]:m_lep_ph_ph : ph_n>=1 && el_n==1 && abs(ph_eta[0])<1.4&& ph_n==2 \n",
      "(160, 0, 400, 60, 0, 300)\n",
      "Scale ZGTo2LG by 0.453931\n",
      "RUN GROUPING FOR Zgamma_0\n",
      "['ZGTo2LG']\n",
      "Scale Zgamma_0 by 1.000000\n"
     ]
    }
   ],
   "source": [
    "samples.Draw2D( 'm_lep_ph_comb_leadLep[1]:m_lep_ph_ph', baseeta +\"&& ph_n==2\",\n",
    "               'Zgamma',(160,0,400,60,0,300),'COLZ','M(l,#gamma_{1},#gamma_{2})','M(l,#gamma_{2})')\n"
   ]
  },
  {
   "cell_type": "code",
   "execution_count": 34,
   "metadata": {
    "collapsed": false
   },
   "outputs": [
    {
     "data": {
      "image/png": "[encoded data removed]",
      "text/plain": [
       "<ROOT.TCanvas object (\"basecan0\") at 0x9bec7e0>"
      ]
     },
     "execution_count": 34,
     "metadata": {},
     "output_type": "execute_result"
    },
    {
     "name": "stderr",
     "output_type": "stream",
     "text": [
      "Info in <TCanvas::Print>: png file /tmp/tmp2EHiNf.png has been created\n"
     ]
    }
   ],
   "source": [
    "samples.samples[-1].hist.GetZaxis().SetRangeUser(0.4,300)\n",
    "samples.samples[-1].hist.SetStats(0)\n",
    "line =  ROOT.TLine(0,0,300,300);\n",
    "line.SetLineWidth(2);\n",
    "line.SetLineStyle(2);\n",
    "line.SetLineColor(46);\n",
    "line.Draw()\n",
    "samples.curr_canvases['base0'].SetLogz()\n",
    "samples.curr_canvases['base0']\n"
   ]
  },
  {
   "cell_type": "code",
   "execution_count": 35,
   "metadata": {
    "collapsed": false
   },
   "outputs": [
    {
     "name": "stdout",
     "output_type": "stream",
     "text": [
      "removing sample Zgamma_0\n",
      "Case when multiple vars is used is not implemented\n",
      "Creating hist for m_lep_ph_13\n",
      "m_lep_ph : ph_n>=1 && el_n==1 && abs(ph_eta[0])<1.4&& ph_n==2 \n",
      "(50, 0, 200)\n",
      "Draw grouped hist DYJetsToLL_M-50\n",
      "Creating hist for DYJetsToLL_M-50\n",
      "m_lep_ph : ph_n>=1 && el_n==1 && abs(ph_eta[0])<1.4&& ph_n==2 \n",
      "(50, 0, 200)\n",
      "Scale DYJetsToLL_M-50 by 4.211637\n",
      "RUN GROUPING FOR m_lep_ph_13\n",
      "['DYJetsToLL_M-50']\n",
      "Scale m_lep_ph_13 by 1.000000\n",
      "Creating hist for m_lep_ph_14\n",
      "m_lep_ph_comb_leadLep[0] : ph_n>=1 && el_n==1 && abs(ph_eta[0])<1.4&& ph_n==2 \n",
      "(50, 0, 200)\n",
      "Draw grouped hist ZGTo2LG\n",
      "Creating hist for ZGTo2LG\n",
      "m_lep_ph_comb_leadLep[0] : ph_n>=1 && el_n==1 && abs(ph_eta[0])<1.4&& ph_n==2 \n",
      "(50, 0, 200)\n",
      "Scale ZGTo2LG by 0.453931\n",
      "RUN GROUPING FOR m_lep_ph_14\n",
      "['ZGTo2LG']\n",
      "Scale m_lep_ph_14 by 1.000000\n",
      "Scale ratioZgamma by 1.000000\n",
      "[<SampleManager.Sample instance at 0x7f86743d3638>, <SampleManager.Sample instance at 0x7f86743c4c68>]\n",
      "WARNING : Found zero samples matching criteria!  Sample matching criteria were : \n",
      "{'name': '__AllStack__'}\n",
      "WARNING : Found zero samples matching criteria!  Sample matching criteria were : \n",
      "{'name': [], 'isActive': True}\n",
      "0.04\n"
     ]
    }
   ],
   "source": [
    "hist_config = {'colors' : [ROOT.kBlue, ROOT.kMagenta], 'xlabel':'m(l,#gamma)',\n",
    "               'rlabel':'blue/magenta' ,\n",
    "               'doratio' : 1,  'normalize':1}\n",
    "samples.CompareSelections([ 'm_lep_ph', 'm_lep_ph_comb_leadLep[0]'], [baseeta +\"&& ph_n==2\",baseeta +\"&& ph_n==2\"],['Z+jets','Zgamma'], (50,0,200),\n",
    "                          hist_config, {}, {'legend_entries':['m_lep_ph', ' m_lep_ph_comb_leadLep[0]']})"
   ]
  },
  {
   "cell_type": "markdown",
   "metadata": {},
   "source": [
    "### not sure what is the difference with comb_leadLep"
   ]
  },
  {
   "cell_type": "code",
   "execution_count": 36,
   "metadata": {
    "collapsed": true
   },
   "outputs": [],
   "source": [
    "samples.curr_canvases['top'].cd()\n",
    "samples.samples[-2].hist.GetYaxis().UnZoom()\n",
    "ROOT.gPad.Modified()\n",
    "ROOT.gPad.Update()"
   ]
  },
  {
   "cell_type": "code",
   "execution_count": 37,
   "metadata": {
    "collapsed": false
   },
   "outputs": [
    {
     "data": {
      "image/png": "[encoded data removed]",
      "text/plain": [
       "<ROOT.TCanvas object (\"basecan\") at 0x852c7a0>"
      ]
     },
     "execution_count": 37,
     "metadata": {},
     "output_type": "execute_result"
    },
    {
     "name": "stderr",
     "output_type": "stream",
     "text": [
      "Info in <TCanvas::Print>: png file /tmp/tmpLdgDZl.png has been created\n"
     ]
    }
   ],
   "source": [
    "samples.curr_canvases['base']\n"
   ]
  },
  {
   "cell_type": "code",
   "execution_count": null,
   "metadata": {
    "collapsed": true
   },
   "outputs": [],
   "source": []
  },
  {
   "cell_type": "code",
   "execution_count": 38,
   "metadata": {
    "collapsed": false,
    "scrolled": true
   },
   "outputs": [
    {
     "name": "stdout",
     "output_type": "stream",
     "text": [
      "removing sample m_lep_ph_13\n",
      "removing sample m_lep_ph_14\n",
      "removing sample ratioZgamma\n",
      "Creating hist for trueph_pt\n",
      "trueph_pt[0] : 1 \n",
      "(50, 0, 200)\n",
      "Draw grouped hist DYJetsToLL_M-50\n",
      "Creating hist for DYJetsToLL_M-50\n",
      "trueph_pt[0] : 1 \n",
      "(50, 0, 200)\n",
      "Scale DYJetsToLL_M-50 by 4.211637\n",
      "RUN GROUPING FOR trueph_pt\n",
      "['DYJetsToLL_M-50']\n",
      "Scale trueph_pt by 1.000000\n",
      "Creating hist for trueph_pt_0\n",
      "trueph_pt[0] : 1 \n",
      "(50, 0, 200)\n",
      "Draw grouped hist ZGTo2LG\n",
      "Creating hist for ZGTo2LG\n",
      "trueph_pt[0] : 1 \n",
      "(50, 0, 200)\n",
      "Scale ZGTo2LG by 0.453931\n",
      "RUN GROUPING FOR trueph_pt_0\n",
      "['ZGTo2LG']\n",
      "Scale trueph_pt_0 by 1.000000\n",
      "Scale ratioZgamma by 1.000000\n",
      "[<SampleManager.Sample instance at 0x7f86743c4c68>, <SampleManager.Sample instance at 0x7f86743d3c20>]\n",
      "WARNING : Found zero samples matching criteria!  Sample matching criteria were : \n",
      "{'name': '__AllStack__'}\n",
      "WARNING : Found zero samples matching criteria!  Sample matching criteria were : \n",
      "{'name': [], 'isActive': True}\n",
      "0.04\n"
     ]
    }
   ],
   "source": [
    "hist_config = {'colors' : [ROOT.kBlue, ROOT.kMagenta], 'xlabel':'real p_{T}(#gamma)',\n",
    "               'rlabel':'blue/magenta' , 'doratio' : 1,  'normalize':1}\n",
    "samples.CompareSelections('trueph_pt[0]', [\"1\",\"1\"],['Z+jets','Zgamma'], (50,0,200),\n",
    "                          hist_config, {}, {'legend_entries':[ 'Z+jets',' Z #gamma ']})"
   ]
  },
  {
   "cell_type": "markdown",
   "metadata": {},
   "source": [
    "### distribution of gen photon transverse momentum"
   ]
  },
  {
   "cell_type": "code",
   "execution_count": 39,
   "metadata": {
    "collapsed": false
   },
   "outputs": [
    {
     "data": {
      "image/png": "[encoded data removed]",
      "text/plain": [
       "<ROOT.TCanvas object (\"basecan\") at 0xb6e2150>"
      ]
     },
     "execution_count": 39,
     "metadata": {},
     "output_type": "execute_result"
    },
    {
     "name": "stderr",
     "output_type": "stream",
     "text": [
      "Info in <TCanvas::Print>: png file /tmp/tmp937m8t.png has been created\n"
     ]
    }
   ],
   "source": [
    "samples.curr_canvases['top'].cd()\n",
    "samples.curr_canvases['top'].SetLogy()\n",
    "samples.samples[-3].hist.GetYaxis().UnZoom()\n",
    "ROOT.gPad.Modified(); ROOT.gPad.Update()\n",
    "samples.curr_canvases['base']\n"
   ]
  },
  {
   "cell_type": "code",
   "execution_count": 40,
   "metadata": {
    "collapsed": false,
    "scrolled": true
   },
   "outputs": [
    {
     "name": "stdout",
     "output_type": "stream",
     "text": [
      "removing sample trueph_pt\n",
      "removing sample trueph_pt_0\n",
      "removing sample ratioZgamma\n",
      "Creating hist for truelep_pt\n",
      "truelep_pt : 1 \n",
      "(50, 0, 200)\n",
      "Draw grouped hist DYJetsToLL_M-50\n",
      "Creating hist for DYJetsToLL_M-50\n",
      "truelep_pt : 1 \n",
      "(50, 0, 200)\n",
      "Scale DYJetsToLL_M-50 by 4.211637\n",
      "RUN GROUPING FOR truelep_pt\n",
      "['DYJetsToLL_M-50']\n",
      "Scale truelep_pt by 1.000000\n",
      "Creating hist for truelep_pt_0\n",
      "truelep_pt : 1 \n",
      "(50, 0, 200)\n",
      "Draw grouped hist ZGTo2LG\n",
      "Creating hist for ZGTo2LG\n",
      "truelep_pt : 1 \n",
      "(50, 0, 200)\n",
      "Scale ZGTo2LG by 0.453931\n",
      "RUN GROUPING FOR truelep_pt_0\n",
      "['ZGTo2LG']\n",
      "Scale truelep_pt_0 by 1.000000\n",
      "Scale ratioZgamma by 1.000000\n",
      "[<SampleManager.Sample instance at 0x7f86743d93b0>, <SampleManager.Sample instance at 0x7f86743d3758>]\n",
      "WARNING : Found zero samples matching criteria!  Sample matching criteria were : \n",
      "{'name': '__AllStack__'}\n",
      "WARNING : Found zero samples matching criteria!  Sample matching criteria were : \n",
      "{'name': [], 'isActive': True}\n",
      "0.04\n"
     ]
    }
   ],
   "source": [
    "hist_config = {'colors' : [ROOT.kBlue, ROOT.kMagenta], 'xlabel':'real p_{T}(e)',\n",
    "               'rlabel':'blue/magenta' , 'doratio' : 1,  'normalize':1}\n",
    "samples.CompareSelections('truelep_pt', [\"1\",\"1\"],['Z+jets','Zgamma'], (50,0,200),\n",
    "                          hist_config, {}, {'legend_entries':[ ' Z+jets','Z#gamma ']})"
   ]
  },
  {
   "cell_type": "markdown",
   "metadata": {},
   "source": [
    "### distribution of gen electron transverse momentum"
   ]
  },
  {
   "cell_type": "code",
   "execution_count": 41,
   "metadata": {
    "collapsed": false
   },
   "outputs": [
    {
     "data": {
      "image/png": "[encoded data removed]",
      "text/plain": [
       "<ROOT.TCanvas object (\"basecan\") at 0x9b17590>"
      ]
     },
     "execution_count": 41,
     "metadata": {},
     "output_type": "execute_result"
    },
    {
     "name": "stderr",
     "output_type": "stream",
     "text": [
      "Info in <TCanvas::Print>: png file /tmp/tmpKVIqGY.png has been created\n"
     ]
    }
   ],
   "source": [
    "samples.curr_canvases['top'].cd()\n",
    "samples.curr_canvases['top'].SetLogy()\n",
    "samples.samples[-3].hist.GetYaxis().UnZoom()\n",
    "ROOT.gPad.Modified(); ROOT.gPad.Update()\n",
    "samples.curr_canvases['base']\n"
   ]
  },
  {
   "cell_type": "code",
   "execution_count": 42,
   "metadata": {
    "collapsed": false,
    "scrolled": true
   },
   "outputs": [
    {
     "name": "stdout",
     "output_type": "stream",
     "text": [
      "removing sample truelep_pt\n",
      "removing sample truelep_pt_0\n",
      "removing sample ratioZgamma\n",
      "Case when multiple vars is used is not implemented\n",
      "Creating hist for truelep_pt_1\n",
      "truelep_pt : 1 \n",
      "(50, 0, 200)\n",
      "Draw grouped hist ZGTo2LG\n",
      "Creating hist for ZGTo2LG\n",
      "truelep_pt : 1 \n",
      "(50, 0, 200)\n",
      "Scale ZGTo2LG by 0.453931\n",
      "RUN GROUPING FOR truelep_pt_1\n",
      "['ZGTo2LG']\n",
      "Scale truelep_pt_1 by 1.000000\n",
      "Creating hist for truelep_pt_2\n",
      "el_pt : 1 \n",
      "(50, 0, 200)\n",
      "Draw grouped hist ZGTo2LG\n",
      "Creating hist for ZGTo2LG\n",
      "el_pt : 1 \n",
      "(50, 0, 200)\n",
      "Scale ZGTo2LG by 0.453931\n",
      "RUN GROUPING FOR truelep_pt_2\n",
      "['ZGTo2LG']\n",
      "Scale truelep_pt_2 by 1.000000\n",
      "Scale ratioZgamma by 1.000000\n",
      "[<SampleManager.Sample instance at 0x7f86743d93b0>, <SampleManager.Sample instance at 0x7f86743d3b48>]\n",
      "WARNING : Found zero samples matching criteria!  Sample matching criteria were : \n",
      "{'name': '__AllStack__'}\n",
      "WARNING : Found zero samples matching criteria!  Sample matching criteria were : \n",
      "{'name': [], 'isActive': True}\n",
      "0.04\n"
     ]
    }
   ],
   "source": [
    "hist_config = {'colors' : [ROOT.kBlue, ROOT.kMagenta], 'xlabel':' p_{T}(e)',\n",
    "               'rlabel':'blue/magenta' , 'doratio' : 1,  'normalize':1}\n",
    "samples.CompareSelections(['truelep_pt','el_pt'], [\"1\",\"1\"],['Zgamma']*2, (50,0,200),\n",
    "                          hist_config, {}, {'legend_entries':[ 'Z#gamma true e ','Z#gamma reco e']})"
   ]
  },
  {
   "cell_type": "markdown",
   "metadata": {},
   "source": [
    "### true vs reco electron transverse momentum in Z gamma\n",
    "- we lost a bunch of electrons less than 30 GeV"
   ]
  },
  {
   "cell_type": "code",
   "execution_count": 43,
   "metadata": {
    "collapsed": false
   },
   "outputs": [
    {
     "data": {
      "image/png": "[encoded data removed]",
      "text/plain": [
       "<ROOT.TCanvas object (\"basecan\") at 0xaec99e0>"
      ]
     },
     "execution_count": 43,
     "metadata": {},
     "output_type": "execute_result"
    },
    {
     "name": "stderr",
     "output_type": "stream",
     "text": [
      "Info in <TCanvas::Print>: png file /tmp/tmpZW_u2r.png has been created\n"
     ]
    }
   ],
   "source": [
    "samples.curr_canvases['top'].cd()\n",
    "samples.curr_canvases['top'].SetLogy()\n",
    "samples.samples[-3].hist.GetYaxis().UnZoom()\n",
    "ROOT.gPad.Modified(); ROOT.gPad.Update()\n",
    "samples.curr_canvases['base']\n"
   ]
  },
  {
   "cell_type": "code",
   "execution_count": null,
   "metadata": {
    "collapsed": true
   },
   "outputs": [],
   "source": []
  }
 ],
 "metadata": {
  "kernelspec": {
   "display_name": "Python 2",
   "language": "python",
   "name": "python2"
  },
  "language_info": {
   "codemirror_mode": {
    "name": "ipython",
    "version": 2
   },
   "file_extension": ".py",
   "mimetype": "text/x-python",
   "name": "python",
   "nbconvert_exporter": "python",
   "pygments_lexer": "ipython2",
   "version": "2.7.13+"
  }
 },
 "nbformat": 4,
 "nbformat_minor": 2
}
